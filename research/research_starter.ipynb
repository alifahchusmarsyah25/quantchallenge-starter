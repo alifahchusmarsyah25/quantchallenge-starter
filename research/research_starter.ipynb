{
 "cells": [
  {
   "cell_type": "markdown",
   "id": "9b572f3e",
   "metadata": {},
   "source": [
    "# Getting Started: Market Research\n",
    "This Jupyter notebook is a quick demonstration on how to get started on the market research section."
   ]
  },
  {
   "cell_type": "markdown",
   "id": "0d9a964a",
   "metadata": {},
   "source": [
    "## 1) Download Data\n",
    "Please download the train and test data and place it within the ./research/data path. If you've placed it in the correct place, you should see the following cell work:"
   ]
  },
  {
   "cell_type": "code",
   "execution_count": 2,
   "id": "7bdf4114",
   "metadata": {},
   "outputs": [
    {
     "name": "stdout",
     "output_type": "stream",
     "text": [
      "   time         A         B         C         D         E         F         G  \\\n",
      "0     0  0.207366 -0.159951 -0.634176 -0.580962 -0.266505  0.060173 -0.475257   \n",
      "1     1  0.188828 -0.265508  0.042143 -0.550442 -0.132319 -0.185219  0.028295   \n",
      "2     2 -0.144261 -0.577142 -0.214634 -0.747391 -0.184255 -0.464831 -0.085181   \n",
      "3     3  0.208982 -0.310449  0.513708 -0.562868  0.742308 -0.305487  0.762246   \n",
      "4     4  0.093320 -0.358156  0.173188 -0.687296 -0.161461 -0.116062 -0.245748   \n",
      "\n",
      "          H         I         J         K         L         M         N  \\\n",
      "0 -1.486516 -0.332594 -0.671466 -0.226149 -0.187624 -0.780237 -0.785965   \n",
      "1  0.093210 -0.518139 -0.251917 -0.347845 -0.359069 -0.161254  0.020401   \n",
      "2  0.700449 -0.603438  0.197773 -0.566696 -0.580799  0.202726  0.135261   \n",
      "3  1.363020 -0.384575  0.525556 -0.348514 -0.428099  0.548993  0.471031   \n",
      "4  0.863372 -0.655588 -0.263358 -0.557428 -0.481214  0.083602  0.003087   \n",
      "\n",
      "         Y1        Y2  \n",
      "0 -0.935902 -0.310081  \n",
      "1 -0.089707 -0.305374  \n",
      "2 -0.077855 -0.631485  \n",
      "3  0.941271 -0.535212  \n",
      "4 -0.039582 -0.490561  \n",
      "   id   time         A         B         C         D         E         F  \\\n",
      "0   1  80005 -0.371888 -0.273485  0.538326 -0.377691  1.283159 -0.286957   \n",
      "1   2  80006 -0.459598 -0.514915 -0.235153 -0.262379  0.044343 -0.429888   \n",
      "2   3  80007 -0.381609 -0.265023 -0.629131 -0.186288 -0.146302 -0.357875   \n",
      "3   4  80008 -0.371423 -0.106279 -1.142702 -0.200429 -0.176918 -0.354048   \n",
      "4   5  80009 -0.309393 -0.015144 -1.099371 -0.405841 -0.239068 -0.403306   \n",
      "\n",
      "          G         H         I         J         K         L         M  \\\n",
      "0  0.439415  0.020831 -0.295480  0.117643 -0.369900 -0.378902  0.470166   \n",
      "1 -0.059034 -0.725713 -0.407681 -0.255702 -0.461901 -0.249516 -0.216745   \n",
      "2  0.114223 -0.359341 -0.190712 -0.404083 -0.272153 -0.193158 -0.679351   \n",
      "3 -0.230199 -0.305226  0.185342 -0.333010  0.518678 -0.028775 -0.610620   \n",
      "4 -0.983134 -1.067315 -0.105132 -0.809948  0.185197 -0.150254 -1.080190   \n",
      "\n",
      "          N  \n",
      "0  0.411796  \n",
      "1 -0.328599  \n",
      "2 -0.476331  \n",
      "3 -0.846772  \n",
      "4 -0.685936  \n"
     ]
    }
   ],
   "source": [
    "import pandas as pd\n",
    "\n",
    "train_data = pd.read_csv('./data/train.csv')\n",
    "test_data = pd.read_csv('./data/test.csv')\n",
    "\n",
    "print(train_data.head())\n",
    "print(test_data.head())"
   ]
  },
  {
   "cell_type": "markdown",
   "id": "ecfe033c",
   "metadata": {},
   "source": [
    "###  Personal: Check Data Condition"
   ]
  },
  {
   "cell_type": "code",
   "execution_count": 5,
   "id": "64b5907f",
   "metadata": {},
   "outputs": [
    {
     "data": {
      "text/html": [
       "<div>\n",
       "<style scoped>\n",
       "    .dataframe tbody tr th:only-of-type {\n",
       "        vertical-align: middle;\n",
       "    }\n",
       "\n",
       "    .dataframe tbody tr th {\n",
       "        vertical-align: top;\n",
       "    }\n",
       "\n",
       "    .dataframe thead th {\n",
       "        text-align: right;\n",
       "    }\n",
       "</style>\n",
       "<table border=\"1\" class=\"dataframe\">\n",
       "  <thead>\n",
       "    <tr style=\"text-align: right;\">\n",
       "      <th></th>\n",
       "      <th>time</th>\n",
       "      <th>A</th>\n",
       "      <th>B</th>\n",
       "      <th>C</th>\n",
       "      <th>D</th>\n",
       "      <th>E</th>\n",
       "      <th>F</th>\n",
       "      <th>G</th>\n",
       "      <th>H</th>\n",
       "      <th>I</th>\n",
       "      <th>J</th>\n",
       "      <th>K</th>\n",
       "      <th>L</th>\n",
       "      <th>M</th>\n",
       "      <th>N</th>\n",
       "      <th>Y1</th>\n",
       "      <th>Y2</th>\n",
       "    </tr>\n",
       "  </thead>\n",
       "  <tbody>\n",
       "    <tr>\n",
       "      <th>0</th>\n",
       "      <td>0</td>\n",
       "      <td>0.207366</td>\n",
       "      <td>-0.159951</td>\n",
       "      <td>-0.634176</td>\n",
       "      <td>-0.580962</td>\n",
       "      <td>-0.266505</td>\n",
       "      <td>0.060173</td>\n",
       "      <td>-0.475257</td>\n",
       "      <td>-1.486516</td>\n",
       "      <td>-0.332594</td>\n",
       "      <td>-0.671466</td>\n",
       "      <td>-0.226149</td>\n",
       "      <td>-0.187624</td>\n",
       "      <td>-0.780237</td>\n",
       "      <td>-0.785965</td>\n",
       "      <td>-0.935902</td>\n",
       "      <td>-0.310081</td>\n",
       "    </tr>\n",
       "    <tr>\n",
       "      <th>1</th>\n",
       "      <td>1</td>\n",
       "      <td>0.188828</td>\n",
       "      <td>-0.265508</td>\n",
       "      <td>0.042143</td>\n",
       "      <td>-0.550442</td>\n",
       "      <td>-0.132319</td>\n",
       "      <td>-0.185219</td>\n",
       "      <td>0.028295</td>\n",
       "      <td>0.093210</td>\n",
       "      <td>-0.518139</td>\n",
       "      <td>-0.251917</td>\n",
       "      <td>-0.347845</td>\n",
       "      <td>-0.359069</td>\n",
       "      <td>-0.161254</td>\n",
       "      <td>0.020401</td>\n",
       "      <td>-0.089707</td>\n",
       "      <td>-0.305374</td>\n",
       "    </tr>\n",
       "    <tr>\n",
       "      <th>2</th>\n",
       "      <td>2</td>\n",
       "      <td>-0.144261</td>\n",
       "      <td>-0.577142</td>\n",
       "      <td>-0.214634</td>\n",
       "      <td>-0.747391</td>\n",
       "      <td>-0.184255</td>\n",
       "      <td>-0.464831</td>\n",
       "      <td>-0.085181</td>\n",
       "      <td>0.700449</td>\n",
       "      <td>-0.603438</td>\n",
       "      <td>0.197773</td>\n",
       "      <td>-0.566696</td>\n",
       "      <td>-0.580799</td>\n",
       "      <td>0.202726</td>\n",
       "      <td>0.135261</td>\n",
       "      <td>-0.077855</td>\n",
       "      <td>-0.631485</td>\n",
       "    </tr>\n",
       "    <tr>\n",
       "      <th>3</th>\n",
       "      <td>3</td>\n",
       "      <td>0.208982</td>\n",
       "      <td>-0.310449</td>\n",
       "      <td>0.513708</td>\n",
       "      <td>-0.562868</td>\n",
       "      <td>0.742308</td>\n",
       "      <td>-0.305487</td>\n",
       "      <td>0.762246</td>\n",
       "      <td>1.363020</td>\n",
       "      <td>-0.384575</td>\n",
       "      <td>0.525556</td>\n",
       "      <td>-0.348514</td>\n",
       "      <td>-0.428099</td>\n",
       "      <td>0.548993</td>\n",
       "      <td>0.471031</td>\n",
       "      <td>0.941271</td>\n",
       "      <td>-0.535212</td>\n",
       "    </tr>\n",
       "    <tr>\n",
       "      <th>4</th>\n",
       "      <td>4</td>\n",
       "      <td>0.093320</td>\n",
       "      <td>-0.358156</td>\n",
       "      <td>0.173188</td>\n",
       "      <td>-0.687296</td>\n",
       "      <td>-0.161461</td>\n",
       "      <td>-0.116062</td>\n",
       "      <td>-0.245748</td>\n",
       "      <td>0.863372</td>\n",
       "      <td>-0.655588</td>\n",
       "      <td>-0.263358</td>\n",
       "      <td>-0.557428</td>\n",
       "      <td>-0.481214</td>\n",
       "      <td>0.083602</td>\n",
       "      <td>0.003087</td>\n",
       "      <td>-0.039582</td>\n",
       "      <td>-0.490561</td>\n",
       "    </tr>\n",
       "  </tbody>\n",
       "</table>\n",
       "</div>"
      ],
      "text/plain": [
       "   time         A         B         C         D         E         F         G  \\\n",
       "0     0  0.207366 -0.159951 -0.634176 -0.580962 -0.266505  0.060173 -0.475257   \n",
       "1     1  0.188828 -0.265508  0.042143 -0.550442 -0.132319 -0.185219  0.028295   \n",
       "2     2 -0.144261 -0.577142 -0.214634 -0.747391 -0.184255 -0.464831 -0.085181   \n",
       "3     3  0.208982 -0.310449  0.513708 -0.562868  0.742308 -0.305487  0.762246   \n",
       "4     4  0.093320 -0.358156  0.173188 -0.687296 -0.161461 -0.116062 -0.245748   \n",
       "\n",
       "          H         I         J         K         L         M         N  \\\n",
       "0 -1.486516 -0.332594 -0.671466 -0.226149 -0.187624 -0.780237 -0.785965   \n",
       "1  0.093210 -0.518139 -0.251917 -0.347845 -0.359069 -0.161254  0.020401   \n",
       "2  0.700449 -0.603438  0.197773 -0.566696 -0.580799  0.202726  0.135261   \n",
       "3  1.363020 -0.384575  0.525556 -0.348514 -0.428099  0.548993  0.471031   \n",
       "4  0.863372 -0.655588 -0.263358 -0.557428 -0.481214  0.083602  0.003087   \n",
       "\n",
       "         Y1        Y2  \n",
       "0 -0.935902 -0.310081  \n",
       "1 -0.089707 -0.305374  \n",
       "2 -0.077855 -0.631485  \n",
       "3  0.941271 -0.535212  \n",
       "4 -0.039582 -0.490561  "
      ]
     },
     "execution_count": 5,
     "metadata": {},
     "output_type": "execute_result"
    }
   ],
   "source": [
    "train_data.head()"
   ]
  },
  {
   "cell_type": "code",
   "execution_count": 9,
   "id": "59214783",
   "metadata": {},
   "outputs": [
    {
     "data": {
      "text/html": [
       "<div>\n",
       "<style scoped>\n",
       "    .dataframe tbody tr th:only-of-type {\n",
       "        vertical-align: middle;\n",
       "    }\n",
       "\n",
       "    .dataframe tbody tr th {\n",
       "        vertical-align: top;\n",
       "    }\n",
       "\n",
       "    .dataframe thead th {\n",
       "        text-align: right;\n",
       "    }\n",
       "</style>\n",
       "<table border=\"1\" class=\"dataframe\">\n",
       "  <thead>\n",
       "    <tr style=\"text-align: right;\">\n",
       "      <th></th>\n",
       "      <th>id</th>\n",
       "      <th>time</th>\n",
       "      <th>A</th>\n",
       "      <th>B</th>\n",
       "      <th>C</th>\n",
       "      <th>D</th>\n",
       "      <th>E</th>\n",
       "      <th>F</th>\n",
       "      <th>G</th>\n",
       "      <th>H</th>\n",
       "      <th>I</th>\n",
       "      <th>J</th>\n",
       "      <th>K</th>\n",
       "      <th>L</th>\n",
       "      <th>M</th>\n",
       "      <th>N</th>\n",
       "    </tr>\n",
       "  </thead>\n",
       "  <tbody>\n",
       "    <tr>\n",
       "      <th>0</th>\n",
       "      <td>1</td>\n",
       "      <td>80005</td>\n",
       "      <td>-0.371888</td>\n",
       "      <td>-0.273485</td>\n",
       "      <td>0.538326</td>\n",
       "      <td>-0.377691</td>\n",
       "      <td>1.283159</td>\n",
       "      <td>-0.286957</td>\n",
       "      <td>0.439415</td>\n",
       "      <td>0.020831</td>\n",
       "      <td>-0.295480</td>\n",
       "      <td>0.117643</td>\n",
       "      <td>-0.369900</td>\n",
       "      <td>-0.378902</td>\n",
       "      <td>0.470166</td>\n",
       "      <td>0.411796</td>\n",
       "    </tr>\n",
       "    <tr>\n",
       "      <th>1</th>\n",
       "      <td>2</td>\n",
       "      <td>80006</td>\n",
       "      <td>-0.459598</td>\n",
       "      <td>-0.514915</td>\n",
       "      <td>-0.235153</td>\n",
       "      <td>-0.262379</td>\n",
       "      <td>0.044343</td>\n",
       "      <td>-0.429888</td>\n",
       "      <td>-0.059034</td>\n",
       "      <td>-0.725713</td>\n",
       "      <td>-0.407681</td>\n",
       "      <td>-0.255702</td>\n",
       "      <td>-0.461901</td>\n",
       "      <td>-0.249516</td>\n",
       "      <td>-0.216745</td>\n",
       "      <td>-0.328599</td>\n",
       "    </tr>\n",
       "    <tr>\n",
       "      <th>2</th>\n",
       "      <td>3</td>\n",
       "      <td>80007</td>\n",
       "      <td>-0.381609</td>\n",
       "      <td>-0.265023</td>\n",
       "      <td>-0.629131</td>\n",
       "      <td>-0.186288</td>\n",
       "      <td>-0.146302</td>\n",
       "      <td>-0.357875</td>\n",
       "      <td>0.114223</td>\n",
       "      <td>-0.359341</td>\n",
       "      <td>-0.190712</td>\n",
       "      <td>-0.404083</td>\n",
       "      <td>-0.272153</td>\n",
       "      <td>-0.193158</td>\n",
       "      <td>-0.679351</td>\n",
       "      <td>-0.476331</td>\n",
       "    </tr>\n",
       "    <tr>\n",
       "      <th>3</th>\n",
       "      <td>4</td>\n",
       "      <td>80008</td>\n",
       "      <td>-0.371423</td>\n",
       "      <td>-0.106279</td>\n",
       "      <td>-1.142702</td>\n",
       "      <td>-0.200429</td>\n",
       "      <td>-0.176918</td>\n",
       "      <td>-0.354048</td>\n",
       "      <td>-0.230199</td>\n",
       "      <td>-0.305226</td>\n",
       "      <td>0.185342</td>\n",
       "      <td>-0.333010</td>\n",
       "      <td>0.518678</td>\n",
       "      <td>-0.028775</td>\n",
       "      <td>-0.610620</td>\n",
       "      <td>-0.846772</td>\n",
       "    </tr>\n",
       "    <tr>\n",
       "      <th>4</th>\n",
       "      <td>5</td>\n",
       "      <td>80009</td>\n",
       "      <td>-0.309393</td>\n",
       "      <td>-0.015144</td>\n",
       "      <td>-1.099371</td>\n",
       "      <td>-0.405841</td>\n",
       "      <td>-0.239068</td>\n",
       "      <td>-0.403306</td>\n",
       "      <td>-0.983134</td>\n",
       "      <td>-1.067315</td>\n",
       "      <td>-0.105132</td>\n",
       "      <td>-0.809948</td>\n",
       "      <td>0.185197</td>\n",
       "      <td>-0.150254</td>\n",
       "      <td>-1.080190</td>\n",
       "      <td>-0.685936</td>\n",
       "    </tr>\n",
       "  </tbody>\n",
       "</table>\n",
       "</div>"
      ],
      "text/plain": [
       "   id   time         A         B         C         D         E         F  \\\n",
       "0   1  80005 -0.371888 -0.273485  0.538326 -0.377691  1.283159 -0.286957   \n",
       "1   2  80006 -0.459598 -0.514915 -0.235153 -0.262379  0.044343 -0.429888   \n",
       "2   3  80007 -0.381609 -0.265023 -0.629131 -0.186288 -0.146302 -0.357875   \n",
       "3   4  80008 -0.371423 -0.106279 -1.142702 -0.200429 -0.176918 -0.354048   \n",
       "4   5  80009 -0.309393 -0.015144 -1.099371 -0.405841 -0.239068 -0.403306   \n",
       "\n",
       "          G         H         I         J         K         L         M  \\\n",
       "0  0.439415  0.020831 -0.295480  0.117643 -0.369900 -0.378902  0.470166   \n",
       "1 -0.059034 -0.725713 -0.407681 -0.255702 -0.461901 -0.249516 -0.216745   \n",
       "2  0.114223 -0.359341 -0.190712 -0.404083 -0.272153 -0.193158 -0.679351   \n",
       "3 -0.230199 -0.305226  0.185342 -0.333010  0.518678 -0.028775 -0.610620   \n",
       "4 -0.983134 -1.067315 -0.105132 -0.809948  0.185197 -0.150254 -1.080190   \n",
       "\n",
       "          N  \n",
       "0  0.411796  \n",
       "1 -0.328599  \n",
       "2 -0.476331  \n",
       "3 -0.846772  \n",
       "4 -0.685936  "
      ]
     },
     "execution_count": 9,
     "metadata": {},
     "output_type": "execute_result"
    }
   ],
   "source": [
    "test_data.head()"
   ]
  },
  {
   "cell_type": "code",
   "execution_count": 6,
   "id": "f8eb902e",
   "metadata": {},
   "outputs": [
    {
     "data": {
      "text/html": [
       "<div>\n",
       "<style scoped>\n",
       "    .dataframe tbody tr th:only-of-type {\n",
       "        vertical-align: middle;\n",
       "    }\n",
       "\n",
       "    .dataframe tbody tr th {\n",
       "        vertical-align: top;\n",
       "    }\n",
       "\n",
       "    .dataframe thead th {\n",
       "        text-align: right;\n",
       "    }\n",
       "</style>\n",
       "<table border=\"1\" class=\"dataframe\">\n",
       "  <thead>\n",
       "    <tr style=\"text-align: right;\">\n",
       "      <th></th>\n",
       "      <th>time</th>\n",
       "      <th>A</th>\n",
       "      <th>B</th>\n",
       "      <th>C</th>\n",
       "      <th>D</th>\n",
       "      <th>E</th>\n",
       "      <th>F</th>\n",
       "      <th>G</th>\n",
       "      <th>H</th>\n",
       "      <th>I</th>\n",
       "      <th>J</th>\n",
       "      <th>K</th>\n",
       "      <th>L</th>\n",
       "      <th>M</th>\n",
       "      <th>N</th>\n",
       "      <th>Y1</th>\n",
       "      <th>Y2</th>\n",
       "    </tr>\n",
       "  </thead>\n",
       "  <tbody>\n",
       "    <tr>\n",
       "      <th>count</th>\n",
       "      <td>80000.000000</td>\n",
       "      <td>80000.000000</td>\n",
       "      <td>80000.000000</td>\n",
       "      <td>80000.000000</td>\n",
       "      <td>80000.000000</td>\n",
       "      <td>80000.000000</td>\n",
       "      <td>80000.000000</td>\n",
       "      <td>80000.000000</td>\n",
       "      <td>80000.000000</td>\n",
       "      <td>80000.000000</td>\n",
       "      <td>80000.000000</td>\n",
       "      <td>80000.000000</td>\n",
       "      <td>80000.000000</td>\n",
       "      <td>80000.000000</td>\n",
       "      <td>80000.000000</td>\n",
       "      <td>80000.000000</td>\n",
       "      <td>80000.000000</td>\n",
       "    </tr>\n",
       "    <tr>\n",
       "      <th>mean</th>\n",
       "      <td>40003.926125</td>\n",
       "      <td>0.068979</td>\n",
       "      <td>-0.004927</td>\n",
       "      <td>-0.000802</td>\n",
       "      <td>0.031913</td>\n",
       "      <td>-0.000292</td>\n",
       "      <td>0.063241</td>\n",
       "      <td>-0.000050</td>\n",
       "      <td>-0.002554</td>\n",
       "      <td>0.070158</td>\n",
       "      <td>-0.000028</td>\n",
       "      <td>-0.000803</td>\n",
       "      <td>0.018752</td>\n",
       "      <td>-0.000636</td>\n",
       "      <td>0.000849</td>\n",
       "      <td>-0.002807</td>\n",
       "      <td>-0.061172</td>\n",
       "    </tr>\n",
       "    <tr>\n",
       "      <th>std</th>\n",
       "      <td>23095.035045</td>\n",
       "      <td>1.078271</td>\n",
       "      <td>1.031053</td>\n",
       "      <td>1.010158</td>\n",
       "      <td>1.047274</td>\n",
       "      <td>1.036233</td>\n",
       "      <td>1.069182</td>\n",
       "      <td>1.036270</td>\n",
       "      <td>1.040708</td>\n",
       "      <td>1.064972</td>\n",
       "      <td>1.015265</td>\n",
       "      <td>1.038007</td>\n",
       "      <td>1.057857</td>\n",
       "      <td>1.012744</td>\n",
       "      <td>1.025396</td>\n",
       "      <td>0.970655</td>\n",
       "      <td>0.923702</td>\n",
       "    </tr>\n",
       "    <tr>\n",
       "      <th>min</th>\n",
       "      <td>0.000000</td>\n",
       "      <td>-0.642788</td>\n",
       "      <td>-0.771179</td>\n",
       "      <td>-30.068210</td>\n",
       "      <td>-0.899105</td>\n",
       "      <td>-29.530710</td>\n",
       "      <td>-0.737694</td>\n",
       "      <td>-35.715053</td>\n",
       "      <td>-23.598892</td>\n",
       "      <td>-0.762271</td>\n",
       "      <td>-34.806015</td>\n",
       "      <td>-0.729140</td>\n",
       "      <td>-0.734872</td>\n",
       "      <td>-29.342481</td>\n",
       "      <td>-49.869913</td>\n",
       "      <td>-28.918180</td>\n",
       "      <td>-0.850799</td>\n",
       "    </tr>\n",
       "    <tr>\n",
       "      <th>25%</th>\n",
       "      <td>20004.750000</td>\n",
       "      <td>-0.374171</td>\n",
       "      <td>-0.451919</td>\n",
       "      <td>-0.417830</td>\n",
       "      <td>-0.500604</td>\n",
       "      <td>-0.475700</td>\n",
       "      <td>-0.415164</td>\n",
       "      <td>-0.419804</td>\n",
       "      <td>-0.437469</td>\n",
       "      <td>-0.395450</td>\n",
       "      <td>-0.432185</td>\n",
       "      <td>-0.405350</td>\n",
       "      <td>-0.438401</td>\n",
       "      <td>-0.386474</td>\n",
       "      <td>-0.366045</td>\n",
       "      <td>-0.387523</td>\n",
       "      <td>-0.497802</td>\n",
       "    </tr>\n",
       "    <tr>\n",
       "      <th>50%</th>\n",
       "      <td>40004.500000</td>\n",
       "      <td>-0.264501</td>\n",
       "      <td>-0.285350</td>\n",
       "      <td>-0.003942</td>\n",
       "      <td>-0.279073</td>\n",
       "      <td>-0.006753</td>\n",
       "      <td>-0.236990</td>\n",
       "      <td>-0.004954</td>\n",
       "      <td>0.006673</td>\n",
       "      <td>-0.186564</td>\n",
       "      <td>0.003981</td>\n",
       "      <td>-0.263940</td>\n",
       "      <td>-0.292186</td>\n",
       "      <td>0.004210</td>\n",
       "      <td>0.005000</td>\n",
       "      <td>-0.001591</td>\n",
       "      <td>-0.318091</td>\n",
       "    </tr>\n",
       "    <tr>\n",
       "      <th>75%</th>\n",
       "      <td>60004.250000</td>\n",
       "      <td>0.005451</td>\n",
       "      <td>0.061020</td>\n",
       "      <td>0.414435</td>\n",
       "      <td>0.166928</td>\n",
       "      <td>0.458875</td>\n",
       "      <td>0.132404</td>\n",
       "      <td>0.421969</td>\n",
       "      <td>0.444982</td>\n",
       "      <td>0.160427</td>\n",
       "      <td>0.437449</td>\n",
       "      <td>0.033419</td>\n",
       "      <td>0.055187</td>\n",
       "      <td>0.387407</td>\n",
       "      <td>0.367437</td>\n",
       "      <td>0.392470</td>\n",
       "      <td>0.026905</td>\n",
       "    </tr>\n",
       "    <tr>\n",
       "      <th>max</th>\n",
       "      <td>80004.000000</td>\n",
       "      <td>24.917549</td>\n",
       "      <td>53.667013</td>\n",
       "      <td>29.312756</td>\n",
       "      <td>28.490356</td>\n",
       "      <td>39.322300</td>\n",
       "      <td>46.837612</td>\n",
       "      <td>22.023252</td>\n",
       "      <td>20.634973</td>\n",
       "      <td>33.604551</td>\n",
       "      <td>19.117766</td>\n",
       "      <td>49.278617</td>\n",
       "      <td>38.849874</td>\n",
       "      <td>27.179463</td>\n",
       "      <td>32.488227</td>\n",
       "      <td>29.859458</td>\n",
       "      <td>34.636039</td>\n",
       "    </tr>\n",
       "  </tbody>\n",
       "</table>\n",
       "</div>"
      ],
      "text/plain": [
       "               time             A             B             C             D  \\\n",
       "count  80000.000000  80000.000000  80000.000000  80000.000000  80000.000000   \n",
       "mean   40003.926125      0.068979     -0.004927     -0.000802      0.031913   \n",
       "std    23095.035045      1.078271      1.031053      1.010158      1.047274   \n",
       "min        0.000000     -0.642788     -0.771179    -30.068210     -0.899105   \n",
       "25%    20004.750000     -0.374171     -0.451919     -0.417830     -0.500604   \n",
       "50%    40004.500000     -0.264501     -0.285350     -0.003942     -0.279073   \n",
       "75%    60004.250000      0.005451      0.061020      0.414435      0.166928   \n",
       "max    80004.000000     24.917549     53.667013     29.312756     28.490356   \n",
       "\n",
       "                  E             F             G             H             I  \\\n",
       "count  80000.000000  80000.000000  80000.000000  80000.000000  80000.000000   \n",
       "mean      -0.000292      0.063241     -0.000050     -0.002554      0.070158   \n",
       "std        1.036233      1.069182      1.036270      1.040708      1.064972   \n",
       "min      -29.530710     -0.737694    -35.715053    -23.598892     -0.762271   \n",
       "25%       -0.475700     -0.415164     -0.419804     -0.437469     -0.395450   \n",
       "50%       -0.006753     -0.236990     -0.004954      0.006673     -0.186564   \n",
       "75%        0.458875      0.132404      0.421969      0.444982      0.160427   \n",
       "max       39.322300     46.837612     22.023252     20.634973     33.604551   \n",
       "\n",
       "                  J             K             L             M             N  \\\n",
       "count  80000.000000  80000.000000  80000.000000  80000.000000  80000.000000   \n",
       "mean      -0.000028     -0.000803      0.018752     -0.000636      0.000849   \n",
       "std        1.015265      1.038007      1.057857      1.012744      1.025396   \n",
       "min      -34.806015     -0.729140     -0.734872    -29.342481    -49.869913   \n",
       "25%       -0.432185     -0.405350     -0.438401     -0.386474     -0.366045   \n",
       "50%        0.003981     -0.263940     -0.292186      0.004210      0.005000   \n",
       "75%        0.437449      0.033419      0.055187      0.387407      0.367437   \n",
       "max       19.117766     49.278617     38.849874     27.179463     32.488227   \n",
       "\n",
       "                 Y1            Y2  \n",
       "count  80000.000000  80000.000000  \n",
       "mean      -0.002807     -0.061172  \n",
       "std        0.970655      0.923702  \n",
       "min      -28.918180     -0.850799  \n",
       "25%       -0.387523     -0.497802  \n",
       "50%       -0.001591     -0.318091  \n",
       "75%        0.392470      0.026905  \n",
       "max       29.859458     34.636039  "
      ]
     },
     "execution_count": 6,
     "metadata": {},
     "output_type": "execute_result"
    }
   ],
   "source": [
    "train_data.describe()"
   ]
  },
  {
   "cell_type": "code",
   "execution_count": 8,
   "id": "9ca6774f",
   "metadata": {},
   "outputs": [
    {
     "data": {
      "text/plain": [
       "time    0\n",
       "A       0\n",
       "B       0\n",
       "C       0\n",
       "D       0\n",
       "E       0\n",
       "F       0\n",
       "G       0\n",
       "H       0\n",
       "I       0\n",
       "J       0\n",
       "K       0\n",
       "L       0\n",
       "M       0\n",
       "N       0\n",
       "Y1      0\n",
       "Y2      0\n",
       "dtype: int64"
      ]
     },
     "execution_count": 8,
     "metadata": {},
     "output_type": "execute_result"
    }
   ],
   "source": [
    "train_data.isna().sum() # can see here no missing data"
   ]
  },
  {
   "cell_type": "markdown",
   "id": "afc9a46a",
   "metadata": {},
   "source": [
    "## 2) Investigate the Dataset\n",
    "In the datasets, you're given columns of time and A through N, each of which represent some sort of real-life market quantity. In the train dataset, you're also given Y1 and Y2, real-life market quantities you'd like to predict in terms of time and A through N. You're not given Y1 and Y2 in the test set, because this is what you're being asked to predict.\n",
    "\n",
    "Let's do some exploration of the relationships of A - N and Y1. In particular, let's look at the relationship between C and Y1:"
   ]
  },
  {
   "cell_type": "code",
   "execution_count": 3,
   "id": "61b619a2",
   "metadata": {},
   "outputs": [
    {
     "data": {
      "image/png": "[encoded data removed]",
      "text/plain": [
       "<Figure size 1000x600 with 1 Axes>"
      ]
     },
     "metadata": {},
     "output_type": "display_data"
    }
   ],
   "source": [
    "import matplotlib.pyplot as plt\n",
    "\n",
    "plt.figure(figsize=(10, 6))\n",
    "plt.scatter(train_data['C'], train_data['Y1'])\n",
    "plt.xlabel('C')\n",
    "plt.ylabel('Y1')\n",
    "plt.title('Relationship between C and Y1')\n",
    "plt.show()"
   ]
  },
  {
   "cell_type": "code",
   "execution_count": 4,
   "id": "430010d5",
   "metadata": {},
   "outputs": [
    {
     "name": "stdout",
     "output_type": "stream",
     "text": [
      "Correlation between C and Y1: 0.7038\n"
     ]
    }
   ],
   "source": [
    "# Calculate correlation between C and Y1\n",
    "correlation = train_data['C'].corr(train_data['Y1'])\n",
    "print(f\"Correlation between C and Y1: {correlation:.4f}\")"
   ]
  },
  {
   "cell_type": "markdown",
   "id": "4cb1edef",
   "metadata": {},
   "source": [
    "Clearly there's a strong relationship between C and Y1. You should definitely use C to predict Y1!"
   ]
  },
  {
   "cell_type": "markdown",
   "id": "ac01ee36",
   "metadata": {},
   "source": [
    "### Personal: EDA"
   ]
  },
  {
   "cell_type": "code",
   "execution_count": 11,
   "id": "7a55be43",
   "metadata": {},
   "outputs": [],
   "source": [
    "import numpy as np\n",
    "import plotly.express as px\n",
    "import seaborn as sns"
   ]
  },
  {
   "cell_type": "markdown",
   "id": "0adb945a",
   "metadata": {},
   "source": [
    "First, see the (pearson) correlation between each pair of attrs.\n",
    "- `Y1` has high correlation with `C`, `E`, `G`, `H`, `J`, `M`, and `N`\n",
    "- `Y2` has high correlation with `A`, `B`, `D`, `F`, `I`, `K`, and `L` --> seems the 2 vars are influenced by 2 mutually exclusive sets (the don't have common high-correlated attrs)\n",
    "- notice a weak corr between `time` and `A`"
   ]
  },
  {
   "cell_type": "code",
   "execution_count": 21,
   "id": "36c91645",
   "metadata": {},
   "outputs": [
    {
     "data": {
      "application/vnd.plotly.v1+json": {
       "config": {
        "plotlyServerURL": "https://plot.ly"
       },
       "data": [
        {
         "coloraxis": "coloraxis",
         "hovertemplate": "x: %{x}<br>y: %{y}<br>color: %{z}<extra></extra>",
         "name": "0",
         "texttemplate": "%{z}",
         "type": "heatmap",
         "x": [
          "time",
          "A",
          "B",
          "C",
          "D",
          "E",
          "F",
          "G",
          "H",
          "I",
          "J",
          "K",
          "L",
          "M",
          "N",
          "Y1",
          "Y2"
         ],
         "xaxis": "x",
         "y": [
          "A",
          "B",
          "C",
          "D",
          "E",
          "F",
          "G",
          "H",
          "I",
          "J",
          "K",
          "L",
          "M",
          "N",
          "Y1",
          "Y2"
         ],
         "yaxis": "y",
         "z": {
          "bdata": "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",
          "dtype": "f8",
          "shape": "16, 17"
         }
        }
       ],
       "layout": {
        "coloraxis": {
         "cmax": 1,
         "cmin": -1,
         "colorscale": [
          [
           0,
           "rgb(5,48,97)"
          ],
          [
           0.1,
           "rgb(33,102,172)"
          ],
          [
           0.2,
           "rgb(67,147,195)"
          ],
          [
           0.3,
           "rgb(146,197,222)"
          ],
          [
           0.4,
           "rgb(209,229,240)"
          ],
          [
           0.5,
           "rgb(247,247,247)"
          ],
          [
           0.6,
           "rgb(253,219,199)"
          ],
          [
           0.7,
           "rgb(244,165,130)"
          ],
          [
           0.8,
           "rgb(214,96,77)"
          ],
          [
           0.9,
           "rgb(178,24,43)"
          ],
          [
           1,
           "rgb(103,0,31)"
          ]
         ]
        },
        "height": 800,
        "margin": {
         "t": 60
        },
        "template": {
         "data": {
          "bar": [
           {
            "error_x": {
             "color": "#2a3f5f"
            },
            "error_y": {
             "color": "#2a3f5f"
            },
            "marker": {
             "line": {
              "color": "#E5ECF6",
              "width": 0.5
             },
             "pattern": {
              "fillmode": "overlay",
              "size": 10,
              "solidity": 0.2
             }
            },
            "type": "bar"
           }
          ],
          "barpolar": [
           {
            "marker": {
             "line": {
              "color": "#E5ECF6",
              "width": 0.5
             },
             "pattern": {
              "fillmode": "overlay",
              "size": 10,
              "solidity": 0.2
             }
            },
            "type": "barpolar"
           }
          ],
          "carpet": [
           {
            "aaxis": {
             "endlinecolor": "#2a3f5f",
             "gridcolor": "white",
             "linecolor": "white",
             "minorgridcolor": "white",
             "startlinecolor": "#2a3f5f"
            },
            "baxis": {
             "endlinecolor": "#2a3f5f",
             "gridcolor": "white",
             "linecolor": "white",
             "minorgridcolor": "white",
             "startlinecolor": "#2a3f5f"
            },
            "type": "carpet"
           }
          ],
          "choropleth": [
           {
            "colorbar": {
             "outlinewidth": 0,
             "ticks": ""
            },
            "type": "choropleth"
           }
          ],
          "contour": [
           {
            "colorbar": {
             "outlinewidth": 0,
             "ticks": ""
            },
            "colorscale": [
             [
              0,
              "#0d0887"
             ],
             [
              0.1111111111111111,
              "#46039f"
             ],
             [
              0.2222222222222222,
              "#7201a8"
             ],
             [
              0.3333333333333333,
              "#9c179e"
             ],
             [
              0.4444444444444444,
              "#bd3786"
             ],
             [
              0.5555555555555556,
              "#d8576b"
             ],
             [
              0.6666666666666666,
              "#ed7953"
             ],
             [
              0.7777777777777778,
              "#fb9f3a"
             ],
             [
              0.8888888888888888,
              "#fdca26"
             ],
             [
              1,
              "#f0f921"
             ]
            ],
            "type": "contour"
           }
          ],
          "contourcarpet": [
           {
            "colorbar": {
             "outlinewidth": 0,
             "ticks": ""
            },
            "type": "contourcarpet"
           }
          ],
          "heatmap": [
           {
            "colorbar": {
             "outlinewidth": 0,
             "ticks": ""
            },
            "colorscale": [
             [
              0,
              "#0d0887"
             ],
             [
              0.1111111111111111,
              "#46039f"
             ],
             [
              0.2222222222222222,
              "#7201a8"
             ],
             [
              0.3333333333333333,
              "#9c179e"
             ],
             [
              0.4444444444444444,
              "#bd3786"
             ],
             [
              0.5555555555555556,
              "#d8576b"
             ],
             [
              0.6666666666666666,
              "#ed7953"
             ],
             [
              0.7777777777777778,
              "#fb9f3a"
             ],
             [
              0.8888888888888888,
              "#fdca26"
             ],
             [
              1,
              "#f0f921"
             ]
            ],
            "type": "heatmap"
           }
          ],
          "histogram": [
           {
            "marker": {
             "pattern": {
              "fillmode": "overlay",
              "size": 10,
              "solidity": 0.2
             }
            },
            "type": "histogram"
           }
          ],
          "histogram2d": [
           {
            "colorbar": {
             "outlinewidth": 0,
             "ticks": ""
            },
            "colorscale": [
             [
              0,
              "#0d0887"
             ],
             [
              0.1111111111111111,
              "#46039f"
             ],
             [
              0.2222222222222222,
              "#7201a8"
             ],
             [
              0.3333333333333333,
              "#9c179e"
             ],
             [
              0.4444444444444444,
              "#bd3786"
             ],
             [
              0.5555555555555556,
              "#d8576b"
             ],
             [
              0.6666666666666666,
              "#ed7953"
             ],
             [
              0.7777777777777778,
              "#fb9f3a"
             ],
             [
              0.8888888888888888,
              "#fdca26"
             ],
             [
              1,
              "#f0f921"
             ]
            ],
            "type": "histogram2d"
           }
          ],
          "histogram2dcontour": [
           {
            "colorbar": {
             "outlinewidth": 0,
             "ticks": ""
            },
            "colorscale": [
             [
              0,
              "#0d0887"
             ],
             [
              0.1111111111111111,
              "#46039f"
             ],
             [
              0.2222222222222222,
              "#7201a8"
             ],
             [
              0.3333333333333333,
              "#9c179e"
             ],
             [
              0.4444444444444444,
              "#bd3786"
             ],
             [
              0.5555555555555556,
              "#d8576b"
             ],
             [
              0.6666666666666666,
              "#ed7953"
             ],
             [
              0.7777777777777778,
              "#fb9f3a"
             ],
             [
              0.8888888888888888,
              "#fdca26"
             ],
             [
              1,
              "#f0f921"
             ]
            ],
            "type": "histogram2dcontour"
           }
          ],
          "mesh3d": [
           {
            "colorbar": {
             "outlinewidth": 0,
             "ticks": ""
            },
            "type": "mesh3d"
           }
          ],
          "parcoords": [
           {
            "line": {
             "colorbar": {
              "outlinewidth": 0,
              "ticks": ""
             }
            },
            "type": "parcoords"
           }
          ],
          "pie": [
           {
            "automargin": true,
            "type": "pie"
           }
          ],
          "scatter": [
           {
            "fillpattern": {
             "fillmode": "overlay",
             "size": 10,
             "solidity": 0.2
            },
            "type": "scatter"
           }
          ],
          "scatter3d": [
           {
            "line": {
             "colorbar": {
              "outlinewidth": 0,
              "ticks": ""
             }
            },
            "marker": {
             "colorbar": {
              "outlinewidth": 0,
              "ticks": ""
             }
            },
            "type": "scatter3d"
           }
          ],
          "scattercarpet": [
           {
            "marker": {
             "colorbar": {
              "outlinewidth": 0,
              "ticks": ""
             }
            },
            "type": "scattercarpet"
           }
          ],
          "scattergeo": [
           {
            "marker": {
             "colorbar": {
              "outlinewidth": 0,
              "ticks": ""
             }
            },
            "type": "scattergeo"
           }
          ],
          "scattergl": [
           {
            "marker": {
             "colorbar": {
              "outlinewidth": 0,
              "ticks": ""
             }
            },
            "type": "scattergl"
           }
          ],
          "scattermap": [
           {
            "marker": {
             "colorbar": {
              "outlinewidth": 0,
              "ticks": ""
             }
            },
            "type": "scattermap"
           }
          ],
          "scattermapbox": [
           {
            "marker": {
             "colorbar": {
              "outlinewidth": 0,
              "ticks": ""
             }
            },
            "type": "scattermapbox"
           }
          ],
          "scatterpolar": [
           {
            "marker": {
             "colorbar": {
              "outlinewidth": 0,
              "ticks": ""
             }
            },
            "type": "scatterpolar"
           }
          ],
          "scatterpolargl": [
           {
            "marker": {
             "colorbar": {
              "outlinewidth": 0,
              "ticks": ""
             }
            },
            "type": "scatterpolargl"
           }
          ],
          "scatterternary": [
           {
            "marker": {
             "colorbar": {
              "outlinewidth": 0,
              "ticks": ""
             }
            },
            "type": "scatterternary"
           }
          ],
          "surface": [
           {
            "colorbar": {
             "outlinewidth": 0,
             "ticks": ""
            },
            "colorscale": [
             [
              0,
              "#0d0887"
             ],
             [
              0.1111111111111111,
              "#46039f"
             ],
             [
              0.2222222222222222,
              "#7201a8"
             ],
             [
              0.3333333333333333,
              "#9c179e"
             ],
             [
              0.4444444444444444,
              "#bd3786"
             ],
             [
              0.5555555555555556,
              "#d8576b"
             ],
             [
              0.6666666666666666,
              "#ed7953"
             ],
             [
              0.7777777777777778,
              "#fb9f3a"
             ],
             [
              0.8888888888888888,
              "#fdca26"
             ],
             [
              1,
              "#f0f921"
             ]
            ],
            "type": "surface"
           }
          ],
          "table": [
           {
            "cells": {
             "fill": {
              "color": "#EBF0F8"
             },
             "line": {
              "color": "white"
             }
            },
            "header": {
             "fill": {
              "color": "#C8D4E3"
             },
             "line": {
              "color": "white"
             }
            },
            "type": "table"
           }
          ]
         },
         "layout": {
          "annotationdefaults": {
           "arrowcolor": "#2a3f5f",
           "arrowhead": 0,
           "arrowwidth": 1
          },
          "autotypenumbers": "strict",
          "coloraxis": {
           "colorbar": {
            "outlinewidth": 0,
            "ticks": ""
           }
          },
          "colorscale": {
           "diverging": [
            [
             0,
             "#8e0152"
            ],
            [
             0.1,
             "#c51b7d"
            ],
            [
             0.2,
             "#de77ae"
            ],
            [
             0.3,
             "#f1b6da"
            ],
            [
             0.4,
             "#fde0ef"
            ],
            [
             0.5,
             "#f7f7f7"
            ],
            [
             0.6,
             "#e6f5d0"
            ],
            [
             0.7,
             "#b8e186"
            ],
            [
             0.8,
             "#7fbc41"
            ],
            [
             0.9,
             "#4d9221"
            ],
            [
             1,
             "#276419"
            ]
           ],
           "sequential": [
            [
             0,
             "#0d0887"
            ],
            [
             0.1111111111111111,
             "#46039f"
            ],
            [
             0.2222222222222222,
             "#7201a8"
            ],
            [
             0.3333333333333333,
             "#9c179e"
            ],
            [
             0.4444444444444444,
             "#bd3786"
            ],
            [
             0.5555555555555556,
             "#d8576b"
            ],
            [
             0.6666666666666666,
             "#ed7953"
            ],
            [
             0.7777777777777778,
             "#fb9f3a"
            ],
            [
             0.8888888888888888,
             "#fdca26"
            ],
            [
             1,
             "#f0f921"
            ]
           ],
           "sequentialminus": [
            [
             0,
             "#0d0887"
            ],
            [
             0.1111111111111111,
             "#46039f"
            ],
            [
             0.2222222222222222,
             "#7201a8"
            ],
            [
             0.3333333333333333,
             "#9c179e"
            ],
            [
             0.4444444444444444,
             "#bd3786"
            ],
            [
             0.5555555555555556,
             "#d8576b"
            ],
            [
             0.6666666666666666,
             "#ed7953"
            ],
            [
             0.7777777777777778,
             "#fb9f3a"
            ],
            [
             0.8888888888888888,
             "#fdca26"
            ],
            [
             1,
             "#f0f921"
            ]
           ]
          },
          "colorway": [
           "#636efa",
           "#EF553B",
           "#00cc96",
           "#ab63fa",
           "#FFA15A",
           "#19d3f3",
           "#FF6692",
           "#B6E880",
           "#FF97FF",
           "#FECB52"
          ],
          "font": {
           "color": "#2a3f5f"
          },
          "geo": {
           "bgcolor": "white",
           "lakecolor": "white",
           "landcolor": "#E5ECF6",
           "showlakes": true,
           "showland": true,
           "subunitcolor": "white"
          },
          "hoverlabel": {
           "align": "left"
          },
          "hovermode": "closest",
          "mapbox": {
           "style": "light"
          },
          "paper_bgcolor": "white",
          "plot_bgcolor": "#E5ECF6",
          "polar": {
           "angularaxis": {
            "gridcolor": "white",
            "linecolor": "white",
            "ticks": ""
           },
           "bgcolor": "#E5ECF6",
           "radialaxis": {
            "gridcolor": "white",
            "linecolor": "white",
            "ticks": ""
           }
          },
          "scene": {
           "xaxis": {
            "backgroundcolor": "#E5ECF6",
            "gridcolor": "white",
            "gridwidth": 2,
            "linecolor": "white",
            "showbackground": true,
            "ticks": "",
            "zerolinecolor": "white"
           },
           "yaxis": {
            "backgroundcolor": "#E5ECF6",
            "gridcolor": "white",
            "gridwidth": 2,
            "linecolor": "white",
            "showbackground": true,
            "ticks": "",
            "zerolinecolor": "white"
           },
           "zaxis": {
            "backgroundcolor": "#E5ECF6",
            "gridcolor": "white",
            "gridwidth": 2,
            "linecolor": "white",
            "showbackground": true,
            "ticks": "",
            "zerolinecolor": "white"
           }
          },
          "shapedefaults": {
           "line": {
            "color": "#2a3f5f"
           }
          },
          "ternary": {
           "aaxis": {
            "gridcolor": "white",
            "linecolor": "white",
            "ticks": ""
           },
           "baxis": {
            "gridcolor": "white",
            "linecolor": "white",
            "ticks": ""
           },
           "bgcolor": "#E5ECF6",
           "caxis": {
            "gridcolor": "white",
            "linecolor": "white",
            "ticks": ""
           }
          },
          "title": {
           "x": 0.05
          },
          "xaxis": {
           "automargin": true,
           "gridcolor": "white",
           "linecolor": "white",
           "ticks": "",
           "title": {
            "standoff": 15
           },
           "zerolinecolor": "white",
           "zerolinewidth": 2
          },
          "yaxis": {
           "automargin": true,
           "gridcolor": "white",
           "linecolor": "white",
           "ticks": "",
           "title": {
            "standoff": 15
           },
           "zerolinecolor": "white",
           "zerolinewidth": 2
          }
         }
        },
        "width": 800,
        "xaxis": {
         "anchor": "y",
         "domain": [
          0,
          1
         ]
        },
        "yaxis": {
         "anchor": "x",
         "autorange": "reversed",
         "domain": [
          0,
          1
         ]
        }
       }
      }
     },
     "metadata": {},
     "output_type": "display_data"
    }
   ],
   "source": [
    "df_corr = train_data.corr().round(3)\n",
    "\n",
    "mask = np.zeros_like(df_corr, dtype=bool)\n",
    "mask[np.triu_indices_from(mask)] = True\n",
    "\n",
    "df_corr_viz = df_corr.mask(mask).dropna(how='all')\n",
    "fig = px.imshow(df_corr_viz, text_auto=True, zmin=-1, zmax = 1, width=800, height=800, aspect='auto', color_continuous_scale='RdBu_r')\n",
    "fig.show()"
   ]
  },
  {
   "cell_type": "markdown",
   "id": "399a83f0",
   "metadata": {},
   "source": [
    "See how the data move overtime. Let's see the first 100 first.\n",
    "- we can see `Y1` moves along with `C`, `E`, `G`, `H`, `J`, `M`, and `N`, while `Y2` moves with `A`, `B`, `D`, `F`, `I`, `K`, and `L`."
   ]
  },
  {
   "cell_type": "code",
   "execution_count": 43,
   "id": "4db20bb8",
   "metadata": {},
   "outputs": [
    {
     "data": {
      "application/vnd.plotly.v1+json": {
       "config": {
        "plotlyServerURL": "https://plot.ly"
       },
       "data": [
        {
         "hovertemplate": "variable=C<br>time=%{x}<br>value=%{y}<extra></extra>",
         "legendgroup": "C",
         "line": {
          "color": "#636efa",
          "dash": "solid"
         },
         "marker": {
          "symbol": "circle"
         },
         "mode": "lines",
         "name": "C",
         "orientation": "v",
         "showlegend": true,
         "type": "scatter",
         "x": {
          "bdata": "AAECAwQFBgcICQoLDA0ODxAREhMUFRYXGBkaGxwdHh8gISIjJCUmJygpKissLS4vMDEyMzQ1Njc4OTo7PD0+P0BBQkNERUZHSElKS0xNTk9QUVJTVFVWV1hZWltcXV5fYGFiYw==",
          "dtype": "i1"
         },
         "xaxis": "x",
         "y": {
          "bdata": "1XGXfyxL5L9QYb4AzJOlPyQ9Jmoiecu/3fTqWEtw4D8YJZU+BCvGP9lE21tax70/KLcaZboA0L+YX+/9BoryP7hVhTOmY9y/WhE2zIgG47+de/KStW/vv3cSJ7gxTeU/yWJtxxXM7z+24fU84Da3vxuFvOycAcG/6Oa3jNe9qL8TsHO/17XgPwA33c4Nxbo/hesAKkhEi792+pO1UVzJv90T6nRaNdS/Uj4bWLc44b+V9Sb9OunYv6+wyOOHf+q/QbEa1Y772T+Vhi3wWFn6v3ua4coPktQ/0en/1gEiwT/5hMurhK7MP4KmYFAYlcE/f1gr92wl1b9SkDmRH1fYv84jce8u6KA/NOlGZf8i4b8w315wWqS1P3uCbPp7wNk/egvE4vYT2L9xpQWrJ0Dnv3RkP1xPwes/un0b5fVzub86NerglDS9v5O8VBM9RuG/NqfCoF6rq79NVmtB1laxv30HaiZI/N4/IIdzO/Bs1r9LXKsksaPKPx76z21weta/Ig8qnLXO1z/r68HWF+K/v63NZgLxPti/fKkvkd2S1D/zuGJcSrLUPwC9zI8Rob6/T4I2NDQ5zT/zpLsDKkbjv6m5kPGDatK/Gy9xLM73zj8WYSE/CtjAP8a1OyjOTNI/y4+oBvXzuz/0ElJ5W0vWP/FiAcMFjL+/iZP+h5N80b/peLvipu/hvwKprQIdcbo/J98+k5oBxD88KGOyjmHpv9BM15Wb5OQ/3+tfhNTr3j8QWOrgA9bWv29eXbJE6p6/G6gDTboB2j8BFZEcTJfZv1ayF9AgeNi/dlbyfDMFwD/LYU2n06MCwNqFZj5+aM8/TuMc/LDJ0T/8gjV5NWvYv8I2O6Qulu6/GLGXVmTrCsAhB+PstHD3P9WYHlg86NS/YgQxT+bhyT88x0uWfWT4v7DhGg3ASQHAsjj7PxiG7j9BrjI1zP+DvwpGQ4mgFuU/vv3hNT28yD/VEcfMCVrYPy6NzpUyNtM/gPHX6R+/yz/Rc1TGMUnZPwTU5rBRmby/4I+5zNAb3T806dJOABffvxZs/xkfZua/f5YYbUfx3r8=",
          "dtype": "f8"
         },
         "yaxis": "y"
        },
        {
         "hovertemplate": "variable=E<br>time=%{x}<br>value=%{y}<extra></extra>",
         "legendgroup": "E",
         "line": {
          "color": "#EF553B",
          "dash": "solid"
         },
         "marker": {
          "symbol": "circle"
         },
         "mode": "lines",
         "name": "E",
         "orientation": "v",
         "showlegend": true,
         "type": "scatter",
         "x": {
          "bdata": "AAECAwQFBgcICQoLDA0ODxAREhMUFRYXGBkaGxwdHh8gISIjJCUmJygpKissLS4vMDEyMzQ1Njc4OTo7PD0+P0BBQkNERUZHSElKS0xNTk9QUVJTVFVWV1hZWltcXV5fYGFiYw==",
          "dtype": "i1"
         },
         "xaxis": "x",
         "y": {
          "bdata": "gHdJHGkO0b+zzhlB0e/Av2KP37+nlce/R+J5yvzA5z+J0Gw7vqrEvz/rB5BXNNg/Vw7jUFVUzr844XXrvtv/PyzKI0xvZfS/3qzvJFIf6L/NMpgLawr3vzggjOEaFZG/9u12D8kvAEAO4SQ19w/Ev2bmg/OzINE/aqdrdqGI0r/R1sjU87TtPzXUfdJtVOA/J7Ci1t5E4L89ras05Zffv13tzLc/p+u/Q15DvIov5r8WWsTAjITAv2VXFfPv/f+/JI/hnKWc6D+puhjMXhQBwAWsZe02jdA/v+GNfHSk1T/zl5agBxrOP/1XujUQ+Nc/sZW8llypib/dGmuU35Hdv3mMyy4gPeE/o+ifo1YZ8r8LeHds0n63P0rXTxVIV+s/KJzmM9Dp5b+abeQmPgrkv5DjdNZ0m+U/FIJl00GLv78dK+6qPJzJP5LjjeBvyui/eMtnANBB1D+ssk6yOLfLP4WumnRnwug/mZjICca5xL+85gbJm0jgPz7qDIsxqdC/r1cvTkCM1D8xAwfb9ALXv+mJPuKfQOC/ds7156bowT84VnIJaJDjP1zX+/S4FrE/1B1tKF8jsj+3uviOPsDSvyLBlSR8m+K/W7NNFviX5T8sbsQQiQLev4tMe4zJhMq/ba6D4a/cu7/mlcEcFSDpP0cKQ10TncO/28KagotB0L/ThOxUOY/mv1Tg4i1h28E/sKZgTpAr2D/xH3tyAnblv8DgeXm/B+k/r7wAEsiksb+qnuMoIumSPzs2IcdA09I/OYpfVQk2wz/dnwQ6oYnuv+UUwuHNXvO/1wxuPX4T3z/uuYV99ND+v44e6Xtoe9y/qJdpcMhrlz89ZUWRX5yyvzR1txhks5k/Na2tGyap67/tAol22pvvP0qShraDZuQ/Sd0BbUhK0z+edkKdWTb6v408+wWGPuq/FiJ7MW1sob+CXzoUODXHP9tZO0fOhuk/e7223opRvT/0IhUkY+PiP7tlqK8fMJ0/leFMV8xz5D8GTr3/t07TPz2rNsG6Hdi/3sPSVpdl4j8EU/1j1mzpvyBmeNJ7bOq/izVCUisewr8=",
          "dtype": "f8"
         },
         "yaxis": "y"
        },
        {
         "hovertemplate": "variable=G<br>time=%{x}<br>value=%{y}<extra></extra>",
         "legendgroup": "G",
         "line": {
          "color": "#00cc96",
          "dash": "solid"
         },
         "marker": {
          "symbol": "circle"
         },
         "mode": "lines",
         "name": "G",
         "orientation": "v",
         "showlegend": true,
         "type": "scatter",
         "x": {
          "bdata": "AAECAwQFBgcICQoLDA0ODxAREhMUFRYXGBkaGxwdHh8gISIjJCUmJygpKissLS4vMDEyMzQ1Njc4OTo7PD0+P0BBQkNERUZHSElKS0xNTk9QUVJTVFVWV1hZWltcXV5fYGFiYw==",
          "dtype": "i1"
         },
         "xaxis": "x",
         "y": {
          "bdata": "j2kMDp5q3r9prV1BWvmcP188mIRvzrW/Sn2FJVFk6D8CPzqap3TPv25SHHuHmOI/pExbTbHe6L8NZQzgS/XwP5X9yXHFqtS/MhiPJiDx1b/sy9dY+1Htv8HypuSZf80/lVvaEpE08z/Rbt+UeM/bv6mccflhE8G/C5UX6JlTzb/exE2vxDjgP+pXr3Pvf8C/uWNibo0Hgr/hCFh98Yrgv8uZ5Rol7M6/LUn0cWIZ3L+MyGGDmmrTvz8hJ/+hUvS/dmdqddCj0T/fxOoPwvbhv5CDA7mSad4/831e4FOvvD/UNL5IAjbkP95JXdI7T80/pljxppkjyb8oBvnHKu66v4Fq4x7blsw/zKfq1D8v0L84fgvii5Kzv2WJ6OgKRNg/FBqYxLky0r9AQ8dCeBOtv7wx5R7GW+I/3f0tLjgJyr/mHyK5/7XJPzdN3NbFt+K/cDyLyNRUlj/edqk8d43Mv/x6O31D7Ng/AxLnf5fjyz/ZUAU5FOrRP4fzydD7h9e/Jb6Kfa3AyD9WugrmVPnQv/bBlNmsBcM/d/pKRgA5jT9zR9rc5wXNP0AEOtLalqi/awkSH0ZGlD9zDIHvsHHcvx1snh13Bbu/cOqTg7K+xz8rzcXmOardv6crdHsO0ba/aNPDfwsQtj8pG6MUTc+iv9vnBZmPnto/3q+gHOehpD+hrJf49uHbv9HIXU4jZcG/2JgYDB9dzb9y36T6Kpziv3WzElQ+sOI/9X0UcHpF0z/hJ623S83SP+Y6X2CRgtS/0O/kWRHjxD9QhK/QgfLlv/ebN8oxHum/D/yKwFCP2j+FBGGYOVTxv/6T0VG28+K/1+DGRCyG3D/Kn7Jg3VWnPxCgqOo/ofS/JyPVxxfo278Z4HrO9HvpP4RWGuse3dE/nKALFBuB0j/s+IJ14nrmv9Q+mUL0XvO/e08sLtJQ0D/xTT79WIPLv6BHAlMMl9c/Mc7hRSP6ob/DVdR7Zl/XP47mt3V7k62/t7Q8UbJi4T/vK0Vq01rKPwP2kxzu0ZY/d1iMQv7l5z+6bO11NRjgv+fU7joDW+O/OY1ZX8thuT8=",
          "dtype": "f8"
         },
         "yaxis": "y"
        },
        {
         "hovertemplate": "variable=H<br>time=%{x}<br>value=%{y}<extra></extra>",
         "legendgroup": "H",
         "line": {
          "color": "#ab63fa",
          "dash": "solid"
         },
         "marker": {
          "symbol": "circle"
         },
         "mode": "lines",
         "name": "H",
         "orientation": "v",
         "showlegend": true,
         "type": "scatter",
         "x": {
          "bdata": "AAECAwQFBgcICQoLDA0ODxAREhMUFRYXGBkaGxwdHh8gISIjJCUmJygpKissLS4vMDEyMzQ1Njc4OTo7PD0+P0BBQkNERUZHSElKS0xNTk9QUVJTVFVWV1hZWltcXV5fYGFiYw==",
          "dtype": "i1"
         },
         "xaxis": "x",
         "y": {
          "bdata": "Dde1rMTI97/UGOv/nty3P4DN350TauY/+FqP0u3O9T9sbIFHvqDrP9vbKoYEz/U/LKIM7NXK1L9nEiNLaasHQAPktQvgH/O/mLtI06ZR5b9HJYzXRN75v1qkZooyoOA/AdQg+lm9/j/cbIQjpXT3v4eruCOPafm/FjJYO+d647+GsfLJyoz1P8lv+T6rluw/VyrPdFaT17/zgc8H/cTxv9F1wL6OMva/5U1uyvwZ3L8evUoCfA7pvy6YAqltbfm//8dNdkxbsb8AgnfxeU0CwFREwPlq5us/+evms9EYvD/86uPmA9jkP4T1CulTs98/BfkpNnPNez/VcixSWe/Xv6RldBqHst4/WN+VT3Kg979IInpoYabvv6smts1fN/s/kZj/vAOBvb8SO9FqsNrhv6khxy0b3uQ/afOptL5e3T8EybXOdTzzvxxmCBvmzuO/jjT64nIb7b/dXK/i5ULRP4LclyhxQeo/vp+yPvHs1D/6+uWncFPRPxWRuJkVAd+/QRU2erCb6j9ywGoYJPW4vztx0YE0192/CrrEpgYmrL/1d4Ux7YX1Pzg12y1IlKS/+dBgx7+asz91XV46ss3iv1AFSmBSseG/fptTMBZT5T/I16IX8NnRv4odpPbZxtu/PL+vMJmsy7+sVEO0ExrfP1DpTleuPsw/WjQtBvEuAECRUVXrkV/5v1p4Ie0G4eU/HWJ2vQrGx78Ja7qogGbzvyOgz8FO0uU/ncZv2oL2wD8Aex1Z12DSv40gpMYEo/e/saaH80JR4D80D9x3Jwvwv9wD2Lz5yeS/gZz4sNueqr8X2HwNIUoBwPUS3taPVdA/cnvqlN8Atz+YOn47fW7tvz35QPEG9QTAftvrHz2Pqb+yVJr+8dXkP7vX6QfN4tk/yZck5FIrxr9wrN3l99UDwNkOa7UcMPW/+yORYZb50z/XNbf1cLvFv0x8T1Xk7fg/zziy0pQOnz+B4dms8qjkP2CQ4VXQpOG/QOTW0NeL6T/l56ksdmLgP7boIErgqZi/ENRBzJIa9z/Rgn7V8nHvv+7sa0+BM/2/K4l/BZG+oz8=",
          "dtype": "f8"
         },
         "yaxis": "y"
        },
        {
         "hovertemplate": "variable=J<br>time=%{x}<br>value=%{y}<extra></extra>",
         "legendgroup": "J",
         "line": {
          "color": "#FFA15A",
          "dash": "solid"
         },
         "marker": {
          "symbol": "circle"
         },
         "mode": "lines",
         "name": "J",
         "orientation": "v",
         "showlegend": true,
         "type": "scatter",
         "x": {
          "bdata": "AAECAwQFBgcICQoLDA0ODxAREhMUFRYXGBkaGxwdHh8gISIjJCUmJygpKissLS4vMDEyMzQ1Njc4OTo7PD0+P0BBQkNERUZHSElKS0xNTk9QUVJTVFVWV1hZWltcXV5fYGFiYw==",
          "dtype": "i1"
         },
         "xaxis": "x",
         "y": {
          "bdata": "CcbeRqZ85b88W0uWaB/QvyhcrU6iUMk/1gb5TVvR4D9CUhig3NrQv/yv8Farn9c/ysrgudO10L/rftenfDLyP0j/Beb4stu/Y98DbXp03r9FBw7qOoDmvyk94uEZWs2/cmEetr7G9T/JYQsBltCbP1XHHS2+Zru/lWHBMLUgtr8yna2q3CPhPwRWHtNpnMu/Xr+SooUXxb8fsXNieGzgv7Isl75Ns+G//qWmQW+S3r/deBh78Ri0v8oVo3AzufG/xqnq5/sW0j9STVZrxOIAwOoIaHGsm90/T0CHGEb61D+urTDdWebmP7QxAxiUVeE/3zceQcqn0L82Hqmlb7DLv7TKRwUfMdk/tQ2PVEuN4b8KYnb9UD7Hv8CUKlrQyOU/hbtURuYH0b+Kw1jaFIDYv11Ahf5zkeg/BZY52PAayL+tTThCTA/Sv/d2ZSLXRKG/JGVKqFIpx7/ULO+GB0LXv+8r9ikv/uU/PXA9gilO17+F1/DpKhHdP5/rlgyV58+/aByKICAS2T8+1zP2ZPi+vwGwNLgOzL2/XkR/DsK5wz8QIXQAmaDYP2HJ0a3rILs/FJxdvBsezr8KJPjrYWTFP+mDpZcf9dK/aV8+2dkD1D/ULZ9z2mHRv1jOd2SdCsu/uL7LyIFVzT+0GUdRRTbTP1AquRiTztQ/LqPENnDEwD8eD5F0bALjv/AyRd2ARsm/inaD0dlK0D8O1l4e3BLfv8gxNMaMWuE/86lGowVr1D9KxVe2yTTHPyY4c08hppm/75ZLCEpeyj8Aq6nNRArXv3WO1xU+YOa/Hb4WSMXrt78v7abC4bT1v7Eon1vz2uO/nL1O0ddXzD+9i+xknejDv/HOusSfbgDATDwDt7c58L9X2luYyivxP8JQKT701t8/iDkCQqW6vb8NinXNoej1vwgfF+m8pf2/mslJCK7V8j8JBJqxRxmtP9qc66df1Ng/8F8mE1wcmD9TuOMM/+CQP9wtVnaHt4i/br4t3OJm1j9sThowrRrjPxuEFtKobc2/EaHbkdUA4j+moGgqw8rVv/ActBzSG+S/Pd4KeGzO478=",
          "dtype": "f8"
         },
         "yaxis": "y"
        },
        {
         "hovertemplate": "variable=M<br>time=%{x}<br>value=%{y}<extra></extra>",
         "legendgroup": "M",
         "line": {
          "color": "#19d3f3",
          "dash": "solid"
         },
         "marker": {
          "symbol": "circle"
         },
         "mode": "lines",
         "name": "M",
         "orientation": "v",
         "showlegend": true,
         "type": "scatter",
         "x": {
          "bdata": "AAECAwQFBgcICQoLDA0ODxAREhMUFRYXGBkaGxwdHh8gISIjJCUmJygpKissLS4vMDEyMzQ1Njc4OTo7PD0+P0BBQkNERUZHSElKS0xNTk9QUVJTVFVWV1hZWltcXV5fYGFiYw==",
          "dtype": "i1"
         },
         "xaxis": "x",
         "y": {
          "bdata": "XB4Jt7L36L+cnXKv9aPEvzfrWFPu8sk/iOqFxVqR4T9q91L462a1P7/98Rj35+E/XGp23Vldi7/0bQFyQDrzP0mb1yFQt/C/EcGrgHD/6b9f1qZRKsfxv9Fgq3NNwuM/Xwvaibas9D8BYjrTLrrcv1mO/Ajb68+/qd37/FNT1L9sC+9qF83xP9asKZ+uj9K/yntG8maZ1L9qCIfgcRDpv7ut50jMSeC/SDwbe9ui6r+0a0aAdEqjv3sNdgv6cLy/Ck07qMihyb+Aa8gVgxn7v1+dpCgax9s/XHS25yzd0D/1Gy97i2TiP+MW6zV98I6/AQx9bZBbp79UqhTIcAnKv9fwUEzGJNo/X8HA5E577L/ZrRsj0EKFv5Qz71PhmuU/dzKcTl5Swb8lgFul46bMvyJJKYS9E+o/dpIvgzXHzD8CXSFTajLevwUACRIdOdu/JSJq+MrEmT+1CJkkjvzFP8KqYk/rzdM/D1tCPql4zb9TL5GpdivlP9rmUKdX4tG/U0pQN/Ts2T96DtOueMHJv+Ws0aZYetW/WbHUaYmUzj/nE9zieh/dP8Fg/ySrWcy/ModyUuV6wz8k+MgTC3zdvzw05PgDzwLA7Ay8iVOl4j8zpAtIjtbQP6m9VlNFb9a/lWoVxprLu79HwAJk9KTZPy8tQTRHyNQ/hoc8/g4Zij9qMPSn9MzevznmHLHT45q/iuc+fy9B0j/9ZnYKE7n6vzHgL2wpHeA/qNyIlAxa4T+b4GwvIoK7Pyr6+KaKoOO/3wnxhcG20z/CgfOd3bPwv5aEgpWpOeq/UF5oqlku0b81EsqRLM3yvzPoG67nC7a/PT1P8WAyuz8YCWx/oSPqv8ft6e/P+/i/MClv6SNI4L/ikY7TeqTyP7d9zdAF2dG/2hmP5+1587+LsnorQg8UwFrFGd4E7fe/71dXV9RV279AC+sTcg/zv0bL8sl9Bf8/AqcaTpaOvD98Cj7JUgvWP3YDAo3NWKa/UEnojI8/0T8LEx60XnPjP16BUfmObOW/Mh09p+cT7z9bZEFxP1TVv0DYu2O8SvS/KMo/tDbxob8=",
          "dtype": "f8"
         },
         "yaxis": "y"
        },
        {
         "hovertemplate": "variable=N<br>time=%{x}<br>value=%{y}<extra></extra>",
         "legendgroup": "N",
         "line": {
          "color": "#FF6692",
          "dash": "solid"
         },
         "marker": {
          "symbol": "circle"
         },
         "mode": "lines",
         "name": "N",
         "orientation": "v",
         "showlegend": true,
         "type": "scatter",
         "x": {
          "bdata": "AAECAwQFBgcICQoLDA0ODxAREhMUFRYXGBkaGxwdHh8gISIjJCUmJygpKissLS4vMDEyMzQ1Njc4OTo7PD0+P0BBQkNERUZHSElKS0xNTk9QUVJTVFVWV1hZWltcXV5fYGFiYw==",
          "dtype": "i1"
         },
         "xaxis": "x",
         "y": {
          "bdata": "dgm/Y6Am6b941uMD/+OUP+elbuw4UME/8h5KPF8l3j/ipppPxElpP+GatoktSto/hZ7jVHVA4b9OmT0c0TXxP+KsSlHOD92/ojsT3HAp3L961GxqyEHpv8mKDZizTOw/kQ+d/FhP5D9qnqBEgrDkv8hzOJIjiMO/syFBAbgLyL9wEt4PLOXYP2gZpIZVysc/g4BfJUCaxT9SRdqk69/Iv52cr1qZ0uK/qgWlB0VG6b+3W9ifYYb6v4TcssyLrwXAwLNNQe6e5T/4By8/aj4CwMvihhFU//U/ZQGLBMQ71D+xEGYNhwTKPxf2eQs3AeA/l5/ovUQC6b8tpoPilDLcvxSaGaJx+Nq/FT6NgNkD6r8sdv+OFobkP4xpc55lzfA/b50XqLjlvb8a+FFh3Q2cv3UMcLzituo/LpQOiLOTl7+jz9SvnXXZP1di5mBBi9E/VQjq2vERxr+nNzYApLvXP3+QLiIlH+i/PrQa7Mg06r/w6zfiCvrNv6rVjR8BwNG/w1xngykg8z/UoZW8GHvivycb6W4zOuM/el/kCA4U2j8FYuZ08zPFP7zK0i98tMW/lLMlxcoN1b+wLmf9o3XnvxzMAsoLld+/BYEd1FOG5T+cCS53Kkvbv1eq6jUO27G/GtBIAWaY7L9QRCOh30vBPwu4CTd0rPE/i+/8Nv407b9LjZpxJRbfv3jpeZmm3sC/6B3tTJ0cwr/ttW5NmiTZv5/jRd2k+/A/6OnVFY/q1z+/a4TgCU3NP6NxJKV9Uck/0cla0L+Esr8JWXiP/r7Vv4OkxnA5FuW/aZtn2BoU0D8ctXkWIEsGwNN6+eDkDeg/qJjNsvdWwr8YoNdYSJ/Wv2JH12GS4M+/gvQJsSFL4L8IkZfkfaPaP0X+NWjgmdk/Yp/hAAGj0b8WelGyOcDvv7Rtz0AGVgLAZ9n546/w+D8TDnd854znP/CZOgamEuo/bQKEwzJfxD+LdR2BjZTqP6mDth77WtM/u7snX9l/0D/nFXGH3GK6P6L0h8WG7Lm/TGPj75Vg8D/Eub4QaDyyvyczT3Xcysa/5jhLc5flyr8=",
          "dtype": "f8"
         },
         "yaxis": "y"
        },
        {
         "hovertemplate": "variable=Y1<br>time=%{x}<br>value=%{y}<extra></extra>",
         "legendgroup": "Y1",
         "line": {
          "color": "#B6E880",
          "dash": "solid"
         },
         "marker": {
          "symbol": "circle"
         },
         "mode": "lines",
         "name": "Y1",
         "orientation": "v",
         "showlegend": true,
         "type": "scatter",
         "x": {
          "bdata": "AAECAwQFBgcICQoLDA0ODxAREhMUFRYXGBkaGxwdHh8gISIjJCUmJygpKissLS4vMDEyMzQ1Njc4OTo7PD0+P0BBQkNERUZHSElKS0xNTk9QUVJTVFVWV1hZWltcXV5fYGFiYw==",
          "dtype": "i1"
         },
         "xaxis": "x",
         "y": {
          "bdata": "WOBqr+jy7b8AYfitCve2v8lROB9G7rO/32MqUOUe7j9QW3NFFUSkv3dvUD6NP+k/n1bwNrtG1r+Ie9q7TiL1PxSiOuNY4eK/vvOoo8jn678ewRKNkJruv0vwQbLaneY/Bzq/R79G+D+rEDYzPC/nv1+ESvqO/6y//LcDtv+P17+4Q2EYHv7xPyYOvI8RYs6/0SpB2DXis7/XVXVee7vnvwewev4P4N6/n25zyIIA1b/a+O3K8IHDv39sW/VYjfC/yTpcAPJwxz/vesw/sh7qv565cTdU8eA/AQZ3Nm7tyz/G1WUEctXqP85fvzqyJIU/Fs0NiOXLyb+mN9YoS4zXv9gggR8rz8I/AdxWI0CC579sCuDuyLy/P/BQTtZiXuA/kOl6R92Jvr/xZ5OnFI66vw27a+N9DN8/QKHTiiSNwb+jij28h6SpP8LCgonhCOO/imcfytERyD89H4Xgr8jJPx6A76baet4/mIf0RDV/oD+pTAisSkvbP05OiVW67MK/gaggofxD5j9UtPVvw0XOv0D8Jk0m+sa/ge9rchL7wz+SXSHI5HDhPxZHjerWo8e/W4MIjhGwkL+/FTWWvR7VvynGSkXHXdi/dGZPG9Jv0T8ZMxPqOEjgvzAH398M4bE/2g4/vjYxyD+hGdiln5/hP09TffAgTMc/VtdH2K5uz79AlueYxNfkvwmzVCq1s7K/rHwWOcNFob9fcW/j/Fjiv9cwGA56luM/Cb51p2m93T8XUfNfEeDgP1iso6rRPb+/TcaABZgDhL+diMc/RGPpv9Cs+jsTl+y/MguiH6F5dj/UjOdxIWrzv/WhBEX5wty/O0HYf5VN2z+hUmP6vfK5v5eq6BJrGem/8y/qOXVH7L9nkLBlIc3yP95v/kwPxeE/V9OPW1NrsD9YjbUrPHTwv7wSE+0PIum/OkwMp++H1j9zjMccjPvAP+N5xTJSm9M/id5O2qNdt7+1EMDePUXdP0unNwhyma0/wOff/43f4D/JviPZ3fPSP2fk6ATTpIK/klcdiaQl7j+vVC8CkFfdv9MxjJnCody/CH/UhukZ1L8=",
          "dtype": "f8"
         },
         "yaxis": "y"
        }
       ],
       "layout": {
        "height": 500,
        "legend": {
         "title": {
          "text": "variable"
         },
         "tracegroupgap": 0
        },
        "margin": {
         "t": 60
        },
        "template": {
         "data": {
          "bar": [
           {
            "error_x": {
             "color": "#2a3f5f"
            },
            "error_y": {
             "color": "#2a3f5f"
            },
            "marker": {
             "line": {
              "color": "#E5ECF6",
              "width": 0.5
             },
             "pattern": {
              "fillmode": "overlay",
              "size": 10,
              "solidity": 0.2
             }
            },
            "type": "bar"
           }
          ],
          "barpolar": [
           {
            "marker": {
             "line": {
              "color": "#E5ECF6",
              "width": 0.5
             },
             "pattern": {
              "fillmode": "overlay",
              "size": 10,
              "solidity": 0.2
             }
            },
            "type": "barpolar"
           }
          ],
          "carpet": [
           {
            "aaxis": {
             "endlinecolor": "#2a3f5f",
             "gridcolor": "white",
             "linecolor": "white",
             "minorgridcolor": "white",
             "startlinecolor": "#2a3f5f"
            },
            "baxis": {
             "endlinecolor": "#2a3f5f",
             "gridcolor": "white",
             "linecolor": "white",
             "minorgridcolor": "white",
             "startlinecolor": "#2a3f5f"
            },
            "type": "carpet"
           }
          ],
          "choropleth": [
           {
            "colorbar": {
             "outlinewidth": 0,
             "ticks": ""
            },
            "type": "choropleth"
           }
          ],
          "contour": [
           {
            "colorbar": {
             "outlinewidth": 0,
             "ticks": ""
            },
            "colorscale": [
             [
              0,
              "#0d0887"
             ],
             [
              0.1111111111111111,
              "#46039f"
             ],
             [
              0.2222222222222222,
              "#7201a8"
             ],
             [
              0.3333333333333333,
              "#9c179e"
             ],
             [
              0.4444444444444444,
              "#bd3786"
             ],
             [
              0.5555555555555556,
              "#d8576b"
             ],
             [
              0.6666666666666666,
              "#ed7953"
             ],
             [
              0.7777777777777778,
              "#fb9f3a"
             ],
             [
              0.8888888888888888,
              "#fdca26"
             ],
             [
              1,
              "#f0f921"
             ]
            ],
            "type": "contour"
           }
          ],
          "contourcarpet": [
           {
            "colorbar": {
             "outlinewidth": 0,
             "ticks": ""
            },
            "type": "contourcarpet"
           }
          ],
          "heatmap": [
           {
            "colorbar": {
             "outlinewidth": 0,
             "ticks": ""
            },
            "colorscale": [
             [
              0,
              "#0d0887"
             ],
             [
              0.1111111111111111,
              "#46039f"
             ],
             [
              0.2222222222222222,
              "#7201a8"
             ],
             [
              0.3333333333333333,
              "#9c179e"
             ],
             [
              0.4444444444444444,
              "#bd3786"
             ],
             [
              0.5555555555555556,
              "#d8576b"
             ],
             [
              0.6666666666666666,
              "#ed7953"
             ],
             [
              0.7777777777777778,
              "#fb9f3a"
             ],
             [
              0.8888888888888888,
              "#fdca26"
             ],
             [
              1,
              "#f0f921"
             ]
            ],
            "type": "heatmap"
           }
          ],
          "histogram": [
           {
            "marker": {
             "pattern": {
              "fillmode": "overlay",
              "size": 10,
              "solidity": 0.2
             }
            },
            "type": "histogram"
           }
          ],
          "histogram2d": [
           {
            "colorbar": {
             "outlinewidth": 0,
             "ticks": ""
            },
            "colorscale": [
             [
              0,
              "#0d0887"
             ],
             [
              0.1111111111111111,
              "#46039f"
             ],
             [
              0.2222222222222222,
              "#7201a8"
             ],
             [
              0.3333333333333333,
              "#9c179e"
             ],
             [
              0.4444444444444444,
              "#bd3786"
             ],
             [
              0.5555555555555556,
              "#d8576b"
             ],
             [
              0.6666666666666666,
              "#ed7953"
             ],
             [
              0.7777777777777778,
              "#fb9f3a"
             ],
             [
              0.8888888888888888,
              "#fdca26"
             ],
             [
              1,
              "#f0f921"
             ]
            ],
            "type": "histogram2d"
           }
          ],
          "histogram2dcontour": [
           {
            "colorbar": {
             "outlinewidth": 0,
             "ticks": ""
            },
            "colorscale": [
             [
              0,
              "#0d0887"
             ],
             [
              0.1111111111111111,
              "#46039f"
             ],
             [
              0.2222222222222222,
              "#7201a8"
             ],
             [
              0.3333333333333333,
              "#9c179e"
             ],
             [
              0.4444444444444444,
              "#bd3786"
             ],
             [
              0.5555555555555556,
              "#d8576b"
             ],
             [
              0.6666666666666666,
              "#ed7953"
             ],
             [
              0.7777777777777778,
              "#fb9f3a"
             ],
             [
              0.8888888888888888,
              "#fdca26"
             ],
             [
              1,
              "#f0f921"
             ]
            ],
            "type": "histogram2dcontour"
           }
          ],
          "mesh3d": [
           {
            "colorbar": {
             "outlinewidth": 0,
             "ticks": ""
            },
            "type": "mesh3d"
           }
          ],
          "parcoords": [
           {
            "line": {
             "colorbar": {
              "outlinewidth": 0,
              "ticks": ""
             }
            },
            "type": "parcoords"
           }
          ],
          "pie": [
           {
            "automargin": true,
            "type": "pie"
           }
          ],
          "scatter": [
           {
            "fillpattern": {
             "fillmode": "overlay",
             "size": 10,
             "solidity": 0.2
            },
            "type": "scatter"
           }
          ],
          "scatter3d": [
           {
            "line": {
             "colorbar": {
              "outlinewidth": 0,
              "ticks": ""
             }
            },
            "marker": {
             "colorbar": {
              "outlinewidth": 0,
              "ticks": ""
             }
            },
            "type": "scatter3d"
           }
          ],
          "scattercarpet": [
           {
            "marker": {
             "colorbar": {
              "outlinewidth": 0,
              "ticks": ""
             }
            },
            "type": "scattercarpet"
           }
          ],
          "scattergeo": [
           {
            "marker": {
             "colorbar": {
              "outlinewidth": 0,
              "ticks": ""
             }
            },
            "type": "scattergeo"
           }
          ],
          "scattergl": [
           {
            "marker": {
             "colorbar": {
              "outlinewidth": 0,
              "ticks": ""
             }
            },
            "type": "scattergl"
           }
          ],
          "scattermap": [
           {
            "marker": {
             "colorbar": {
              "outlinewidth": 0,
              "ticks": ""
             }
            },
            "type": "scattermap"
           }
          ],
          "scattermapbox": [
           {
            "marker": {
             "colorbar": {
              "outlinewidth": 0,
              "ticks": ""
             }
            },
            "type": "scattermapbox"
           }
          ],
          "scatterpolar": [
           {
            "marker": {
             "colorbar": {
              "outlinewidth": 0,
              "ticks": ""
             }
            },
            "type": "scatterpolar"
           }
          ],
          "scatterpolargl": [
           {
            "marker": {
             "colorbar": {
              "outlinewidth": 0,
              "ticks": ""
             }
            },
            "type": "scatterpolargl"
           }
          ],
          "scatterternary": [
           {
            "marker": {
             "colorbar": {
              "outlinewidth": 0,
              "ticks": ""
             }
            },
            "type": "scatterternary"
           }
          ],
          "surface": [
           {
            "colorbar": {
             "outlinewidth": 0,
             "ticks": ""
            },
            "colorscale": [
             [
              0,
              "#0d0887"
             ],
             [
              0.1111111111111111,
              "#46039f"
             ],
             [
              0.2222222222222222,
              "#7201a8"
             ],
             [
              0.3333333333333333,
              "#9c179e"
             ],
             [
              0.4444444444444444,
              "#bd3786"
             ],
             [
              0.5555555555555556,
              "#d8576b"
             ],
             [
              0.6666666666666666,
              "#ed7953"
             ],
             [
              0.7777777777777778,
              "#fb9f3a"
             ],
             [
              0.8888888888888888,
              "#fdca26"
             ],
             [
              1,
              "#f0f921"
             ]
            ],
            "type": "surface"
           }
          ],
          "table": [
           {
            "cells": {
             "fill": {
              "color": "#EBF0F8"
             },
             "line": {
              "color": "white"
             }
            },
            "header": {
             "fill": {
              "color": "#C8D4E3"
             },
             "line": {
              "color": "white"
             }
            },
            "type": "table"
           }
          ]
         },
         "layout": {
          "annotationdefaults": {
           "arrowcolor": "#2a3f5f",
           "arrowhead": 0,
           "arrowwidth": 1
          },
          "autotypenumbers": "strict",
          "coloraxis": {
           "colorbar": {
            "outlinewidth": 0,
            "ticks": ""
           }
          },
          "colorscale": {
           "diverging": [
            [
             0,
             "#8e0152"
            ],
            [
             0.1,
             "#c51b7d"
            ],
            [
             0.2,
             "#de77ae"
            ],
            [
             0.3,
             "#f1b6da"
            ],
            [
             0.4,
             "#fde0ef"
            ],
            [
             0.5,
             "#f7f7f7"
            ],
            [
             0.6,
             "#e6f5d0"
            ],
            [
             0.7,
             "#b8e186"
            ],
            [
             0.8,
             "#7fbc41"
            ],
            [
             0.9,
             "#4d9221"
            ],
            [
             1,
             "#276419"
            ]
           ],
           "sequential": [
            [
             0,
             "#0d0887"
            ],
            [
             0.1111111111111111,
             "#46039f"
            ],
            [
             0.2222222222222222,
             "#7201a8"
            ],
            [
             0.3333333333333333,
             "#9c179e"
            ],
            [
             0.4444444444444444,
             "#bd3786"
            ],
            [
             0.5555555555555556,
             "#d8576b"
            ],
            [
             0.6666666666666666,
             "#ed7953"
            ],
            [
             0.7777777777777778,
             "#fb9f3a"
            ],
            [
             0.8888888888888888,
             "#fdca26"
            ],
            [
             1,
             "#f0f921"
            ]
           ],
           "sequentialminus": [
            [
             0,
             "#0d0887"
            ],
            [
             0.1111111111111111,
             "#46039f"
            ],
            [
             0.2222222222222222,
             "#7201a8"
            ],
            [
             0.3333333333333333,
             "#9c179e"
            ],
            [
             0.4444444444444444,
             "#bd3786"
            ],
            [
             0.5555555555555556,
             "#d8576b"
            ],
            [
             0.6666666666666666,
             "#ed7953"
            ],
            [
             0.7777777777777778,
             "#fb9f3a"
            ],
            [
             0.8888888888888888,
             "#fdca26"
            ],
            [
             1,
             "#f0f921"
            ]
           ]
          },
          "colorway": [
           "#636efa",
           "#EF553B",
           "#00cc96",
           "#ab63fa",
           "#FFA15A",
           "#19d3f3",
           "#FF6692",
           "#B6E880",
           "#FF97FF",
           "#FECB52"
          ],
          "font": {
           "color": "#2a3f5f"
          },
          "geo": {
           "bgcolor": "white",
           "lakecolor": "white",
           "landcolor": "#E5ECF6",
           "showlakes": true,
           "showland": true,
           "subunitcolor": "white"
          },
          "hoverlabel": {
           "align": "left"
          },
          "hovermode": "closest",
          "mapbox": {
           "style": "light"
          },
          "paper_bgcolor": "white",
          "plot_bgcolor": "#E5ECF6",
          "polar": {
           "angularaxis": {
            "gridcolor": "white",
            "linecolor": "white",
            "ticks": ""
           },
           "bgcolor": "#E5ECF6",
           "radialaxis": {
            "gridcolor": "white",
            "linecolor": "white",
            "ticks": ""
           }
          },
          "scene": {
           "xaxis": {
            "backgroundcolor": "#E5ECF6",
            "gridcolor": "white",
            "gridwidth": 2,
            "linecolor": "white",
            "showbackground": true,
            "ticks": "",
            "zerolinecolor": "white"
           },
           "yaxis": {
            "backgroundcolor": "#E5ECF6",
            "gridcolor": "white",
            "gridwidth": 2,
            "linecolor": "white",
            "showbackground": true,
            "ticks": "",
            "zerolinecolor": "white"
           },
           "zaxis": {
            "backgroundcolor": "#E5ECF6",
            "gridcolor": "white",
            "gridwidth": 2,
            "linecolor": "white",
            "showbackground": true,
            "ticks": "",
            "zerolinecolor": "white"
           }
          },
          "shapedefaults": {
           "line": {
            "color": "#2a3f5f"
           }
          },
          "ternary": {
           "aaxis": {
            "gridcolor": "white",
            "linecolor": "white",
            "ticks": ""
           },
           "baxis": {
            "gridcolor": "white",
            "linecolor": "white",
            "ticks": ""
           },
           "bgcolor": "#E5ECF6",
           "caxis": {
            "gridcolor": "white",
            "linecolor": "white",
            "ticks": ""
           }
          },
          "title": {
           "x": 0.05
          },
          "xaxis": {
           "automargin": true,
           "gridcolor": "white",
           "linecolor": "white",
           "ticks": "",
           "title": {
            "standoff": 15
           },
           "zerolinecolor": "white",
           "zerolinewidth": 2
          },
          "yaxis": {
           "automargin": true,
           "gridcolor": "white",
           "linecolor": "white",
           "ticks": "",
           "title": {
            "standoff": 15
           },
           "zerolinecolor": "white",
           "zerolinewidth": 2
          }
         }
        },
        "xaxis": {
         "anchor": "y",
         "domain": [
          0,
          1
         ],
         "title": {
          "text": "time"
         }
        },
        "yaxis": {
         "anchor": "x",
         "domain": [
          0,
          1
         ],
         "title": {
          "text": "value"
         }
        }
       }
      }
     },
     "metadata": {},
     "output_type": "display_data"
    },
    {
     "data": {
      "application/vnd.plotly.v1+json": {
       "config": {
        "plotlyServerURL": "https://plot.ly"
       },
       "data": [
        {
         "hovertemplate": "variable=A<br>time=%{x}<br>value=%{y}<extra></extra>",
         "legendgroup": "A",
         "line": {
          "color": "#636efa",
          "dash": "solid"
         },
         "marker": {
          "symbol": "circle"
         },
         "mode": "lines",
         "name": "A",
         "orientation": "v",
         "showlegend": true,
         "type": "scatter",
         "x": {
          "bdata": "AAECAwQFBgcICQoLDA0ODxAREhMUFRYXGBkaGxwdHh8gISIjJCUmJygpKissLS4vMDEyMzQ1Njc4OTo7PD0+P0BBQkNERUZHSElKS0xNTk9QUVJTVFVWV1hZWltcXV5fYGFiYw==",
          "dtype": "i1"
         },
         "xaxis": "x",
         "y": {
          "bdata": "OV85BPuKyj/fW0HUgCvIP0S39l8id8K/hP0y0e2/yj9DDdfiyeO3P9rbnt8Lh/w/trK1fgZM7T/v783RN8XzP4yY1493PdE/PIvsD5vyzD/uHY+s4q7fPwVltV77oes/TGkQ/Q9V8T9ZLWLz6V7wPxJoLQ7qetI/3cufaJfC1T8JJK9PG3bqP/MEEjq0C+I/PB5ccrYv1T//70H92yXPP07IZHLFqNA/O/QZjhWM9T9rnyuhKM/gP7V3b9h44QZAL1Hsex+z1z9veXyoEPzyP9u+xE97kvM/odkNFiZJ2j/RwlwmVV3yP55ny2tJHdc/D+fNNApp3j/VCq4bJnPjP0gycHpTL9I/9Vp4bLn76j8yTUg7RlPlP/8b8WGcTfA/JmuI3mnT6T9gGx/4iR3jPwzWvWQqlvQ/zVkigVR+6T+j3qNWabfdP6H8iI4gLOw/hFLW8VnB8T8jmUMbnwTzPw4xKi6yF+M/nRL1W7JV1j+bBP4OmfXoPwFAWXnJCvA/p6jVK3ok5z/QQTYuCUnqPyOelESEcd4/O8qTUp7W3T/0jlbwIEDtPwmQYY2rCNY/jyyj1Py50T9QckIKsgzlPyYjGD8SMdw/sLVMxaYxtj9jayZhgXfpP00OuH9v+d4/QRofFaQf6T9uxV1VORvyP6NIGma7L94/0kQFqE+c7D8xOfR7cw7mP1Q3kheDAuc/tAeecN9/6j/giYvYZXX7P956eoG/UuQ/TNyNCKSdBUBDrxQKgUQBQFeU055QFfc/QC3s80237z/kkBRzwJrjP7xxHDsZ/vI/L8ZyEDYF8j947dT1TAEGQE35NWHWMAZAt4LFK90d8T/LFrTAKRbrPwqiAcm53Pg/QzcER17WEUCMZgKzGTkAQC87ilgViOg/NzsKxa5o5z8e5LfHq+PuP3V4HFrdugNA5ghnMJGF/j+B+8LTbrPtP3uN4WhuWOU/oD0J8JFD8j/xrmCuLC7wPwmQtEhjO98/rDVF0iCz2D8cvlEOvYzqP/F/Qiq1Qdo/IXEnT5Sz8z9jmJgGFTrxPyyhdfzM6+M/VlymtR4k4T8=",
          "dtype": "f8"
         },
         "yaxis": "y"
        },
        {
         "hovertemplate": "variable=B<br>time=%{x}<br>value=%{y}<extra></extra>",
         "legendgroup": "B",
         "line": {
          "color": "#EF553B",
          "dash": "solid"
         },
         "marker": {
          "symbol": "circle"
         },
         "mode": "lines",
         "name": "B",
         "orientation": "v",
         "showlegend": true,
         "type": "scatter",
         "x": {
          "bdata": "AAECAwQFBgcICQoLDA0ODxAREhMUFRYXGBkaGxwdHh8gISIjJCUmJygpKissLS4vMDEyMzQ1Njc4OTo7PD0+P0BBQkNERUZHSElKS0xNTk9QUVJTVFVWV1hZWltcXV5fYGFiYw==",
          "dtype": "i1"
         },
         "xaxis": "x",
         "y": {
          "bdata": "k/Opv0N5xL/hm/w2Fv7QvxQ+JG/yd+K/gBWzXmXe079rVUP+B+zWvxIYFH7zI9C/g1rNE+rkw79pxO+PZAbAv6Rqd8yg0c+/dxooncAZ4b91uZ7o1I7Qv7wMK2Tp282/ndxetfnPx7/N0wVEn3pzP/zE4Sk3TeG/yV9MWBYT3L/DK+2uo5TFvyq5hyF0Rta/D/0gy4qz4L/fPxFPD4jiv78EdQzlVdy/fK7f0oVxyL/MVUIWflrXv8FcU7JcvZU/+8+2eIe80r9LDJCnLdbuP3HPXI4T0uE/7wy9wot3yL9SGv2sd1HPv0SfYgPkate/wBnbN0FT3b/aT/IiDhHZv87fg6bH5d+/YOLu7bo91L8ITC07r/PTvyR7yK/W/c6/n3urfmwZ4L/O3otnAnrVvyB0vE2Gstq/qYSUtiHF2r+mgsyiDqC+v/L+hG0pDpq//cxwaJOahD+/uQ88Qzy8P9W5faJGVrk/JRqxuANHtr8uviuGia2/vxu5fKtXVsi/6wpbUjRHyr/9EQPCLzO9v0lQp48u2sq/M6QDfPY8sj/cljRmIArRP41TVR+svKq/k256POCNwT+FU0nqkOeqP/xbaCMBDcG/Qv7E8ujK3L85RfK8tmPZv/f7ORWBqt6/GHrl43bC278i1SWMkyzZv0mPoD3evNK/iEAtQNJSxb9yBnPFz+jSvziMLT/Jr9u/lFwfjDMY07+BwS7G6pGdv3KA+HYGbta/Wmjt/3IruL+pd40ftEnMvyNHgqIU5NO/fTai7X2I4L97918YfYnXv2z0wbYrW+C/lR3LtXdb3L9m1gZFStjLP5Wp7wdakc8/dblZWISHo78eYqc29pebv42K21WVXfA/1G3Y37FE8D+5gplj47LGP7cJAM669dS/l3aaWzbm07+R2FFTTLvQv2MIVmFFwfk/+tiQA3tUuz/hFUQFFf7Tv2ObaxnArdS/8+GULa8g1L/F3OKUQRLQPyIcyjWfRdi/4WUJjlSF2L+MLu9trxrZv/jWARGZyd2/alw/9bLZ2b/KWhrdeJHWv8DPEUoWvN6/Fem6KjzN1L8=",
          "dtype": "f8"
         },
         "yaxis": "y"
        },
        {
         "hovertemplate": "variable=D<br>time=%{x}<br>value=%{y}<extra></extra>",
         "legendgroup": "D",
         "line": {
          "color": "#00cc96",
          "dash": "solid"
         },
         "marker": {
          "symbol": "circle"
         },
         "mode": "lines",
         "name": "D",
         "orientation": "v",
         "showlegend": true,
         "type": "scatter",
         "x": {
          "bdata": "AAECAwQFBgcICQoLDA0ODxAREhMUFRYXGBkaGxwdHh8gISIjJCUmJygpKissLS4vMDEyMzQ1Njc4OTo7PD0+P0BBQkNERUZHSElKS0xNTk9QUVJTVFVWV1hZWltcXV5fYGFiYw==",
          "dtype": "i1"
         },
         "xaxis": "x",
         "y": {
          "bdata": "zxIJ4j2X4r8TZDE9OJ3hvxmjuC6h6ue/769dEwMD4r+bjl7PU/7lv78B1z0FXbq/A+AmJdXz1796Ni06K2XRP1U3RcKhONm/Gm6DgwUt47/baBLQeBDRvzJDx9j2o9e/RLkDzFsv4r/rsRD5BRrav41AYgS9SOW/chnkDy304r88/XiPLabUv+EGtKszENO/hB1iSbxK0b/1OE0VLuLkv05PdPFRZOa/WCOiM3FUzr/htEJA/3TZvxsn48I5YMc/q6ZCnLP1478e2BVbI8eWv/pppd/Wd7y/uzqofdvm47/jovXpjyXjv0BeaaWTk+O/ew9iRJEK378463d6yl/kv1aml0vOgOO/V3clATjd3b/ULi4QpFbkv7hev3ECWOG/0fHr0h1b4L+Hcl/efOfjvwGNU7AGPOG/Owq3m8Pu4b8p27HSYRzevxS3ApVCudu/TUDKbGPa3L/PGNNDgVLev/QykYhc0dW/80IsNO8d579yuiw2rcPjv0AVHlCBeeC/am3AdfX/3L+/F70Ycr7av5iHlb7Phue/eAXl0p3y5L8lfBmiD/rev+urh6jKZN6/7utT9vdd5b8ew9SDiTTiv+o/4Lb0ouK/34F9E9Ff5b9n+7Mm21/Qv0hTj2Nc8dW/XTdFnaC25L8IsaSzscvfv7SzXaQyYeO/DghjFWUj2L+z7FeCpdzdv7kKr/CLGd2/JgYe94j31L8fTFU2gDfEvxpzeWh8NOG/O9ENK0150L9GJ+Su2TLZv58NGEqAl9u/VuD3n5l447/hceufKBfiv0jfrOjYwd6/dLu/Pycy0r/uYha1ZVjeP/7gzUQUyNc/oiodmRPw3L/Alt805NDdv2omB2iGavk/OU9dnhWPwj9l1YDnmDriv1rVhTRMddu/cpw5NvY9vL9lsWWsgOTOv66aMJFc3cE/4wUEyyxU1r/DL80AlSffvw6gcVAVndm/tQeBn7sR47/D18Dte4bgv40Cn5rC7+K/7stRfv+o4b/uM40fzI/dv98pfOx5U+S/4jwPUSVv4L8vmtWKeO7gv9NF0tf0P+S/4FEop7E63b8=",
          "dtype": "f8"
         },
         "yaxis": "y"
        },
        {
         "hovertemplate": "variable=F<br>time=%{x}<br>value=%{y}<extra></extra>",
         "legendgroup": "F",
         "line": {
          "color": "#ab63fa",
          "dash": "solid"
         },
         "marker": {
          "symbol": "circle"
         },
         "mode": "lines",
         "name": "F",
         "orientation": "v",
         "showlegend": true,
         "type": "scatter",
         "x": {
          "bdata": "AAECAwQFBgcICQoLDA0ODxAREhMUFRYXGBkaGxwdHh8gISIjJCUmJygpKissLS4vMDEyMzQ1Njc4OTo7PD0+P0BBQkNERUZHSElKS0xNTk9QUVJTVFVWV1hZWltcXV5fYGFiYw==",
          "dtype": "i1"
         },
         "xaxis": "x",
         "y": {
          "bdata": "UyH8oA7Prj9DapqCPrXHv5jRCZDMv92/bzQbZReN079xI5qJQLa9vzdNdSHxZfI/grlLe7xbdL9aiztxQ5fZP0cjsCM0PdO/PDeIoqNJ2L+sB8+dWlHhP/Cww/ce9dk/YljI8CUKxz/WA2bGsorFv/OyKusgt8c/FsBfO47Pir/yOav/mLHDP2eroIGFOti/WEAZeARX0L97wAs9Ls/dv+l8W0y6jtC/gmOeYiOLvz9NHY0+5n7Tv6Cu6pV0cN8/c5n/e6dO1L+nmfwP653ZP/qAQIPlOOE/H+Z9qPOs1L+tcrtmeCLSvwCHszJBa8y/53MNagv6y7+Qcd1Fgxrbv/MQGF3Tida/eauSN5e3pj9gR/4GUd+8v0ipDrzepNK/9AvuK6XY17+nQUl0ShXPv92pcMqGo9K/23yFkS6D1L/KesIYalfDvwpvEa7/rt4/Ld9wZdXT4T8/Bk64LdS3P6fCMjcDqbm/4V+DRyHD279IhqT6ZkLKvymfhaJifdO/ksPxoaSs17/wb6yddVrbv3EQVRTXXty/LWybspUS2L9AUaTMQY+8v6uSi6sKodW/gMBK4W2D1b9WtQ7tcGvbv2e8B2lgkta/o20Q1o5707+u6kNhZjTcvxKLHSnWT9i/bsyjCMozyL/7dX69ItfGv8Io+FoNwNO/+2jsbEnACUChXfxfweG5v/tuj6X5bcS/cs+qU1m90b/leAWwsUi2P9P8ahrkZ9S/c4g+GS2h0z+NI9FyeUHDPxVh9FLjPbK/ZyKDSzXfvT8e0ScF+07WvziElcBAtsa/dzvlp+HJxj+F46eKrh7YP9cwv+zGXOA/DDTebrj9vL/oV3LfGq3Cvz3+rWf0Luk/kMxbJqox4z8JAqepCV+9v7rNplGIHMy/OgXSSZRt1r87t18NNgxyvyoyVBlUZsw/YLlr17Nnmz9RmRyM7MfSv8efRFT1Y9K/tJiDDjadw7/1Tk+ZBpjUv3BLqjsgRM6/2ZyHomGv3b9NJCTOSXXXv/43pbX+wNS/tCeteQuKwr/6iVu5n/Lev70gTckEmte/sYxnX5R31b8=",
          "dtype": "f8"
         },
         "yaxis": "y"
        },
        {
         "hovertemplate": "variable=I<br>time=%{x}<br>value=%{y}<extra></extra>",
         "legendgroup": "I",
         "line": {
          "color": "#FFA15A",
          "dash": "solid"
         },
         "marker": {
          "symbol": "circle"
         },
         "mode": "lines",
         "name": "I",
         "orientation": "v",
         "showlegend": true,
         "type": "scatter",
         "x": {
          "bdata": "AAECAwQFBgcICQoLDA0ODxAREhMUFRYXGBkaGxwdHh8gISIjJCUmJygpKissLS4vMDEyMzQ1Njc4OTo7PD0+P0BBQkNERUZHSElKS0xNTk9QUVJTVFVWV1hZWltcXV5fYGFiYw==",
          "dtype": "i1"
         },
         "xaxis": "x",
         "y": {
          "bdata": "sDK9gjZJ1b/M6x49l5Tgv5yXXi1dT+O/w6mEVN+c2L/11BVZlPrkv7C5EV60Z9K/+hUnMjeA4b8KF0GUzkbav4kFQvScBd6/vm6WAmcS3r+VdRqH+6Lgv3q+EUghVM6/hZ7C73NPzb95AVW9MCHOv5Zp6dV1EdC/Vstaf5Xf2L9cUHaWG9HXv9HzKm7dL9i/0AwKoYEy3L/ONeA2zGDNv40kJ+qdtta/adIb6FpDs7+TaU+kdhrzP4bRZmnD1QtAOF7v+GFTtD9Y+8e4V9npP/zmeBj/8eQ/1mY3FhlOur/Bix93sACzvwONrLFXWM6/OMJ0D18vzL8Vxu23lUmyP3vmLRtUAqU/51QYLlw91j8w7zOKBYa7v9pmdQNS6bC/3B8UFtU8qr9K9XLUAgnRv2xjZ8S8Ssq/WXtHLbs0tr8ywynqhOPRv4Lj0CGvA2e/6QvEdEsOsj98H/BaWDjHv1Yblt9xydw/v6YxsuYIyz/kQR7iDuDPP/gSNqUinds/nd6ATnUY0D/Se3DCgRKVv9aSuezdYcG/kGHjgV0iz7+fyyRu0MXRv13Zhsgxecy/P53LfrGH0L9AtkHzlD27vwo3okmgnNM/aS7k0sWwzb/oaOKq0KC3v2+wCCXTVcy/uXVM/h31yD8ki4mSccfgP3ictJ5j8rm/AysFpvmstr8oLi52VZCuv0hyOHyBGcK/O7GUBkpqxr+svyFm9NDfP1d5d9XuVMq/FL4ziwxhrD+91OD87ILOvx3ykSU9esS/ac2iD6MHz7+nt9CNVrrNvxzHCJHNvdm/U8DPMzhT1b9FRfq5F1L5PwXN2zEN4uQ/UmFCknFRuD8uhQAHM5zKv8dYjVPrzLW/7OHBl4TC/j9ODXEMIKXSv/DhyzNUGNG/A/HSOh6f2b+bJHX9xgLHv7tmhrocafI/cyFhjQcbvD+26QUCkfiwv34RalGf1c+/alTXc/iq1L9kQaT8uU+hP7hAd4wrwc2/cFsOiR0E0b9JUhcoq33Rv6leXJ3eP8e/kAu92pLVVj8hm8qqu2LUv0QWRDU5ysu/RWs0h+Tby78=",
          "dtype": "f8"
         },
         "yaxis": "y"
        },
        {
         "hovertemplate": "variable=K<br>time=%{x}<br>value=%{y}<extra></extra>",
         "legendgroup": "K",
         "line": {
          "color": "#19d3f3",
          "dash": "solid"
         },
         "marker": {
          "symbol": "circle"
         },
         "mode": "lines",
         "name": "K",
         "orientation": "v",
         "showlegend": true,
         "type": "scatter",
         "x": {
          "bdata": "AAECAwQFBgcICQoLDA0ODxAREhMUFRYXGBkaGxwdHh8gISIjJCUmJygpKissLS4vMDEyMzQ1Njc4OTo7PD0+P0BBQkNERUZHSElKS0xNTk9QUVJTVFVWV1hZWltcXV5fYGFiYw==",
          "dtype": "i1"
         },
         "xaxis": "x",
         "y": {
          "bdata": "snwpn3PyzL++HKXMFUPWv1YGq6NfIuK/yXCxgw1O1r/ifgf7ctbhv7tJZV4RNpY/w/7sOjEJ0L9BU3qwYhTYv9vZws5LC+K/I4DLQdR64r8i4QKD12DUv12BJToCg9e/IQhBoeZsvL9G1aBWAk/Wv4I4TXbFi9y/zKiB76WI37/u9royDmDUvxH6nHlQuNy/EotHzllP178KJm8t333bvx2BLeatKOC/1XQVRtaU07+syln14t/Zv9T778AQ+Zo/pqrJLPmZ1b9T0+LOAJrYP6o9xPqQWpe/4J0EOC0s2r/XdN3xtJPWv/YbE8oFyNi/CyXzKs173L+SB7SWFAjdv1X4dYXUfd6/PxDqoNLE2b98v/nAQzvZv3NEY3NGOM6/dOSpz1ZK4L8/DpuHZknXv/60H6uaftW/a34Ko5sA278N48DvVZfXv1rFs/oG+tO/HESTvQiMyL/1uPReGd3Dv/htyvdBvtm/yqav4ZGM17/XJhw07pvOv54KtsfVnc2/5pTXn8/c1r8vfgJubIHSvxCb7riRKb+/WpqOnSN/z79AC/rBigjRv/k99OVKvca/Pl5uQ+hq3L/RAhs1gynSv0dN84P7zrK/fqValOr51b98oKQFbIrTv2t/NDXdPdG/qY7PfnUP3r+7k7KboGXgv4OqkiR/2tW/mfiaSLQXyb8YFE0J9nrUvxWLPLutLdW/YS/DEjlw4b8Pu4gEB7zAv0fowIU2d9K/A0T8ff6auL/YqEunAyXQv7wMv1t6q96/otmt6UW52b/OEUXW+XHZvxNmYDWUccu/KgYxqPS3278OigW5iVjvP3t+XMr+K9U/h4dNosDl1r8c10SHwv/Rv0tpzifTuZg/nnstYHQrEEBBxBfygUraPyOwPaIpk7c/rEx+nBqZpL/oEpGXVUXKPwdAaX2eXAJAb3jmf1GOrD+Gu8xT6EvAv7W8AzgADdC/4f/s7TE4wL8EzWdRycfSv9bn+imZ39W/YUImaaQD1b/ihUXGxFvUv6WyGaw/08m/vjvK1CKRur+GSgTkyVDcv4BPYuyy1tK/j0LPGvdl078=",
          "dtype": "f8"
         },
         "yaxis": "y"
        },
        {
         "hovertemplate": "variable=L<br>time=%{x}<br>value=%{y}<extra></extra>",
         "legendgroup": "L",
         "line": {
          "color": "#FF6692",
          "dash": "solid"
         },
         "marker": {
          "symbol": "circle"
         },
         "mode": "lines",
         "name": "L",
         "orientation": "v",
         "showlegend": true,
         "type": "scatter",
         "x": {
          "bdata": "AAECAwQFBgcICQoLDA0ODxAREhMUFRYXGBkaGxwdHh8gISIjJCUmJygpKissLS4vMDEyMzQ1Njc4OTo7PD0+P0BBQkNERUZHSElKS0xNTk9QUVJTVFVWV1hZWltcXV5fYGFiYw==",
          "dtype": "i1"
         },
         "xaxis": "x",
         "y": {
          "bdata": "NsfUZw8EyL+BQ+oY/PrWv9sMiajnleK/mP75Z/ll278sZmXZNszev2+lc+ilebu/bGyxovPl0L83Ni9w9GPSP6ohf/pPycq/mqPp3eFu0r/S4NUKNrq7v+Xj+eZI5Li/DMKsXQrM1L/vuxz1unPKvzXSsHeXH9a/7qWSSyzX2b+NLy7UzTW+v2hMqK8+ZNu/YbBvT/NZ1b8f4rKjY9bdv+ER38XiRN6/FnF3rJ5I2z+3/hlkYJjJv3VC/96RaeA/z/iTgTv/179ob/imiQHLP/6O6I7/juE/tD84Mudv1L+NPDxVHXzUv1TPlCqIVNm/Ofq8pSuH2b8b9vYnivjQv+D6JkPn49+/u7/e7NAg1L+OiwG1C/nZv1up9uVaWMe/vQTmyt1z4b/1kZRdyafbvyK9qx5aEtC/3lckpfD9179R5aDI78jVv6MczsgwhNq/RhQx1/vj3r8Bpc47Dc7Vv4ug4tyHM8W//M+fvigw1787L3BjOIzavzsr1ewYo9y/1PrggZP727+EyXHhRSHdv1Ofj9dlZ9m/O2Vniw+M2b+kzgHhTbzBv9+Uq4kOZ96/K1QeheDu4L/spqtJKK3Zv0gdxGi6reQ/TRHYUFLoqj+z7WK1GhnQv6CMguMZgdK/X15NUxIayb9d1UYisMXOv/tlQWuo7s+/W1nM5Uwgwb+0qqm0CQbTv0hvcZoCzti/1ELtk20+yb/AJ7iVx3vlPy/nAVQhwdS/MEl+klKNtT/Cp/Wgc/PFv/9B1fzhsWW/1Vc6Rhbyxb+rVm1fw/7VvxXYP1YUvMu/51eccT3q1D/zGWxbV+vxP6UpuTj+vuE/BakKosf3u79Y2gf2+W3gP1hB0OKUs+s/M/1+/b9H7z+sVGa7JpnOv1/g1Sv1M9i/ugorPDiA0T8ch7GgXu4FQI/KLJxWSQdAt11bSMMh8T+mhG+3ranzP3QQm42yL8U/YbQH76w00z/77hGYD2PdPw5C9c2DBra/Obc0cT17pL/5z2JwaajOP4nzb9LfyIg/vJKGGqGK7D9QNSp//a2ivxlZ+bbWoq0/NwfqRkOdyL8=",
          "dtype": "f8"
         },
         "yaxis": "y"
        },
        {
         "hovertemplate": "variable=Y2<br>time=%{x}<br>value=%{y}<extra></extra>",
         "legendgroup": "Y2",
         "line": {
          "color": "#B6E880",
          "dash": "solid"
         },
         "marker": {
          "symbol": "circle"
         },
         "mode": "lines",
         "name": "Y2",
         "orientation": "v",
         "showlegend": true,
         "type": "scatter",
         "x": {
          "bdata": "AAECAwQFBgcICQoLDA0ODxAREhMUFRYXGBkaGxwdHh8gISIjJCUmJygpKissLS4vMDEyMzQ1Njc4OTo7PD0+P0BBQkNERUZHSElKS0xNTk9QUVJTVFVWV1hZWltcXV5fYGFiYw==",
          "dtype": "i1"
         },
         "xaxis": "x",
         "y": {
          "bdata": "lU+PMVzY0789ujGdPYvTv0nrZ1UfNeS/FrKIDXQg4b+NUEZkW2Xfv6VdxyT46uQ/QKLouh82yL/wPSU1IKbTv6nP/uCq/NO/+ruDA82f3794P0HcRIvTvyMO+E8bOMe/0tUKAE1f0L/gZUxIOA+aP58RYywNAty/SvDgizPR3r+G8B0vadDSv9vw7ciKWtm//m/gnZdf4r8TqEBRJT/Xv4oH0ApRxdi/ctgFh11XwD9rtPDJO8HXv8GZt2V9tOM/yQ/MukLE2b9zeqSDzPTCPwiKCHw3cKg/t7knpvlg4r+PIwcLiWmkv8rJ/OsiBOO/ZTW+pp0O3r+KbaVoddvdvzfzD186U+C/+qkOZMcw0L+++FnH/6ngvxnjs99QP9e/7cNaxqIv5r/uPXlRWJzhv+sxlQcSXeG/X8IVfqzg278H6vxavhPnv03URE7k3dy/OHQI56Yz3r/ak0IZGcTXv0yetKVcRNa/EBc2GAgm4L8Qfm1n73Phv5m0B3qCA92/Wp5nezH0z79gtT7iE3nUv0NMIJlPpOG/iR3N5jDf3r8llxVGF/bLvz7SompLk9y/4XNPtnrA4b9zMWpJPebZvxq1Eclaqdy/cPvZF2zq4L+oQm8TrJjXv/W9E7GyQuK/+JJe4Se7h7/lQgH7JYXMvweXjfgaIdy/vXMbfQQd3L9KYSS89j/gv9kNUl8yqt+/JBBYai9H4L/QOgq63AO3v2ev5DhVhd+/bNIoJflrzT8mSkqnRoyyP5FqpL8RU86/aBlm3+ph2b9XokS8b7zhv4BFy85x4MS/8QpunheY1b819o/sx0PuP01x3MSS5dk/zxQ5PWPN2r/6yhPIzmTfv1mEVseBv8i/OoYk+pPT+T/qZ0IkQbLFv0+4PZgrztq/RYSlPvYp2L/Qmm9dLKnTv9Fpvn7Y7OE/zZXy2mCH0r+UejG17nzbv+RxrXrkgtu/vS1oEEO0zL/0SzErI2zUv+4eNBTnodu/jXGpo6u14r9tYkbXVkLYvymqW1zRRNm/oyBv4xdikb90xqvMLsXgv+Mfpy8Y8OK/xwV9Ah2l4L8=",
          "dtype": "f8"
         },
         "yaxis": "y"
        }
       ],
       "layout": {
        "height": 500,
        "legend": {
         "title": {
          "text": "variable"
         },
         "tracegroupgap": 0
        },
        "margin": {
         "t": 60
        },
        "template": {
         "data": {
          "bar": [
           {
            "error_x": {
             "color": "#2a3f5f"
            },
            "error_y": {
             "color": "#2a3f5f"
            },
            "marker": {
             "line": {
              "color": "#E5ECF6",
              "width": 0.5
             },
             "pattern": {
              "fillmode": "overlay",
              "size": 10,
              "solidity": 0.2
             }
            },
            "type": "bar"
           }
          ],
          "barpolar": [
           {
            "marker": {
             "line": {
              "color": "#E5ECF6",
              "width": 0.5
             },
             "pattern": {
              "fillmode": "overlay",
              "size": 10,
              "solidity": 0.2
             }
            },
            "type": "barpolar"
           }
          ],
          "carpet": [
           {
            "aaxis": {
             "endlinecolor": "#2a3f5f",
             "gridcolor": "white",
             "linecolor": "white",
             "minorgridcolor": "white",
             "startlinecolor": "#2a3f5f"
            },
            "baxis": {
             "endlinecolor": "#2a3f5f",
             "gridcolor": "white",
             "linecolor": "white",
             "minorgridcolor": "white",
             "startlinecolor": "#2a3f5f"
            },
            "type": "carpet"
           }
          ],
          "choropleth": [
           {
            "colorbar": {
             "outlinewidth": 0,
             "ticks": ""
            },
            "type": "choropleth"
           }
          ],
          "contour": [
           {
            "colorbar": {
             "outlinewidth": 0,
             "ticks": ""
            },
            "colorscale": [
             [
              0,
              "#0d0887"
             ],
             [
              0.1111111111111111,
              "#46039f"
             ],
             [
              0.2222222222222222,
              "#7201a8"
             ],
             [
              0.3333333333333333,
              "#9c179e"
             ],
             [
              0.4444444444444444,
              "#bd3786"
             ],
             [
              0.5555555555555556,
              "#d8576b"
             ],
             [
              0.6666666666666666,
              "#ed7953"
             ],
             [
              0.7777777777777778,
              "#fb9f3a"
             ],
             [
              0.8888888888888888,
              "#fdca26"
             ],
             [
              1,
              "#f0f921"
             ]
            ],
            "type": "contour"
           }
          ],
          "contourcarpet": [
           {
            "colorbar": {
             "outlinewidth": 0,
             "ticks": ""
            },
            "type": "contourcarpet"
           }
          ],
          "heatmap": [
           {
            "colorbar": {
             "outlinewidth": 0,
             "ticks": ""
            },
            "colorscale": [
             [
              0,
              "#0d0887"
             ],
             [
              0.1111111111111111,
              "#46039f"
             ],
             [
              0.2222222222222222,
              "#7201a8"
             ],
             [
              0.3333333333333333,
              "#9c179e"
             ],
             [
              0.4444444444444444,
              "#bd3786"
             ],
             [
              0.5555555555555556,
              "#d8576b"
             ],
             [
              0.6666666666666666,
              "#ed7953"
             ],
             [
              0.7777777777777778,
              "#fb9f3a"
             ],
             [
              0.8888888888888888,
              "#fdca26"
             ],
             [
              1,
              "#f0f921"
             ]
            ],
            "type": "heatmap"
           }
          ],
          "histogram": [
           {
            "marker": {
             "pattern": {
              "fillmode": "overlay",
              "size": 10,
              "solidity": 0.2
             }
            },
            "type": "histogram"
           }
          ],
          "histogram2d": [
           {
            "colorbar": {
             "outlinewidth": 0,
             "ticks": ""
            },
            "colorscale": [
             [
              0,
              "#0d0887"
             ],
             [
              0.1111111111111111,
              "#46039f"
             ],
             [
              0.2222222222222222,
              "#7201a8"
             ],
             [
              0.3333333333333333,
              "#9c179e"
             ],
             [
              0.4444444444444444,
              "#bd3786"
             ],
             [
              0.5555555555555556,
              "#d8576b"
             ],
             [
              0.6666666666666666,
              "#ed7953"
             ],
             [
              0.7777777777777778,
              "#fb9f3a"
             ],
             [
              0.8888888888888888,
              "#fdca26"
             ],
             [
              1,
              "#f0f921"
             ]
            ],
            "type": "histogram2d"
           }
          ],
          "histogram2dcontour": [
           {
            "colorbar": {
             "outlinewidth": 0,
             "ticks": ""
            },
            "colorscale": [
             [
              0,
              "#0d0887"
             ],
             [
              0.1111111111111111,
              "#46039f"
             ],
             [
              0.2222222222222222,
              "#7201a8"
             ],
             [
              0.3333333333333333,
              "#9c179e"
             ],
             [
              0.4444444444444444,
              "#bd3786"
             ],
             [
              0.5555555555555556,
              "#d8576b"
             ],
             [
              0.6666666666666666,
              "#ed7953"
             ],
             [
              0.7777777777777778,
              "#fb9f3a"
             ],
             [
              0.8888888888888888,
              "#fdca26"
             ],
             [
              1,
              "#f0f921"
             ]
            ],
            "type": "histogram2dcontour"
           }
          ],
          "mesh3d": [
           {
            "colorbar": {
             "outlinewidth": 0,
             "ticks": ""
            },
            "type": "mesh3d"
           }
          ],
          "parcoords": [
           {
            "line": {
             "colorbar": {
              "outlinewidth": 0,
              "ticks": ""
             }
            },
            "type": "parcoords"
           }
          ],
          "pie": [
           {
            "automargin": true,
            "type": "pie"
           }
          ],
          "scatter": [
           {
            "fillpattern": {
             "fillmode": "overlay",
             "size": 10,
             "solidity": 0.2
            },
            "type": "scatter"
           }
          ],
          "scatter3d": [
           {
            "line": {
             "colorbar": {
              "outlinewidth": 0,
              "ticks": ""
             }
            },
            "marker": {
             "colorbar": {
              "outlinewidth": 0,
              "ticks": ""
             }
            },
            "type": "scatter3d"
           }
          ],
          "scattercarpet": [
           {
            "marker": {
             "colorbar": {
              "outlinewidth": 0,
              "ticks": ""
             }
            },
            "type": "scattercarpet"
           }
          ],
          "scattergeo": [
           {
            "marker": {
             "colorbar": {
              "outlinewidth": 0,
              "ticks": ""
             }
            },
            "type": "scattergeo"
           }
          ],
          "scattergl": [
           {
            "marker": {
             "colorbar": {
              "outlinewidth": 0,
              "ticks": ""
             }
            },
            "type": "scattergl"
           }
          ],
          "scattermap": [
           {
            "marker": {
             "colorbar": {
              "outlinewidth": 0,
              "ticks": ""
             }
            },
            "type": "scattermap"
           }
          ],
          "scattermapbox": [
           {
            "marker": {
             "colorbar": {
              "outlinewidth": 0,
              "ticks": ""
             }
            },
            "type": "scattermapbox"
           }
          ],
          "scatterpolar": [
           {
            "marker": {
             "colorbar": {
              "outlinewidth": 0,
              "ticks": ""
             }
            },
            "type": "scatterpolar"
           }
          ],
          "scatterpolargl": [
           {
            "marker": {
             "colorbar": {
              "outlinewidth": 0,
              "ticks": ""
             }
            },
            "type": "scatterpolargl"
           }
          ],
          "scatterternary": [
           {
            "marker": {
             "colorbar": {
              "outlinewidth": 0,
              "ticks": ""
             }
            },
            "type": "scatterternary"
           }
          ],
          "surface": [
           {
            "colorbar": {
             "outlinewidth": 0,
             "ticks": ""
            },
            "colorscale": [
             [
              0,
              "#0d0887"
             ],
             [
              0.1111111111111111,
              "#46039f"
             ],
             [
              0.2222222222222222,
              "#7201a8"
             ],
             [
              0.3333333333333333,
              "#9c179e"
             ],
             [
              0.4444444444444444,
              "#bd3786"
             ],
             [
              0.5555555555555556,
              "#d8576b"
             ],
             [
              0.6666666666666666,
              "#ed7953"
             ],
             [
              0.7777777777777778,
              "#fb9f3a"
             ],
             [
              0.8888888888888888,
              "#fdca26"
             ],
             [
              1,
              "#f0f921"
             ]
            ],
            "type": "surface"
           }
          ],
          "table": [
           {
            "cells": {
             "fill": {
              "color": "#EBF0F8"
             },
             "line": {
              "color": "white"
             }
            },
            "header": {
             "fill": {
              "color": "#C8D4E3"
             },
             "line": {
              "color": "white"
             }
            },
            "type": "table"
           }
          ]
         },
         "layout": {
          "annotationdefaults": {
           "arrowcolor": "#2a3f5f",
           "arrowhead": 0,
           "arrowwidth": 1
          },
          "autotypenumbers": "strict",
          "coloraxis": {
           "colorbar": {
            "outlinewidth": 0,
            "ticks": ""
           }
          },
          "colorscale": {
           "diverging": [
            [
             0,
             "#8e0152"
            ],
            [
             0.1,
             "#c51b7d"
            ],
            [
             0.2,
             "#de77ae"
            ],
            [
             0.3,
             "#f1b6da"
            ],
            [
             0.4,
             "#fde0ef"
            ],
            [
             0.5,
             "#f7f7f7"
            ],
            [
             0.6,
             "#e6f5d0"
            ],
            [
             0.7,
             "#b8e186"
            ],
            [
             0.8,
             "#7fbc41"
            ],
            [
             0.9,
             "#4d9221"
            ],
            [
             1,
             "#276419"
            ]
           ],
           "sequential": [
            [
             0,
             "#0d0887"
            ],
            [
             0.1111111111111111,
             "#46039f"
            ],
            [
             0.2222222222222222,
             "#7201a8"
            ],
            [
             0.3333333333333333,
             "#9c179e"
            ],
            [
             0.4444444444444444,
             "#bd3786"
            ],
            [
             0.5555555555555556,
             "#d8576b"
            ],
            [
             0.6666666666666666,
             "#ed7953"
            ],
            [
             0.7777777777777778,
             "#fb9f3a"
            ],
            [
             0.8888888888888888,
             "#fdca26"
            ],
            [
             1,
             "#f0f921"
            ]
           ],
           "sequentialminus": [
            [
             0,
             "#0d0887"
            ],
            [
             0.1111111111111111,
             "#46039f"
            ],
            [
             0.2222222222222222,
             "#7201a8"
            ],
            [
             0.3333333333333333,
             "#9c179e"
            ],
            [
             0.4444444444444444,
             "#bd3786"
            ],
            [
             0.5555555555555556,
             "#d8576b"
            ],
            [
             0.6666666666666666,
             "#ed7953"
            ],
            [
             0.7777777777777778,
             "#fb9f3a"
            ],
            [
             0.8888888888888888,
             "#fdca26"
            ],
            [
             1,
             "#f0f921"
            ]
           ]
          },
          "colorway": [
           "#636efa",
           "#EF553B",
           "#00cc96",
           "#ab63fa",
           "#FFA15A",
           "#19d3f3",
           "#FF6692",
           "#B6E880",
           "#FF97FF",
           "#FECB52"
          ],
          "font": {
           "color": "#2a3f5f"
          },
          "geo": {
           "bgcolor": "white",
           "lakecolor": "white",
           "landcolor": "#E5ECF6",
           "showlakes": true,
           "showland": true,
           "subunitcolor": "white"
          },
          "hoverlabel": {
           "align": "left"
          },
          "hovermode": "closest",
          "mapbox": {
           "style": "light"
          },
          "paper_bgcolor": "white",
          "plot_bgcolor": "#E5ECF6",
          "polar": {
           "angularaxis": {
            "gridcolor": "white",
            "linecolor": "white",
            "ticks": ""
           },
           "bgcolor": "#E5ECF6",
           "radialaxis": {
            "gridcolor": "white",
            "linecolor": "white",
            "ticks": ""
           }
          },
          "scene": {
           "xaxis": {
            "backgroundcolor": "#E5ECF6",
            "gridcolor": "white",
            "gridwidth": 2,
            "linecolor": "white",
            "showbackground": true,
            "ticks": "",
            "zerolinecolor": "white"
           },
           "yaxis": {
            "backgroundcolor": "#E5ECF6",
            "gridcolor": "white",
            "gridwidth": 2,
            "linecolor": "white",
            "showbackground": true,
            "ticks": "",
            "zerolinecolor": "white"
           },
           "zaxis": {
            "backgroundcolor": "#E5ECF6",
            "gridcolor": "white",
            "gridwidth": 2,
            "linecolor": "white",
            "showbackground": true,
            "ticks": "",
            "zerolinecolor": "white"
           }
          },
          "shapedefaults": {
           "line": {
            "color": "#2a3f5f"
           }
          },
          "ternary": {
           "aaxis": {
            "gridcolor": "white",
            "linecolor": "white",
            "ticks": ""
           },
           "baxis": {
            "gridcolor": "white",
            "linecolor": "white",
            "ticks": ""
           },
           "bgcolor": "#E5ECF6",
           "caxis": {
            "gridcolor": "white",
            "linecolor": "white",
            "ticks": ""
           }
          },
          "title": {
           "x": 0.05
          },
          "xaxis": {
           "automargin": true,
           "gridcolor": "white",
           "linecolor": "white",
           "ticks": "",
           "title": {
            "standoff": 15
           },
           "zerolinecolor": "white",
           "zerolinewidth": 2
          },
          "yaxis": {
           "automargin": true,
           "gridcolor": "white",
           "linecolor": "white",
           "ticks": "",
           "title": {
            "standoff": 15
           },
           "zerolinecolor": "white",
           "zerolinewidth": 2
          }
         }
        },
        "xaxis": {
         "anchor": "y",
         "domain": [
          0,
          1
         ],
         "title": {
          "text": "time"
         }
        },
        "yaxis": {
         "anchor": "x",
         "domain": [
          0,
          1
         ],
         "title": {
          "text": "value"
         }
        }
       }
      }
     },
     "metadata": {},
     "output_type": "display_data"
    }
   ],
   "source": [
    "set1 = [\"C\", \"E\", \"G\", \"H\", \"J\", \"M\", \"N\", \"Y1\"]\n",
    "set2 = [\"A\", \"B\", \"D\", \"F\", \"I\", \"K\", \"L\", \"Y2\"]\n",
    "\n",
    "# for c in train_data.columns[1:3]:\n",
    "#     fig = px.line(train_data[:100], x='time', y=c, height=400)\n",
    "#     fig.show()\n",
    "\n",
    "fig = px.line(train_data[:100], x=\"time\", y=set1, height=500)\n",
    "fig.show()\n",
    "\n",
    "fig = px.line(train_data[:100], x=\"time\", y=set2, height=500)\n",
    "fig.show()"
   ]
  },
  {
   "cell_type": "markdown",
   "id": "7d1cc8ac",
   "metadata": {},
   "source": [
    "Now see the first 756 data. If the time indicates (working) days, then we may find (yearly) seasonality in the first 3 years of data (?). HOPEFULLY, WELL IDK?! HAHAHA 😭"
   ]
  },
  {
   "cell_type": "code",
   "execution_count": 54,
   "id": "c162d334",
   "metadata": {},
   "outputs": [
    {
     "data": {
      "application/vnd.plotly.v1+json": {
       "config": {
        "plotlyServerURL": "https://plot.ly"
       },
       "data": [
        {
         "hovertemplate": "variable=C<br>time=%{x}<br>value=%{y}<extra></extra>",
         "legendgroup": "C",
         "line": {
          "color": "#636efa",
          "dash": "solid"
         },
         "marker": {
          "symbol": "circle"
         },
         "mode": "lines",
         "name": "C",
         "showlegend": true,
         "type": "scattergl",
         "x": {
          "bdata": "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",
          "dtype": "i2"
         },
         "xaxis": "x",
         "y": {
          "bdata": "1XGXfyxL5L9QYb4AzJOlPyQ9Jmoiecu/3fTqWEtw4D8YJZU+BCvGP9lE21tax70/KLcaZboA0L+YX+/9BoryP7hVhTOmY9y/WhE2zIgG47+de/KStW/vv3cSJ7gxTeU/yWJtxxXM7z+24fU84Da3vxuFvOycAcG/6Oa3jNe9qL8TsHO/17XgPwA33c4Nxbo/hesAKkhEi792+pO1UVzJv90T6nRaNdS/Uj4bWLc44b+V9Sb9OunYv6+wyOOHf+q/QbEa1Y772T+Vhi3wWFn6v3ua4coPktQ/0en/1gEiwT/5hMurhK7MP4KmYFAYlcE/f1gr92wl1b9SkDmRH1fYv84jce8u6KA/NOlGZf8i4b8w315wWqS1P3uCbPp7wNk/egvE4vYT2L9xpQWrJ0Dnv3RkP1xPwes/un0b5fVzub86NerglDS9v5O8VBM9RuG/NqfCoF6rq79NVmtB1laxv30HaiZI/N4/IIdzO/Bs1r9LXKsksaPKPx76z21weta/Ig8qnLXO1z/r68HWF+K/v63NZgLxPti/fKkvkd2S1D/zuGJcSrLUPwC9zI8Rob6/T4I2NDQ5zT/zpLsDKkbjv6m5kPGDatK/Gy9xLM73zj8WYSE/CtjAP8a1OyjOTNI/y4+oBvXzuz/0ElJ5W0vWP/FiAcMFjL+/iZP+h5N80b/peLvipu/hvwKprQIdcbo/J98+k5oBxD88KGOyjmHpv9BM15Wb5OQ/3+tfhNTr3j8QWOrgA9bWv29eXbJE6p6/G6gDTboB2j8BFZEcTJfZv1ayF9AgeNi/dlbyfDMFwD/LYU2n06MCwNqFZj5+aM8/TuMc/LDJ0T/8gjV5NWvYv8I2O6Qulu6/GLGXVmTrCsAhB+PstHD3P9WYHlg86NS/YgQxT+bhyT88x0uWfWT4v7DhGg3ASQHAsjj7PxiG7j9BrjI1zP+DvwpGQ4mgFuU/vv3hNT28yD/VEcfMCVrYPy6NzpUyNtM/gPHX6R+/yz/Rc1TGMUnZPwTU5rBRmby/4I+5zNAb3T806dJOABffvxZs/xkfZua/f5YYbUfx3r9+fho0CSr+v4jQfC2cVOm/i0YEpTHUmb+0xZZYPm3GP6d3vEhbTu0/zBH15C6jzT+btd88PG7Nv85W2Mr6hPC/8pETUfSk7D+nkY6Fk6vdP59NLgewlu6/9qVYaX1s0T8++x582O3iPyc/k8fKIuY/VQmFsQPKxT8KGzm0VCjQP1L5WJeWiL8/DdfkwXW4/j+35619buPwv6pjE3Hk2eK/kpVeyV3+1z+KnZdHVh3ev5fUj2RxbqM/2KLipNMmzz+nXDmg/umfv/0cwabhwPI/xZXiQKq0zL9E6w2Nlb3HvwMT+gs5/cy/IoAgbJfBxj8gN/nFgRbAP6/Jhs3bjeI/5whVbTMD079SqT8w8kHXPwTV4U5+Vn+/DhN/FAhNxL9I7WKuxM/Nv0aFzfXcmdm/j+cOJeAt6j92UgETmaLRv05LKBI1Qbc/U2CtYnna1j8jsDnu+syqP1E9lm9gntQ/slD7j0WXvr89JDnEQ4TOPxoM20xHvLA/e4SHm03427/naGm2cQScv5js9M9Sp9u/pVy6IQD9ub+wPx76mKLRP57TzKP2L9k/msVOsaY0zb9/zUss06rEP6KHbGEB8sM/B38zTm9a0b/Qt0Wx3trSPzlsE8ovW9O/BZJQkTwQuL+zve2b7n3Iv3P1MESDBtC/P/t6Nyn90L8G9bGgDjTRvy4OEFZLhcm/RG/HVcnk0T/kdyTo4X/xPxQtWGxVmc4/of8XulQb7T9+2RN473rkPwVl/CQUxOq/+OewcVdt4r/HjohgYYDrv+3JyVQWwtM/luIyuGpWwL9/aRciI57Rv89g4bwCvb0/oUDaEmlIyL/Vho9ELr6FPy83gPDyM6m/NED+/2Gi1z9sjqNqlr3FvwsC2S6b8rG/rUrct1LNoj9ORM83F1u+v8eIHm9Gc7G/9Cue+vWjsD8AHRAp3avNPwaRjB/VHbg/MmlIBIqc0b+uGiwKlebcv9SkwMh7ytk/Qk1WYBoY0b81JSzSwVnUP+ouhfcCkdG/Fpp0/N8A1T/ZsKP4t8nOv47A6GAvE66/6wmtO9dByj8scEa76z3dPw1Ur+krDbM/DEV3CyrI2L/0LxqY2O/Vvz0FWKgy5+y/wdTpennL4z+Lk9xHr9SbP8bAbsjSbOy/RC8yp3xowj+CblEHQMbOv9qRDsd1l6m/GfddSm9X0r+fSzeb5Wqsv9FvKRp97Ks/udf2IZCuhL8/HK5ISgTgv9/4YVorwPC/ldcEuF65xr+2KYDgsl+fvwrbvbG3l2s/vY5puwi2+b8nZkaKTFSyvz6Hdfsl2tu/8sFJI/LJ+79vcNa+XULiP1iNlomYGdI/C2Qn/IFr4T9P3jQu8dSfP54wamWVpc6/qhqaD0adxj9hEqLGqsC8P/PmyqCrtsI/wj+3pgQ54z/jjP3NjNSjP8npkY1suco/UNFD94Vt3D/9MaDOPUbpv+8q6ReIsNG/yHedEtiwAkBoWN4SpSXovwBFFhgDHK+/YqjaVHn6079yKkKthhjAvzuqWypqkdE/oPObQUfJxL9uxh/RjZzmP/M0fbRcbtG/6nlgISQM1b+CkjLE55m/P/zoAVawT9m/S6imwZpnxr8woo2HRC/WPyo+mJaDD++/kab7/DJXs7/9GyYx+c/MvztwUt9C7NC/qY0lfZir7j8CKo6cxzvXv2w22Brji8Y/KJ6IowfbvD/I/hveUTzav4H2dRs2nOE/LGXxR7VVxT8XMesZNITsvyUW3UrerNk/HgttPkK5OL8LAiohgU6+vx2lKrJ4wpo/HO1c777Ez79kn/tqDDXQv3yCejVVntQ/8nAqNrbl4L/jiCDf5fjEv2rVInOVA+K/2StlTCuqqr8U+cjRS9fYPzlN/i/gGsQ/xJ19GTaFyb9LtSoo513Qvz9fXRnj9YU/HavTbJ0b1j+NR1yE+a/Ov+qjFM22n2S/zz3M7bpR3L81yQmt49vEP8ELIqrRgca//1sYCTBU0D/eG+B64WGxPyW/S9hXCOA/JJV1pmLn1j9B8UKICjffv+tcKojEFto/ug7XI9zWrL8G+1s6Jz6PP+dlcZRNit8/7HfvKiFlwT8/Hl57jsfkP0bNehe6zeG/q5hPQ9dxpz8Hh2rrX9vkP9tkhJ69W+O/U71rNkD24j+BsF6sfXK9v3Zh9/exruE/+k/itU+vir9BOcCCjDHSv1aY8GSO6GM/RY/ytdqS5L/kPiFYUCzSPwuSr5NXvtG/hDNb9Fmdyz/GzV+1fJWjP5NQZYfeWsQ/aXgdlnlHsz+3aTicLIuwv304x6MGC7g/keVaGRCqrr9WVECoj1W2PxKbCwxYQti/trvzjlHm379LhngSK2jEv49nih14IrU/sx+bV4pkv7/S5WZUW4Hav00ETFhK76a/nxNTDwh91L9wqrVbvOCVv0IZMf1c+8S/bI8OtJPHu78hNyIKETWuvyxDOIdmtds/EPn5B+l+ir8o1ELou7PEvzBsUmRVz9U/fG6e8kdpxb/7mct5LarHP3g3m+FgBLW/KLzqEHUJ4D+M6mePumGLvyebjRHnkdC/F9JsmtVkyb84VBGJkEjYP8sD3O9H38+/UstWDXBwwb+eHqb803i3v+WSqgt2CdO/OMICLXyt2j819ewRDp60v6/Xne6bc+E/zLOMVz7Lkz8MJbyZfgyrv88jklyVpcC/UpTJWjTY2b+WdjlSqlLYP8MAZGKJu+m/JCiXEGblsr/qYmbNgE3qvxrJwiw5888/55T2LMT17b/pu3rc9gTqv6MH4ojPruC/JU76PjHUmL8NMN/0bSLcv/9jlpXWR2Q/U52ofD/6tT8LeaJfA+T5Py+qgWib1+w/0Cl4clSK0L9RP0H4uLqxv4AAHyfbd+O/FnjcxeA517/TYbAceAbXPxfxEJT37Ns//pSNXVeNzr+CKy0shNfAPxh6r6kVJqO/dvzxJB453T+nF/DpPnavv04Yppu4z9u/V3vmlpu1pz/6aRytn53YPylVY8MwlQJA05rFPSOLpz+HQOalJhPiPzLfcCC/3uO/TJvA5vop1j/EW9sAKUbFP39gaxvXcus/0ai6BFsv0T8T1MSrD2i3vzaqCfJtTMS/6rg0a0O9pL+BNzuIIfnDP+cGD0FEo72/Lvpo4zqY0j8nhfZDky3OPycNYjSZtuS/b8uI5zYV6D9g99r6k/zQv7AEKDPpCeK/vl4dMxOJf78GGcuGvjrQP+9ObvMDDfg/UW0XX4FF078wP6RgEx0HQBIwlYIX2sm/zN6y6agA8L+UEc1rc+d9P1WuTAnMfeg/JQGhAw6Zxb/721DSPlvWPzhuQfjjT+A/A5WPZ+Sp6L9v4RxAvR2hP34BIsbKXKU/oWHtgBMN4b8aYGhBqUnFvxhOSHEQ+tO/rUbusq751r9Sw+80aCbkv/38ZSocbr2/qZUlR3qHur8O73puUozaP2o2JL1ISp6//WKYDAo5zL/PuRBd/cvkP595/+norLo/58MzcXpN0j9DWstirO7gv3Y3bstYX8a/mfT4ikE00z8+ZU9O1+Dav6xZ+/LSK8O/rBZ76SOXtb9xJw1OJzjUP2pXP5sKu9E/0nodBWx47j8rVY0XadrHv3ad8R+eUsO/BUCSRS2X3z+0GkN9bqnxv3rVsnVpBdy/h3NPOhDHy7/FCUD/y62Cv5V7ZHYPEL8/4tYOOa3h0T/LxIAl7s3bv3eV6xtOMdQ/LM+llpjby79Wd85XKIT2v9gAAidfTvc/WRfn+mc/4r/v8dqQQy7Cv9t/GPwp7u+/4OUizMnQ4T9M0JYOXNjqv1sqVZOcl98/XGjxwGEU0D8V/TYF753dP2nACWABit6/0+cxtpqm2j+doj0kBa/Lv83TZATWHcI/X4oNeS1ItT/kmZN4lGLrP59eOkclMtI/52C2mx040r9Bg+L2BtKxP/rLHaVO3uM/a1FfpS9fv78VNWdVtVPEv+PX+Nt1D8y/FYLW267N4D8ydpUxTqXAv+EPEufz0t2/d8luUxgQpb+QwyWHPifLPwIDdkCxs62/7L/T3YjK07/hta9Y9B/nv7pFFB/iqL0/Jqn1rRw6uL/XZzjIjdjYP05xfgUgM6e/Nh6fWpXfyL9OBnN+SZ24v0DD7uuZkbC/8guZdBwprz+Yep503C7eP02eIxPF/rw/uIHpFxEJqb9lsJUWCrK0P6G4G/poP8Q/7v3FR1PWx78WBzU1v8LHvwpk+YB5Brw/c66qlVhPvT/sNqfn1D6lv3DZ/2ism8Q/L82KzTA0tL8wboq53Dyvv5K1lcj0ibc/OLlAYKbalL8VP+uVQG+pv95J1jyP+q8/Ywzf8VFLzz/sQixSv/+8v9eYHkJSc6O/s+5SyAXG0z/P+WZXY5bQv1ecb4rE0sm/vw8N+Ia7f7+FKOgLt3W8PwZfC384vei/SeYfHU9Qoj/ryszcXSLYPzcu70qvid+/UEn3on/EP7+I6HINLG6iv+rny//zDag/3q6s9rYJuD+IKwewisPDP7/YyqJRmsw/0g+PnLnUvb8IsEOr9eXpv3Aj/mHtP8e/aLJsXIHZyb/5+dqXXuzfvxwefjkiyc0/5AL/74AnkD8sj6mpc0CUv7rksRX/nMY/tCZeZ0tw2T9W0O++WRGCv5UpO741j6G/wTni99pGlT838hQ6TxKmv6AW92LDStA/ENEP/ak1zL/XD6iq9MSsvyBtzMxObbk/fvyWo3ABuD9vIjbi2dzZPwvFme4FAsU/Jfn6qzqrxD/ydI7fw6TVP2uN1PmZyKi/CXDX7OL22L/Hk3XKr96ov+L2eTD6Y6e/hGFzV2ubkL9K34uRwqixvyP2KoEfs7k/F3faK9iu2r+DWXooMfPQPwjTnoPkAKW/ofGU/EEm1L+V6Cu5R12VP2zMpz17R5O/z3gx/Oksuj+TfIEIAoS0P1KZ/5lh8NK/ddpOyYt+zT/1hHmAv0rDPyCCQXVkmZQ/JW8nVZXCqD+gLiIITMrNv+QCnNRPyMM/nsCXLK5m4T+836oNrJO6P3jfiHc9dtC/GGyUWcQmxr/Ui5uc8QXgP1K0U53NYaw/DTdTCoFfqb8qtdO/S2W2P3Yq3sS477i/Pd6jdPI6uz+z4wuiX+LZvy5dGGdVEN6/JRGDNCRDqL8o/nQBBxydPzonw4p40Wm/JSZ1VNJfyD/0zASIoZbLP9xOBbzPq8Y/EaICzi89yT/F32Y5pBjRv3rqQzFqYaq/X7tF0FU+tj/ETrOp5EvOP2LRBdTodbM/pfAPzAdfyL8Be0MECUVgP+r/gO/FnLo/qEimrKEOsr9ZWtcuPMriv7AmBN6nolM//REJHpNswL+HnP23yVO/vzfM3MWMi88/LKWwqQAz0T+mBHNnga7Uvxrl6dn7RcK/IGgQSlZixD8L5v0ks+aVv2AcwZhaJ3a/m0I1MN9Bx79u9uxY3YfIv4bwMqCkYNe/NI6uh/1y0T8moxFkWp/ZP5GadQsQA6K/0HtoIwQe1D9OX5AQbZLbv/YlOBXnQJq/pexfTaB8zz/6lWXEU3XNvwJ5BDg/wtW/hIsWPJP4wD+P483x23KsPwYJeOqv3de/P7YgP4BEur/NSpmQUgOzP/bk9x9I48w/OOxU/H332b/HhBJY4B3MP/wfFpZmOsk/IKsoxHYOyL+2+FXdrILmv6KsQG68Ccq/amsijWaE0j+O8c47XjbAvwWZkIXr2L8/BFFRuUAsuj864TZRo5alPzKFLbmgj7c/KbBe6VLnrD8kwe0+uKfZP8kSg8fpbrC/4JUUZHlhw786FmVeGlSxv8qGoNh6CNa/eL57OYfKtL/H44w4ZRDOv9jIbOgFh94/MKkSeGAW6r/dzVbuGi/jPw4szn+RE7g/ES1/hPx8xj+7XrDbU43qv+eTERyUIt2/++vzZ303zb/GxiE6XJnZP+IiymZkZso/EarhBXxN0j+LNBJg0pC3P8oVYRixpuC/IK9GmFu4yr/WTXt+h3vJvwOaOUyBV5i/yRsBMIpqxz/cx4z8CPWxPzmx+o+cQNO/GjtkJvi2gj93PT/6gR/VP5t5dNzMC8E/mlOb2k1k6j+VKTIZLRLYv7kOJcU5dMK/giey4mKP0D8yIImd5vPPv259sGyOPsM/sJvwxRfo0D8XANANqzrcPyhMgUsrO/I/Va0Vh+ro1D8YZc0BHejqv3266DTjFbW/yT4v4o2Zz7871fakx9HXP3YlVi0AQbk/w8BVtw6L0j8GrihweyWRP+vOBfkQLNu/TCwUiiTxy7+OKqdlWt3OPwMwNsP4pMC/+iye/iMK0L++N0IpwGTHv5AJkYeVWdA/LTDI+Di/1T/Js5cPtuDwP3tp8zRJ2Ns//yQo0b2e3b/4B9ixd5P1P+NCHJJ4q6q/AesuorQ9wb8ILKm4rXvkv3fHhUCuouc/7lWc8aOZ4b99vcQAfyfkv9gYipMKGdS/ZL9GMRF/qD+wti28xJfYP9J0A5t9TM+/g5JpRPGkyD/nRE2u/zjKP05iwgFKkN6/3N18lkHLkr8iKZBRriHQv/sad9RKfsy/TmJJFKqHyj/WeLfVUIvRP0YKFYkbQsW/TN6rlfIstz/R9sD5ulrIvxd9ZEXX6oa/0hrOWgFsxD/Ak8Qm95jFP6RPD4re6dE/bvOoulRu1L9qSU3QTzPVP782r0TtdIK/hZUdOMMC5T9ihbQkmgWpPxPdHP0t+cM/DXv6UzDl07+svymKK96pP7cAPu9Lbsc/BgUC90ajxD+DJh//5yC1v+v0Ba2Ov+I/MwbaYBy22L8HSGbM9iraP4xCda4EgIk/xJM4KmLutb9MEO+EUS7SPwq0U/jmrdK/lbxBRIr+zT+1DD57MQPVP6mTij+xn+M/7KjQmGQH678fZtDT5DV7v2cSAzjwSsK/MvKwlpkVgT/09IIZA/zZvxJIbNlZosU/WBIfX/pDTz89uL9/A8i3P4tVGWp/69w/G4vMF+wk4r++hGQEk0bUvzAZHayNitY/EFyiZuIzxb9O2MYPOG+kP6RFXEzZu5C/",
          "dtype": "f8"
         },
         "yaxis": "y"
        },
        {
         "hovertemplate": "variable=E<br>time=%{x}<br>value=%{y}<extra></extra>",
         "legendgroup": "E",
         "line": {
          "color": "#EF553B",
          "dash": "solid"
         },
         "marker": {
          "symbol": "circle"
         },
         "mode": "lines",
         "name": "E",
         "showlegend": true,
         "type": "scattergl",
         "x": {
          "bdata": "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",
          "dtype": "i2"
         },
         "xaxis": "x",
         "y": {
          "bdata": "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",
          "dtype": "f8"
         },
         "yaxis": "y"
        },
        {
         "hovertemplate": "variable=G<br>time=%{x}<br>value=%{y}<extra></extra>",
         "legendgroup": "G",
         "line": {
          "color": "#00cc96",
          "dash": "solid"
         },
         "marker": {
          "symbol": "circle"
         },
         "mode": "lines",
         "name": "G",
         "showlegend": true,
         "type": "scattergl",
         "x": {
          "bdata": "AAABAAIAAwAEAAUABgAHAAgACQAKAAsADAANAA4ADwAQABEAEgATABQAFQAWABcAGAAZABoAGwAcAB0AHgAfACAAIQAiACMAJAAlACYAJwAoACkAKgArACwALQAuAC8AMAAxADIAMwA0ADUANgA3ADgAOQA6ADsAPAA9AD4APwBAAEEAQgBDAEQARQBGAEcASABJAEoASwBMAE0ATgBPAFAAUQBSAFMAVABVAFYAVwBYAFkAWgBbAFwAXQBeAF8AYABhAGIAYwBkAGUAZgBnAGgAaQBqAGsAbABtAG4AbwBwAHEAcgBzAHQAdQB2AHcAeAB5AHoAewB8AH0AfgB/AIAAgQCCAIMAhACFAIYAhwCIAIkAigCLAIwAjQCOAI8AkACRAJIAkwCUAJUAlgCXAJgAmQCaAJsAnACdAJ4AnwCgAKEAogCjAKQApQCmAKcAqACpAKoAqwCsAK0ArgCvALAAsQCyALMAtAC1ALYAtwC4ALkAugC7ALwAvQC+AL8AwADBAMIAwwDEAMUAxgDHAMgAyQDKAMsAzADNAM4AzwDQANEA0gDTANQA1QDWANcA2ADZANoA2wDcAN0A3gDfAOAA4QDiAOMA5ADlAOYA5wDoAOkA6gDrAOwA7QDuAO8A8ADxAPIA8wD0APUA9gD3APgA+QD6APsA/AD9AP4A/wAAAQEBAgEDAQQBBQEGAQcBCAEJAQoBCwEMAQ0BDgEPARABEQESARMBFAEVARYBFwEYARkBGgEbARwBHQEeAR8BIAEhASIBIwEkASUBJgEnASgBKQEqASsBLAEtAS4BLwEwATEBMgEzATQBNQE2ATcBOAE5AToBOwE8AT0BPgE/AUABQQFCAUMBRAFFAUYBRwFIAUkBSgFLAUwBTQFOAU8BUAFRAVIBUwFUAVUBVgFXAVgBWQFaAVsBXAFdAV4BXwFgAWEBYgFjAWQBZQFmAWcBaAFpAWoBawFsAW0BbgFvAXABcQFyAXMBdAF1AXYBdwF4AXkBegF7AXwBfQF+AX8BgAGBAYIBgwGEAYUBhgGHAYgBiQGKAYsBjAGNAY4BjwGQAZEBkgGTAZQBlQGWAZcBmAGZAZoBmwGcAZ0BngGfAaABoQGiAaMBpAGlAaYBpwGoAakBqgGrAawBrQGuAa8BsAGxAbIBswG0AbUBtgG3AbgBuQG6AbsBvAG9Ab4BvwHAAcEBwgHDAcQBxQHGAccByAHJAcoBywHMAc0BzgHPAdAB0QHSAdMB1AHVAdYB1wHYAdkB2gHbAdwB3QHeAd8B4AHhAeIB4wHkAeUB5gHnAegB6QHqAesB7AHtAe4B7wHwAfEB8gHzAfQB9QH2AfcB+AH5AfoB+wH8Af0B/gH/AQACAQICAgMCBAIFAgYCBwIIAgkCCgILAgwCDQIOAg8CEAIRAhICEwIUAhUCFgIXAhgCGQIaAhsCHAIdAh4CHwIgAiECIgIjAiQCJQImAicCKAIpAioCKwIsAi0CLgIvAjACMQIyAjMCNAI1AjYCNwI4AjkCOgI7AjwCPQI+Aj8CQAJBAkICQwJEAkUCRgJHAkgCSQJKAksCTAJNAk4CTwJQAlECUgJTAlQCVQJWAlcCWAJZAloCWwJcAl0CXgJfAmACYQJiAmMCZAJlAmYCZwJoAmkCagJrAmwCbQJuAm8CcAJxAnICcwJ0AnUCdgJ3AngCeQJ6AnsCfAJ9An4CfwKAAoECggKDAoQChQKGAocCiAKJAooCiwKMAo0CjgKPApACkQKSApMClAKVApYClwKYApkCmgKbApwCnQKeAp8CoAKhAqICowKkAqUCpgKnAqgCqQKqAqsCrAKtAq4CrwKwArECsgKzArQCtQK2ArcCuAK5AroCuwK8Ar0CvgK/AsACwQLCAsMCxALFAsYCxwLIAskCygLLAswCzQLOAs8C0ALRAtIC0wLUAtUC1gLXAtgC2QLaAtsC3ALdAt4C3wLgAuEC4gLjAuQC5QLmAucC6ALpAuoC6wLsAu0C7gLvAvAC8QLyAvMC",
          "dtype": "i2"
         },
         "xaxis": "x",
         "y": {
          "bdata": "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",
          "dtype": "f8"
         },
         "yaxis": "y"
        },
        {
         "hovertemplate": "variable=H<br>time=%{x}<br>value=%{y}<extra></extra>",
         "legendgroup": "H",
         "line": {
          "color": "#ab63fa",
          "dash": "solid"
         },
         "marker": {
          "symbol": "circle"
         },
         "mode": "lines",
         "name": "H",
         "showlegend": true,
         "type": "scattergl",
         "x": {
          "bdata": "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",
          "dtype": "i2"
         },
         "xaxis": "x",
         "y": {
          "bdata": "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",
          "dtype": "f8"
         },
         "yaxis": "y"
        },
        {
         "hovertemplate": "variable=J<br>time=%{x}<br>value=%{y}<extra></extra>",
         "legendgroup": "J",
         "line": {
          "color": "#FFA15A",
          "dash": "solid"
         },
         "marker": {
          "symbol": "circle"
         },
         "mode": "lines",
         "name": "J",
         "showlegend": true,
         "type": "scattergl",
         "x": {
          "bdata": "AAABAAIAAwAEAAUABgAHAAgACQAKAAsADAANAA4ADwAQABEAEgATABQAFQAWABcAGAAZABoAGwAcAB0AHgAfACAAIQAiACMAJAAlACYAJwAoACkAKgArACwALQAuAC8AMAAxADIAMwA0ADUANgA3ADgAOQA6ADsAPAA9AD4APwBAAEEAQgBDAEQARQBGAEcASABJAEoASwBMAE0ATgBPAFAAUQBSAFMAVABVAFYAVwBYAFkAWgBbAFwAXQBeAF8AYABhAGIAYwBkAGUAZgBnAGgAaQBqAGsAbABtAG4AbwBwAHEAcgBzAHQAdQB2AHcAeAB5AHoAewB8AH0AfgB/AIAAgQCCAIMAhACFAIYAhwCIAIkAigCLAIwAjQCOAI8AkACRAJIAkwCUAJUAlgCXAJgAmQCaAJsAnACdAJ4AnwCgAKEAogCjAKQApQCmAKcAqACpAKoAqwCsAK0ArgCvALAAsQCyALMAtAC1ALYAtwC4ALkAugC7ALwAvQC+AL8AwADBAMIAwwDEAMUAxgDHAMgAyQDKAMsAzADNAM4AzwDQANEA0gDTANQA1QDWANcA2ADZANoA2wDcAN0A3gDfAOAA4QDiAOMA5ADlAOYA5wDoAOkA6gDrAOwA7QDuAO8A8ADxAPIA8wD0APUA9gD3APgA+QD6APsA/AD9AP4A/wAAAQEBAgEDAQQBBQEGAQcBCAEJAQoBCwEMAQ0BDgEPARABEQESARMBFAEVARYBFwEYARkBGgEbARwBHQEeAR8BIAEhASIBIwEkASUBJgEnASgBKQEqASsBLAEtAS4BLwEwATEBMgEzATQBNQE2ATcBOAE5AToBOwE8AT0BPgE/AUABQQFCAUMBRAFFAUYBRwFIAUkBSgFLAUwBTQFOAU8BUAFRAVIBUwFUAVUBVgFXAVgBWQFaAVsBXAFdAV4BXwFgAWEBYgFjAWQBZQFmAWcBaAFpAWoBawFsAW0BbgFvAXABcQFyAXMBdAF1AXYBdwF4AXkBegF7AXwBfQF+AX8BgAGBAYIBgwGEAYUBhgGHAYgBiQGKAYsBjAGNAY4BjwGQAZEBkgGTAZQBlQGWAZcBmAGZAZoBmwGcAZ0BngGfAaABoQGiAaMBpAGlAaYBpwGoAakBqgGrAawBrQGuAa8BsAGxAbIBswG0AbUBtgG3AbgBuQG6AbsBvAG9Ab4BvwHAAcEBwgHDAcQBxQHGAccByAHJAcoBywHMAc0BzgHPAdAB0QHSAdMB1AHVAdYB1wHYAdkB2gHbAdwB3QHeAd8B4AHhAeIB4wHkAeUB5gHnAegB6QHqAesB7AHtAe4B7wHwAfEB8gHzAfQB9QH2AfcB+AH5AfoB+wH8Af0B/gH/AQACAQICAgMCBAIFAgYCBwIIAgkCCgILAgwCDQIOAg8CEAIRAhICEwIUAhUCFgIXAhgCGQIaAhsCHAIdAh4CHwIgAiECIgIjAiQCJQImAicCKAIpAioCKwIsAi0CLgIvAjACMQIyAjMCNAI1AjYCNwI4AjkCOgI7AjwCPQI+Aj8CQAJBAkICQwJEAkUCRgJHAkgCSQJKAksCTAJNAk4CTwJQAlECUgJTAlQCVQJWAlcCWAJZAloCWwJcAl0CXgJfAmACYQJiAmMCZAJlAmYCZwJoAmkCagJrAmwCbQJuAm8CcAJxAnICcwJ0AnUCdgJ3AngCeQJ6AnsCfAJ9An4CfwKAAoECggKDAoQChQKGAocCiAKJAooCiwKMAo0CjgKPApACkQKSApMClAKVApYClwKYApkCmgKbApwCnQKeAp8CoAKhAqICowKkAqUCpgKnAqgCqQKqAqsCrAKtAq4CrwKwArECsgKzArQCtQK2ArcCuAK5AroCuwK8Ar0CvgK/AsACwQLCAsMCxALFAsYCxwLIAskCygLLAswCzQLOAs8C0ALRAtIC0wLUAtUC1gLXAtgC2QLaAtsC3ALdAt4C3wLgAuEC4gLjAuQC5QLmAucC6ALpAuoC6wLsAu0C7gLvAvAC8QLyAvMC",
          "dtype": "i2"
         },
         "xaxis": "x",
         "y": {
          "bdata": "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",
          "dtype": "f8"
         },
         "yaxis": "y"
        },
        {
         "hovertemplate": "variable=M<br>time=%{x}<br>value=%{y}<extra></extra>",
         "legendgroup": "M",
         "line": {
          "color": "#19d3f3",
          "dash": "solid"
         },
         "marker": {
          "symbol": "circle"
         },
         "mode": "lines",
         "name": "M",
         "showlegend": true,
         "type": "scattergl",
         "x": {
          "bdata": "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",
          "dtype": "i2"
         },
         "xaxis": "x",
         "y": {
          "bdata": "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",
          "dtype": "f8"
         },
         "yaxis": "y"
        },
        {
         "hovertemplate": "variable=N<br>time=%{x}<br>value=%{y}<extra></extra>",
         "legendgroup": "N",
         "line": {
          "color": "#FF6692",
          "dash": "solid"
         },
         "marker": {
          "symbol": "circle"
         },
         "mode": "lines",
         "name": "N",
         "showlegend": true,
         "type": "scattergl",
         "x": {
          "bdata": "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",
          "dtype": "i2"
         },
         "xaxis": "x",
         "y": {
          "bdata": "dgm/Y6Am6b941uMD/+OUP+elbuw4UME/8h5KPF8l3j/ipppPxElpP+GatoktSto/hZ7jVHVA4b9OmT0c0TXxP+KsSlHOD92/ojsT3HAp3L961GxqyEHpv8mKDZizTOw/kQ+d/FhP5D9qnqBEgrDkv8hzOJIjiMO/syFBAbgLyL9wEt4PLOXYP2gZpIZVysc/g4BfJUCaxT9SRdqk69/Iv52cr1qZ0uK/qgWlB0VG6b+3W9ifYYb6v4TcssyLrwXAwLNNQe6e5T/4By8/aj4CwMvihhFU//U/ZQGLBMQ71D+xEGYNhwTKPxf2eQs3AeA/l5/ovUQC6b8tpoPilDLcvxSaGaJx+Nq/FT6NgNkD6r8sdv+OFobkP4xpc55lzfA/b50XqLjlvb8a+FFh3Q2cv3UMcLzituo/LpQOiLOTl7+jz9SvnXXZP1di5mBBi9E/VQjq2vERxr+nNzYApLvXP3+QLiIlH+i/PrQa7Mg06r/w6zfiCvrNv6rVjR8BwNG/w1xngykg8z/UoZW8GHvivycb6W4zOuM/el/kCA4U2j8FYuZ08zPFP7zK0i98tMW/lLMlxcoN1b+wLmf9o3XnvxzMAsoLld+/BYEd1FOG5T+cCS53Kkvbv1eq6jUO27G/GtBIAWaY7L9QRCOh30vBPwu4CTd0rPE/i+/8Nv407b9LjZpxJRbfv3jpeZmm3sC/6B3tTJ0cwr/ttW5NmiTZv5/jRd2k+/A/6OnVFY/q1z+/a4TgCU3NP6NxJKV9Uck/0cla0L+Esr8JWXiP/r7Vv4OkxnA5FuW/aZtn2BoU0D8ctXkWIEsGwNN6+eDkDeg/qJjNsvdWwr8YoNdYSJ/Wv2JH12GS4M+/gvQJsSFL4L8IkZfkfaPaP0X+NWjgmdk/Yp/hAAGj0b8WelGyOcDvv7Rtz0AGVgLAZ9n546/w+D8TDnd854znP/CZOgamEuo/bQKEwzJfxD+LdR2BjZTqP6mDth77WtM/u7snX9l/0D/nFXGH3GK6P6L0h8WG7Lm/TGPj75Vg8D/Eub4QaDyyvyczT3Xcysa/5jhLc5flyr/jT0UkEcDtv4ekxINUgNK/1z9aJHqPwL+hk7+nUQDhv55Jnu5uwOM/+PFbqUw81T+05wiqabHQv2rKFWZFW/G/2NiKSUyc8T8SGhG0nCnrv5OBkXnqEOO/pgVeRkZr6T8CN5TeoybhPzb1BhAjKgRAc7KVXLuj/b/OwPgTF5PUvxipHEe3meS/OCOdKjMZ+T9uu53HN8r0v4zrX6PFk7i/HNqVZ6w88D8zMHwkePzuvzHIS6DZx98/582/plNj7j/Kah45VN/aP0aNo7GI9O8/yi+u3yHw0T8j2ilxiP3cP3mpgKuFFb0/6HMZOq5Knb81k6vvIHbQP8KLUVbSc+k/hFyIeDbU579AEEQnDdXIP/zI7eF6Xrq/hH5uY7oV57/Tm6zzDIbAP9geUnH758S/XIEMwNiE3L8vPUjYlz2ZPz/wJ+4IQ+K/7fPVIyxR9T9sHmsZ5cTgPzLldHVntuQ/pbMid85w2L+FmYcywBrJP8muzx/T69s/2A/4HVuUpb9gt3Tr+urtP+GkIKMg4O+/iIudR8cJ5L/kq0ioJ8DRP/GaclK8uOS/1k/tuJ9nx79d7/tvre/EPz/kHUAmFu4/kBzr4YD+6b8q3bWKCB63v9TDgnD5Q8c/QsGtfPG5zz+Yt/XmtDPRPzKaHU6OuNO/77h1VTXqs79ULlld/9e9P04WcMHy89K/TljwQ7oU0j/pIBgME0XvP11hERm/l7W/OodtZCTw5D8spqyFwojbPzukvBVghtG/ZGrsCqG007+gKgX3zL7mv2dVPM8F9dQ/dZMNosKq3D8L2U3hw0W0v3bv0Kc6qr+/WM1oA3oKvL/zLik5SBa6v2TF94utGd8/xOiZ9dFz4j9U8NqpKt3PPzxr0+viFsk/TjttXX1V3T/Gk6jdKffJP8gyDEImhMO/pltgNKcD4z9RtkA23QfDP3V41YePV8U/CeX7DTqvtT/iI7NuR/Pkv5BYpGcAIOc/uWe7mCKGr7+/33TpuzHiP6mFnMRVBrE/1k4M9NKZ3z/k5IOoBU/PPwO1fmqQ06Y/QeJTSE6E3D9olRJsEx3Mv1fNyA/t3e6/jAqc7BRN7b+Fu+HijA/qvxR/7JQv294/s3VCkOuYyD9ABxo0LH20PwtJE6DvNeG/nFDaM36LwD8WmCmCL1jUv+tgACI9E64/kGWHHd/v878WxzaNq5bgvxqYnCXul7+/yMKGoitRr7/C1o8DfqXuvxgNOmLYNfO/Jqlh5ZeNub/uu7UN96rrvws49IqZifG/gzvzu/Buyj8dD/EOcFnePwfQWjbI5tI/JEEYLAJ41D8USfPGfbHGP+xk8RDCU78/04UaNRMv5z8SoQtHP3jSPyYHDH5bs9O/8AiWY8bY47+zD7q9z3/Pv0QnTEhqW+a/AZnFbGQv6T/Cy37sxPeWv9b8WxqR3uS/xBBNU/Wi2T+IwPpi74Xmv6uQlTlkSOk/buNTfesc9z/xWkL7w9HLv5UupeY4ruA/ONHoeqLbvz8upT0AKATSP32aSEV1VKM/Izq3sS/N17+ze4qwRmTlP2JxVDAXTtK/wudtvy4L5b+jMPD1yB2wPxkD9QucSdw/hL/hCXZcmb9svzWGqA+9P61kSZQK0OK/U0TqHWEC27887EEZTM7HP8REOi96GM6/SCvhfFMUwT8XEHpYZqTTvxoOYWZwTuo/YfCDt46Hwj8W7Htzi4fBvx9KjFmEyd8/FrOpYTIc1z9Q/ssQNvnvvwgYqApGI9U/E2fI3xM00D+Bys1XUTTEPxdNSS7HLsA/XNT/HuQaz78cAEFDQJ3AvxyfZB8YmsG/gBO+xVGZ0r9daVnJuoDUv4rNhI9kUa+/trXHXyVkyT8iRjLQ/9TQv8zOKWrIotc/fhnZAJfct7/NdUhP7XTLP+CxU9dr4M4/ozX8b+FN4j/cM8aeCl3NvzPf9aGjNtM/4Sw3QemSx7/f2xfbaRvIv7zNqtZkgLi/w8hJ4pGr4D/J38w+U3nVP67QfuaoJuE/gO4leSkJkT/hk8mcF1rRPxsrvEouh+U/dq9EgWvZt78yEVoWIQzhP20m8bsACtm/UKjyRumgxr/mdozhRb3NP0LfJj36pNK/kn7Io/Vxgz9LoXH2mw7av6GbaH8Jlto/v35IGFi83D+8j1WzKwfNP85VemB0hdE/IWYJDPLLxr/sNty10vjyvwCVd7sYeM6/S9n0azpu7r8QBVf79OrRvyKjn2bS074/E9xi1yzn5D/e0cdHgAqmP4zCOWW7ldU/BiAZuP8VpL8eaoeiiIbovyIxliwo6b8/7duI9adKsD8T57jJ1djlP2qLCBwxEtC/GRPZ2G8/mL/v8K+VFhXFPxaBmmX8D7e/xbOzm9+/j7+tSuGFSSbov8H0mAtIIMe/CAXa6/WVwb8rzRCOP1HqP06011ULzNw/M6y6bywa3T+/B5tifRHUP3/n5A/axeE/mqreZqv64L8Q1lZPj6Dgv5GW8uBWQra/nUu6yhSX3z/RK6fVOyLeP9dNMuQuu7o/OgYKWWHj6T9/feRo37TEvwquyqg9hd0/3aQEIWQJ0b+pEmQGiHLaP02tCx8mWsQ/M6qJ9ZgioT/oMqkeSA6lv1+fjnd5c+S/d/blFsvC2r/Hwl1qt7rUP2VR7IbCB7S//aM60Rt1wz8+WSnQHQvRv4taoZ/0J8g/PrGedfIMpb/uxwkxNenRP534IsUNI+O/3BC96RGSz7/liTYkIKKcvxeDJY57NsC/qq6DDDtO5r/l79bvMgHevzhDmoCqtq4/MSf54BKH0z9Zwkde4HPQvzrDNJGUEpg/Z8Mbaxw10r9inh6FeGvgP14kBxUoIM0/AbSs47ORxT+WpP2kvVDFvyBzUWWUQcc/5RsaCewg7b/veHogWBPdvyBZBXGbr9s/d7cTmChXxz8jIIMLLR7GP9Y+GKd2D6e/i/3a9eXz0D+eyo7Fqi+ov8OucDyCJcO/AKn5sI3O7D9XzS72vmnrPwtYhkXaTfE/K7WzM99U2b/IIaxLtzLnP9u8Eg2XKsM/F9l4H8EM4j+fZmROdEu0vxIf9xAPWdY/xEjHkuXOzD+uh6HunbPnvzYxMDMl4se/y/vXR+QlxD+qh/2sgH3NP6x1SKnJdNA/igs6oqu11z9zshQRzIbZv17riNZP5Oq/0/lzZsmCyj9ItveXBfzCP45ymp/5xd2/3ors7LAf0b8fX6q63nOmvwcmmDGcrNU/laDiwWPjnb83TV+W1NfHP/AG9LRuSbm/laqB6ZO8xr+oQsNO2KriP1TSp5hc5Ns/Qy66kEEL17+v6NxuAGXkP2sdZsw3fdI/bhHcswed3786d71mMFrPP+df73a469M/PebpAWs4wD/IotX1eb3Ev2v9BDELpNY/ApR5k/B6rT9eaRzAUuLMv+70svECyr6/VifFGpLH1D8A4QH3sWLqP13ftTSdRO2/Q1UpAMr22r9FT/hcQvLIv9Ah59wt/aY/XZVqOLDStz8nH280IhbhvxL8jSTu5HC/hhqdTcsN6j9EwNVjJ87JP7Gt4l1UZOC/j9jWCko10b9ioHcz3o7oP9Jvj6+SV8M/l9pCGsV84j9nzRBuQ5bVP0vz9BQyKbG/MNKPhUAv4j/51+IHw1HXv8yrvgyET/K/LfkFmdJd4j8aEm+db+XOPxDtci+UJtY/Ct9PY4Zswj9cvNbb2Fbdv8O17ABMr9o//beINtWhy79YwZyKsbjkv3j1xOvADvk/2eiX6wDu2L+Jps5TfO/lv+FMf5Zs+t+/tvYOf2zLmD8ZJK+m3oTavx+jfuacaNs/a0DWPXiK4T+9xsC9BqvMv4+8Oe1q6tu/2o5QJfAj0D+AnHtWqXPMvx7TU1a6Ttw/Vy1WP8byyr84weyWioXQP4ChzegpxsI/e+qIkHL8zT/O8wS4uuTFP8A99ybnbtY/ytI46XxLtz/RFG1KfDjev7modLkNgOA/y0BganKZtj9lpItYvu3aP0e1wt5dY7M/hvmS4ml8g79zvNlpEjnOvzcSAVcAL8i/5cy0++I61D/diksOm6jmv9UfkrZcB9g/lpTU++zO5z85P7n0ZRnjP16R5aojNNW/EeeKHm424T/5sUshufrav8O3+UdgKdY/cCUfnmPRxr8TgK+1V5nDP5m2zKQWecw/SaxL3kSXtb/BalkquvLFP1jnSsA/ZOK/yQoVg4sGpr+wxW4coQDgv0jun3M2ML+/f27tyOOrxT/5PzlTv2SlvxUgdfPIJtw/g1uTY/xbyL99z6TGSBnAP56jhlo107S/1vrThmVVyr8N0j5DwW2tv08F1mPRrcc/pYHyyfUqyz+hl23ZYduXP8UVcoDCpMW/IEDMi7uUjj8/g1iOYAbIP4aUSEw2jNu/nyWoHNGmzz+AYTto0pzXv7uodyd9gc6/ca8VXjRIx78mCZUDAnWVv/di8tZs1JA/HQIlyFv3zD9XgC5P6JLLv7oHZRxbNsa/VYzC9CgbyD8p5uldGdbNP5a+Y1oGUMC/C/LTiY152r8Tj9vokfqTPyU2LiYEqtM/vTZ7+JLOyb9/xrHrRC7DP4jHapmOSuO/SE+0VmREcz/K0HxGzjOvP1FebtAwPqO/KmbUQiHDpz8MpGujXKqrP9CHOpsbCaa/TzkZZ9Knrr/kOaunq/THP3POHYSnP8Q/bL9DrqvDvr/qnqsyuqPdPztw0qMB6ac/jSM6wOwV1b9TLKJm0qOUvys/ilQvHKW/fx72Ur2C0z+whwmE8wd8v0399RR1GaI/x1QSHNBs1r+olWP7Qla5P74unmRZora/Qx5667Zyzr/77mrVYK/AP2GfngltIby/nOgAzIohxb9HMXH78diAv0NTD404rre/EnwTg2bIpj+15YzBG7G4P39yx8EIANE/D6NSAicf17+1AOYw3524P3B/nh7UZ7e/0YnXTjDAkT9XGgfgVLDCv+h0z1EzOtA/uJ2AtTvpsb+1Cd9kgdi0v/hDPtcBQaq/ZYV9fWaixz+zM4fqvsWwv8/mcRLjK44/WHdm15bZx785XLXZwd+1v9Tjm6uMT5m/6HtQSBFEtz/79vvctAXBvwyoiI+SVca/3RCLMNoOub8LiBCiarTTv1lpqDS5K8K/EKtayKrszD+pvDsRlqTDv5+lKTLQX8K//ZJG4A1lW7+mZ9g9BtexP5MWrNPTwZE/o7MQw/mxp78Bv4NzqWvVvzzgQhZ2Q9K/R84TzVeyzD/vPqo/7fyVv7XWRFpozpk/BJAEzuTdt78kKpkF/VJTP7UKcPzK9NC/I6s1Kvqkwr/OJa+k0OjevxGMflr67N+/+iMloU0i4L/YflSrnVexP2a3AQ8RTaQ/le8wpUzDzT9lx4KvVzXDP6lq8RqmosG/z+QVhqgn1L/oIl1ZKWWjP3eZq0j63MC/VMxPTZKK0T9yj0xwaUrRv07T1acL6Lu/iekzb96jrD/Yjf5/fzDfP+EPrXKTl8q/jVk0m+0Eqb/sWQLPioujP64nU471FKy/gh2ZF0Zah789VVHfKtSKv/ctIpAtssS/bClUo2nqxL+O48jHD8mbv6+I7uY8Z6O/utUacg7bsb8h7vCmNGusv/BTaedmw9M/NgW1CtPbvb/RtmtavfGWP55cMebMBry/zG5odNHHu78hZFLpk//Hv+VlTRyRotS/APzTi10Ewr9MD0LwPG6hP7NhsmOFlqo/8k1vJD3+xT8pvlPGb33dv4DW13IcZrm/t2q7QCZrdD/VIfJvZj/EPxSVUmMYy9Q/OVuOtsL/tr9zD5mDxwqcPxXz1JRTfdG/DzskUI/kpz+jhY9e3PRwP60zdyqGTI2/bkdpazMQ6r/mgdR9dPzfP8yR+Qx59aK/F0o1dklKoT8VqMx9Ur3Wv8ibENvM17y/bQGALv2U1r8THsIoUOzDvzb+p/914rU/FtYnq82dxT8G7WrUnfHMP7NwS0tcN8y/WC4txwQQ0L857K17aPfSvyikhn4cmMs/teo9kklGpL8UdJIr0rrRPxv4xGkIp9C/bVXp2WPK37/srHiGAtlgP+BNlGJUqLA/umznDQdizD/7A+OhCFrRv/0eHk/vaMu/2zHF+snSwD+yZY48El7av6YADfePJKu/TpIzStd60T8z/IyZxFTPPzF3ahCGxOA/FFbr0hqQpT//ECzoBUPev4Y4y+68qr4/Nv4bDFIfwz/VDRoazcNSv/lvGHHQn4m/UstUm/ZIwr/pQ5orttbAvwAaTMIyaLY/Qe0fEohR2D9AVfv1c3jgP+Zu1MQ+WZ+/lKCus7ZH0T8ne+gjwh3KP+QJYGuFCdw/SzMjWSYDzT/DiI+gv/yzv1BmzlwpbJk/j7Z/uKpW078X4VWfml/bPyBmXyheOcI/gCmjL20Qxb+hppiEV8yTP42Ngo0pEc0/kz3lHNPc1D8NBodGW7vGvxA7nk41jcW/yK72I7r+uT+BI3I0NRmePwlxp4Tonsa/VyX+kSLIob/lxE/1bdO9P0HgZUHSBsI/GhNaXpCx0T8RyFE7yP7NP6rHFvOkd7I/dwn2SN3e0z/3R11T/iHNP0wfeCZeM60/dU4PqOvDqD94DluoeIC/vwRHzfSljaI/RsLvV/Ce3D+v+lIM19ahv/tu8fjm7tO/QZ9JYDxM4L/hID9Bn6ubv6pn9Vzkztk/O50NVdUtzz/JDk34lorKP2JQPaSPucE/OSPXJj/jwz/duGk8qLPSP2IwCemXUNu/NYXAMI84pT+KClBtsrrMP3nBmdrqzcI/xEz1092lzD9JJPvjqsS8PykXT7OqW9U/Dp/mqOe/WT9onV7jtCfRPy6axMIzcvM/Q93GFYQB7z9mw7qesfnjvyZfXdZbH90/oB4Nz58vxr/+YHSc8erUP2if5AUayM0/BSCkrJuU3b+RHjUHBMHRv2yQcu56Ru8/H1ZW/C9w8j+v3Li4mmdRv9HDZn/1Ts4/NeGtoBSk4T8I8USSvRvZv50Zo4onXfo/n+IxP1oUxz/5eEKZzlQAQA1bjqpA7Nc/",
          "dtype": "f8"
         },
         "yaxis": "y"
        },
        {
         "hovertemplate": "variable=Y1<br>time=%{x}<br>value=%{y}<extra></extra>",
         "legendgroup": "Y1",
         "line": {
          "color": "#B6E880",
          "dash": "solid"
         },
         "marker": {
          "symbol": "circle"
         },
         "mode": "lines",
         "name": "Y1",
         "showlegend": true,
         "type": "scattergl",
         "x": {
          "bdata": "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",
          "dtype": "i2"
         },
         "xaxis": "x",
         "y": {
          "bdata": "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",
          "dtype": "f8"
         },
         "yaxis": "y"
        }
       ],
       "layout": {
        "height": 500,
        "legend": {
         "title": {
          "text": "variable"
         },
         "tracegroupgap": 0
        },
        "margin": {
         "t": 60
        },
        "shapes": [
         {
          "line": {
           "color": "black"
          },
          "type": "line",
          "x0": 252,
          "x1": 252,
          "xref": "x",
          "y0": 0,
          "y1": 1,
          "yref": "y domain"
         },
         {
          "line": {
           "color": "black"
          },
          "type": "line",
          "x0": 504,
          "x1": 504,
          "xref": "x",
          "y0": 0,
          "y1": 1,
          "yref": "y domain"
         }
        ],
        "template": {
         "data": {
          "bar": [
           {
            "error_x": {
             "color": "#2a3f5f"
            },
            "error_y": {
             "color": "#2a3f5f"
            },
            "marker": {
             "line": {
              "color": "#E5ECF6",
              "width": 0.5
             },
             "pattern": {
              "fillmode": "overlay",
              "size": 10,
              "solidity": 0.2
             }
            },
            "type": "bar"
           }
          ],
          "barpolar": [
           {
            "marker": {
             "line": {
              "color": "#E5ECF6",
              "width": 0.5
             },
             "pattern": {
              "fillmode": "overlay",
              "size": 10,
              "solidity": 0.2
             }
            },
            "type": "barpolar"
           }
          ],
          "carpet": [
           {
            "aaxis": {
             "endlinecolor": "#2a3f5f",
             "gridcolor": "white",
             "linecolor": "white",
             "minorgridcolor": "white",
             "startlinecolor": "#2a3f5f"
            },
            "baxis": {
             "endlinecolor": "#2a3f5f",
             "gridcolor": "white",
             "linecolor": "white",
             "minorgridcolor": "white",
             "startlinecolor": "#2a3f5f"
            },
            "type": "carpet"
           }
          ],
          "choropleth": [
           {
            "colorbar": {
             "outlinewidth": 0,
             "ticks": ""
            },
            "type": "choropleth"
           }
          ],
          "contour": [
           {
            "colorbar": {
             "outlinewidth": 0,
             "ticks": ""
            },
            "colorscale": [
             [
              0,
              "#0d0887"
             ],
             [
              0.1111111111111111,
              "#46039f"
             ],
             [
              0.2222222222222222,
              "#7201a8"
             ],
             [
              0.3333333333333333,
              "#9c179e"
             ],
             [
              0.4444444444444444,
              "#bd3786"
             ],
             [
              0.5555555555555556,
              "#d8576b"
             ],
             [
              0.6666666666666666,
              "#ed7953"
             ],
             [
              0.7777777777777778,
              "#fb9f3a"
             ],
             [
              0.8888888888888888,
              "#fdca26"
             ],
             [
              1,
              "#f0f921"
             ]
            ],
            "type": "contour"
           }
          ],
          "contourcarpet": [
           {
            "colorbar": {
             "outlinewidth": 0,
             "ticks": ""
            },
            "type": "contourcarpet"
           }
          ],
          "heatmap": [
           {
            "colorbar": {
             "outlinewidth": 0,
             "ticks": ""
            },
            "colorscale": [
             [
              0,
              "#0d0887"
             ],
             [
              0.1111111111111111,
              "#46039f"
             ],
             [
              0.2222222222222222,
              "#7201a8"
             ],
             [
              0.3333333333333333,
              "#9c179e"
             ],
             [
              0.4444444444444444,
              "#bd3786"
             ],
             [
              0.5555555555555556,
              "#d8576b"
             ],
             [
              0.6666666666666666,
              "#ed7953"
             ],
             [
              0.7777777777777778,
              "#fb9f3a"
             ],
             [
              0.8888888888888888,
              "#fdca26"
             ],
             [
              1,
              "#f0f921"
             ]
            ],
            "type": "heatmap"
           }
          ],
          "histogram": [
           {
            "marker": {
             "pattern": {
              "fillmode": "overlay",
              "size": 10,
              "solidity": 0.2
             }
            },
            "type": "histogram"
           }
          ],
          "histogram2d": [
           {
            "colorbar": {
             "outlinewidth": 0,
             "ticks": ""
            },
            "colorscale": [
             [
              0,
              "#0d0887"
             ],
             [
              0.1111111111111111,
              "#46039f"
             ],
             [
              0.2222222222222222,
              "#7201a8"
             ],
             [
              0.3333333333333333,
              "#9c179e"
             ],
             [
              0.4444444444444444,
              "#bd3786"
             ],
             [
              0.5555555555555556,
              "#d8576b"
             ],
             [
              0.6666666666666666,
              "#ed7953"
             ],
             [
              0.7777777777777778,
              "#fb9f3a"
             ],
             [
              0.8888888888888888,
              "#fdca26"
             ],
             [
              1,
              "#f0f921"
             ]
            ],
            "type": "histogram2d"
           }
          ],
          "histogram2dcontour": [
           {
            "colorbar": {
             "outlinewidth": 0,
             "ticks": ""
            },
            "colorscale": [
             [
              0,
              "#0d0887"
             ],
             [
              0.1111111111111111,
              "#46039f"
             ],
             [
              0.2222222222222222,
              "#7201a8"
             ],
             [
              0.3333333333333333,
              "#9c179e"
             ],
             [
              0.4444444444444444,
              "#bd3786"
             ],
             [
              0.5555555555555556,
              "#d8576b"
             ],
             [
              0.6666666666666666,
              "#ed7953"
             ],
             [
              0.7777777777777778,
              "#fb9f3a"
             ],
             [
              0.8888888888888888,
              "#fdca26"
             ],
             [
              1,
              "#f0f921"
             ]
            ],
            "type": "histogram2dcontour"
           }
          ],
          "mesh3d": [
           {
            "colorbar": {
             "outlinewidth": 0,
             "ticks": ""
            },
            "type": "mesh3d"
           }
          ],
          "parcoords": [
           {
            "line": {
             "colorbar": {
              "outlinewidth": 0,
              "ticks": ""
             }
            },
            "type": "parcoords"
           }
          ],
          "pie": [
           {
            "automargin": true,
            "type": "pie"
           }
          ],
          "scatter": [
           {
            "fillpattern": {
             "fillmode": "overlay",
             "size": 10,
             "solidity": 0.2
            },
            "type": "scatter"
           }
          ],
          "scatter3d": [
           {
            "line": {
             "colorbar": {
              "outlinewidth": 0,
              "ticks": ""
             }
            },
            "marker": {
             "colorbar": {
              "outlinewidth": 0,
              "ticks": ""
             }
            },
            "type": "scatter3d"
           }
          ],
          "scattercarpet": [
           {
            "marker": {
             "colorbar": {
              "outlinewidth": 0,
              "ticks": ""
             }
            },
            "type": "scattercarpet"
           }
          ],
          "scattergeo": [
           {
            "marker": {
             "colorbar": {
              "outlinewidth": 0,
              "ticks": ""
             }
            },
            "type": "scattergeo"
           }
          ],
          "scattergl": [
           {
            "marker": {
             "colorbar": {
              "outlinewidth": 0,
              "ticks": ""
             }
            },
            "type": "scattergl"
           }
          ],
          "scattermap": [
           {
            "marker": {
             "colorbar": {
              "outlinewidth": 0,
              "ticks": ""
             }
            },
            "type": "scattermap"
           }
          ],
          "scattermapbox": [
           {
            "marker": {
             "colorbar": {
              "outlinewidth": 0,
              "ticks": ""
             }
            },
            "type": "scattermapbox"
           }
          ],
          "scatterpolar": [
           {
            "marker": {
             "colorbar": {
              "outlinewidth": 0,
              "ticks": ""
             }
            },
            "type": "scatterpolar"
           }
          ],
          "scatterpolargl": [
           {
            "marker": {
             "colorbar": {
              "outlinewidth": 0,
              "ticks": ""
             }
            },
            "type": "scatterpolargl"
           }
          ],
          "scatterternary": [
           {
            "marker": {
             "colorbar": {
              "outlinewidth": 0,
              "ticks": ""
             }
            },
            "type": "scatterternary"
           }
          ],
          "surface": [
           {
            "colorbar": {
             "outlinewidth": 0,
             "ticks": ""
            },
            "colorscale": [
             [
              0,
              "#0d0887"
             ],
             [
              0.1111111111111111,
              "#46039f"
             ],
             [
              0.2222222222222222,
              "#7201a8"
             ],
             [
              0.3333333333333333,
              "#9c179e"
             ],
             [
              0.4444444444444444,
              "#bd3786"
             ],
             [
              0.5555555555555556,
              "#d8576b"
             ],
             [
              0.6666666666666666,
              "#ed7953"
             ],
             [
              0.7777777777777778,
              "#fb9f3a"
             ],
             [
              0.8888888888888888,
              "#fdca26"
             ],
             [
              1,
              "#f0f921"
             ]
            ],
            "type": "surface"
           }
          ],
          "table": [
           {
            "cells": {
             "fill": {
              "color": "#EBF0F8"
             },
             "line": {
              "color": "white"
             }
            },
            "header": {
             "fill": {
              "color": "#C8D4E3"
             },
             "line": {
              "color": "white"
             }
            },
            "type": "table"
           }
          ]
         },
         "layout": {
          "annotationdefaults": {
           "arrowcolor": "#2a3f5f",
           "arrowhead": 0,
           "arrowwidth": 1
          },
          "autotypenumbers": "strict",
          "coloraxis": {
           "colorbar": {
            "outlinewidth": 0,
            "ticks": ""
           }
          },
          "colorscale": {
           "diverging": [
            [
             0,
             "#8e0152"
            ],
            [
             0.1,
             "#c51b7d"
            ],
            [
             0.2,
             "#de77ae"
            ],
            [
             0.3,
             "#f1b6da"
            ],
            [
             0.4,
             "#fde0ef"
            ],
            [
             0.5,
             "#f7f7f7"
            ],
            [
             0.6,
             "#e6f5d0"
            ],
            [
             0.7,
             "#b8e186"
            ],
            [
             0.8,
             "#7fbc41"
            ],
            [
             0.9,
             "#4d9221"
            ],
            [
             1,
             "#276419"
            ]
           ],
           "sequential": [
            [
             0,
             "#0d0887"
            ],
            [
             0.1111111111111111,
             "#46039f"
            ],
            [
             0.2222222222222222,
             "#7201a8"
            ],
            [
             0.3333333333333333,
             "#9c179e"
            ],
            [
             0.4444444444444444,
             "#bd3786"
            ],
            [
             0.5555555555555556,
             "#d8576b"
            ],
            [
             0.6666666666666666,
             "#ed7953"
            ],
            [
             0.7777777777777778,
             "#fb9f3a"
            ],
            [
             0.8888888888888888,
             "#fdca26"
            ],
            [
             1,
             "#f0f921"
            ]
           ],
           "sequentialminus": [
            [
             0,
             "#0d0887"
            ],
            [
             0.1111111111111111,
             "#46039f"
            ],
            [
             0.2222222222222222,
             "#7201a8"
            ],
            [
             0.3333333333333333,
             "#9c179e"
            ],
            [
             0.4444444444444444,
             "#bd3786"
            ],
            [
             0.5555555555555556,
             "#d8576b"
            ],
            [
             0.6666666666666666,
             "#ed7953"
            ],
            [
             0.7777777777777778,
             "#fb9f3a"
            ],
            [
             0.8888888888888888,
             "#fdca26"
            ],
            [
             1,
             "#f0f921"
            ]
           ]
          },
          "colorway": [
           "#636efa",
           "#EF553B",
           "#00cc96",
           "#ab63fa",
           "#FFA15A",
           "#19d3f3",
           "#FF6692",
           "#B6E880",
           "#FF97FF",
           "#FECB52"
          ],
          "font": {
           "color": "#2a3f5f"
          },
          "geo": {
           "bgcolor": "white",
           "lakecolor": "white",
           "landcolor": "#E5ECF6",
           "showlakes": true,
           "showland": true,
           "subunitcolor": "white"
          },
          "hoverlabel": {
           "align": "left"
          },
          "hovermode": "closest",
          "mapbox": {
           "style": "light"
          },
          "paper_bgcolor": "white",
          "plot_bgcolor": "#E5ECF6",
          "polar": {
           "angularaxis": {
            "gridcolor": "white",
            "linecolor": "white",
            "ticks": ""
           },
           "bgcolor": "#E5ECF6",
           "radialaxis": {
            "gridcolor": "white",
            "linecolor": "white",
            "ticks": ""
           }
          },
          "scene": {
           "xaxis": {
            "backgroundcolor": "#E5ECF6",
            "gridcolor": "white",
            "gridwidth": 2,
            "linecolor": "white",
            "showbackground": true,
            "ticks": "",
            "zerolinecolor": "white"
           },
           "yaxis": {
            "backgroundcolor": "#E5ECF6",
            "gridcolor": "white",
            "gridwidth": 2,
            "linecolor": "white",
            "showbackground": true,
            "ticks": "",
            "zerolinecolor": "white"
           },
           "zaxis": {
            "backgroundcolor": "#E5ECF6",
            "gridcolor": "white",
            "gridwidth": 2,
            "linecolor": "white",
            "showbackground": true,
            "ticks": "",
            "zerolinecolor": "white"
           }
          },
          "shapedefaults": {
           "line": {
            "color": "#2a3f5f"
           }
          },
          "ternary": {
           "aaxis": {
            "gridcolor": "white",
            "linecolor": "white",
            "ticks": ""
           },
           "baxis": {
            "gridcolor": "white",
            "linecolor": "white",
            "ticks": ""
           },
           "bgcolor": "#E5ECF6",
           "caxis": {
            "gridcolor": "white",
            "linecolor": "white",
            "ticks": ""
           }
          },
          "title": {
           "x": 0.05
          },
          "xaxis": {
           "automargin": true,
           "gridcolor": "white",
           "linecolor": "white",
           "ticks": "",
           "title": {
            "standoff": 15
           },
           "zerolinecolor": "white",
           "zerolinewidth": 2
          },
          "yaxis": {
           "automargin": true,
           "gridcolor": "white",
           "linecolor": "white",
           "ticks": "",
           "title": {
            "standoff": 15
           },
           "zerolinecolor": "white",
           "zerolinewidth": 2
          }
         }
        },
        "xaxis": {
         "anchor": "y",
         "domain": [
          0,
          1
         ],
         "title": {
          "text": "time"
         }
        },
        "yaxis": {
         "anchor": "x",
         "domain": [
          0,
          1
         ],
         "title": {
          "text": "value"
         }
        }
       }
      }
     },
     "metadata": {},
     "output_type": "display_data"
    },
    {
     "data": {
      "application/vnd.plotly.v1+json": {
       "config": {
        "plotlyServerURL": "https://plot.ly"
       },
       "data": [
        {
         "hovertemplate": "variable=A<br>time=%{x}<br>value=%{y}<extra></extra>",
         "legendgroup": "A",
         "line": {
          "color": "#636efa",
          "dash": "solid"
         },
         "marker": {
          "symbol": "circle"
         },
         "mode": "lines",
         "name": "A",
         "showlegend": true,
         "type": "scattergl",
         "x": {
          "bdata": "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",
          "dtype": "i2"
         },
         "xaxis": "x",
         "y": {
          "bdata": "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",
          "dtype": "f8"
         },
         "yaxis": "y"
        },
        {
         "hovertemplate": "variable=B<br>time=%{x}<br>value=%{y}<extra></extra>",
         "legendgroup": "B",
         "line": {
          "color": "#EF553B",
          "dash": "solid"
         },
         "marker": {
          "symbol": "circle"
         },
         "mode": "lines",
         "name": "B",
         "showlegend": true,
         "type": "scattergl",
         "x": {
          "bdata": "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",
          "dtype": "i2"
         },
         "xaxis": "x",
         "y": {
          "bdata": "k/Opv0N5xL/hm/w2Fv7QvxQ+JG/yd+K/gBWzXmXe079rVUP+B+zWvxIYFH7zI9C/g1rNE+rkw79pxO+PZAbAv6Rqd8yg0c+/dxooncAZ4b91uZ7o1I7Qv7wMK2Tp282/ndxetfnPx7/N0wVEn3pzP/zE4Sk3TeG/yV9MWBYT3L/DK+2uo5TFvyq5hyF0Rta/D/0gy4qz4L/fPxFPD4jiv78EdQzlVdy/fK7f0oVxyL/MVUIWflrXv8FcU7JcvZU/+8+2eIe80r9LDJCnLdbuP3HPXI4T0uE/7wy9wot3yL9SGv2sd1HPv0SfYgPkate/wBnbN0FT3b/aT/IiDhHZv87fg6bH5d+/YOLu7bo91L8ITC07r/PTvyR7yK/W/c6/n3urfmwZ4L/O3otnAnrVvyB0vE2Gstq/qYSUtiHF2r+mgsyiDqC+v/L+hG0pDpq//cxwaJOahD+/uQ88Qzy8P9W5faJGVrk/JRqxuANHtr8uviuGia2/vxu5fKtXVsi/6wpbUjRHyr/9EQPCLzO9v0lQp48u2sq/M6QDfPY8sj/cljRmIArRP41TVR+svKq/k256POCNwT+FU0nqkOeqP/xbaCMBDcG/Qv7E8ujK3L85RfK8tmPZv/f7ORWBqt6/GHrl43bC278i1SWMkyzZv0mPoD3evNK/iEAtQNJSxb9yBnPFz+jSvziMLT/Jr9u/lFwfjDMY07+BwS7G6pGdv3KA+HYGbta/Wmjt/3IruL+pd40ftEnMvyNHgqIU5NO/fTai7X2I4L97918YfYnXv2z0wbYrW+C/lR3LtXdb3L9m1gZFStjLP5Wp7wdakc8/dblZWISHo78eYqc29pebv42K21WVXfA/1G3Y37FE8D+5gplj47LGP7cJAM669dS/l3aaWzbm07+R2FFTTLvQv2MIVmFFwfk/+tiQA3tUuz/hFUQFFf7Tv2ObaxnArdS/8+GULa8g1L/F3OKUQRLQPyIcyjWfRdi/4WUJjlSF2L+MLu9trxrZv/jWARGZyd2/alw/9bLZ2b/KWhrdeJHWv8DPEUoWvN6/Fem6KjzN1L/Xb99VmWLAv/si3J3qJvI/feLwHPgHxr/OLxO7Tbmyv40gBp41j+g/jR/+P897uD+s+QyrKRPAv9RDl4eO8NG/RDfw/egoxL9iYtqzbk7Sv1wp+oQ2ocy/oSL52ocp1L8wEWMDXFPBv9BCGNiYJ9w/ppVwsdv4uL9c1d6a7h+wvwAjqH+1icG/B0dK1PU05j8sOw0O1tPeP5scBd++7+A/DuQ8KiZBur8A5C83XEXMvwZY3DP5asW/M91GbPL78D/PCWDM0ftmv0O2/NPc6fM//GjfutBfeD9AHPQ8lk6vv6p871999by/W6jvqjYmz79JjUVZzzXTv/pyjbiRgN6/CUrvB1hgu786MS02M4Liv+eZakktt+K/YWDG0KkM3r/xOcTRWnrfv5mJlfFzH82/g0SEjR82vT/04CRTd0Lfv/H+HwRH94a/NXg8IDGr4L/EZFP8L3LTv8UFi7PEv9y/M1wHgR9W478Tl7NytYfZv0Uz0Jb+ReS/Dri4o2wf179rfu24JUjhv3osDBqq+N6/QCLQB+TA3b/W8dulkMHbvx+ti3TBBNS/5YvOrgRd4L/mvEc9sH/hv22+5g5Yc92/sLcTIKIc3b/4UI/GlN/jv/WCE1LaNeK/LzzCPsLy2b+TosuBkgbhv/KS/MDKD9e/keJThpaj4L9v6Vg9QBDev4qXLEIE2Nm/Ob+NEafjwL8A1+q/Lj3cP6EmBdTk2MU/XnVmkXT7xb99SFjLTqSoP92hHtELF9i/axlF5niy2b+AeQbnZtfNv20rYnz9Ite/K2VrJ/jY3r/5+4tH8WTfv/VxPpHtzty/VsZSof3O3L+L9AN/P2Phv1PcfbtMUNq/hpIXQDxS3L8yu7d1nyPcv2bTMsVMGOK/lDjxha4H2L8u5Lwo0D7hvy7LsNSord+/spDfa7NY278CRcqn8KLdvwRsoj+igd+/wUxmBvRu4r8YKy1LLRfWv9qBarg7StS/T+3SJKi64b98NX/ekbngvxEIermnw9u/vfFd9Gtb3b85G+9+hr3fvyR/vkE36uG/GACVyGA24r+AlULCBFbUv4kC4UE6Ld+/C+pozEZH278ev10HtVvVv8P+yduQPdO/pUg+89tE0r+UEWh6+L/UvwARxfw7msm/qlXWX7iI1L8c/D0/PHvYvwFRCzHCY+C/FCnHHDKx3b/5xEdr2PPhv3sIgMAz1d2/8PPnia5f4b/SqEEVmmLYv8oxPFFqOcs/Aww/u/2o079OPT1d4ZXevwx4o7mp6OC/4HvI+JpW078XPbrZGcutP9NElWIDDtm/PGaTMROCuj+rzyJIQ1a7P27h9Bpkjdq/znYQi4mO4r+IrXBzKqvbv1VrLvEKStu/OkaN6dOn37/U7KquOCGivwU5Zj3G9uO/0ULzhc5M179robizm2DevzeGSAtkM+C/LKMO+ROR379y3OV/WmSzP3FLj2elNGS/nZWUsP1Gm78SHjOZjB+Mv4wnK/R2w9S/fCWvc+cd378fUIWnadvYvxk5REG7Wde/ltg1pE9o0r/eBM3GeMXcv/zQGJhqVuO/XdNi43Qj2L9YgyUODqrgv19ILHbnlNi/m4M+h5M/4L9puJN7YhLhv04wzc69+tS/zreW7KVr3r/WUnra1BfRv0oJkvNzlLW/ndbxf/xk1L8Og0aTPSvGvzHY332gXMU/qXSzzBGxrT9RTfz0u+jJv111lAsG5c2/V9w5Nzkvtb813V/1xrfNP0blPWtLmsE/ew6YWEG30r/figU0aPXUvzXZuC0Tcdm/a3KWiKCZ27+8q2fu0cPTv+ky1cRBvuC/fl8oPm1D17/LZgOGpUbgvwoQFmWCmN+/imZ4Lhao37/sNUaa6GTgv5NPQZNTVeG/lJU/ReQ40L/qkkwgUdfYv6yM7dDNp9+/x3+ye6s94r/ZBNgTg5Xiv8RcPvXKzeS/PWC5LYxYzL/c/b1u9o7jv4y2gj5aGeG/GSIWNiYJ3b+Lw/E1Bg3iv5ArfJ7YFuK/21zdVxc3y7/1WkrgCp3hv4lBwG0eL9q/9AZoaWEa3797ThJRUD/hv0Z/JU30K+C/8M/z+fmX2b+1na13jS3Pv1emp1g1X+C/4lbiOmWA3b9eqZjONpPYv30NwLX0mc6/FAZ3SBPg4L9ylbj/NGThv7/N1eYUPte/kCXNf0DF379FhSkrLV7gv3TjM1k2/eC/QFrVbZ9b4L+DOzfwnCHevxScb3e0ZNy/zHCCKt8a4b9+OkztPRPev0mBwvT7XuC/pHZ+HlfF4b9tOJIkoEjhv6cdmoqyTt2/qQzFsefW1L+mM+NYOKrfv8DD58GKudy/+0URVh810b9I9bBaLp7avx4PaS23VOK/CX58tejy27/48eTHLYjgv+YNixmw7Li//ogPbq/8478ea5Z092zcv0pctBkS4OG/aAJySd+VyL9UMlZXRQLJPzmSxEK218a/82r/DKxI4L8STJ91iiHVv4aKKZpWatu/2TZWH0K83b+pZ7VNBRHbv0hzncQaDMa/BCNtO/aX1782VpEeRXrZv9pMcrp+/M6/RO3zrkR+379PaquYLNrZv5PoPXrBvdy/foja1AZe3L9ccW7QMyLdv5x0cA6CYt6/gnnJJ0n30T/fsjiM0ZvRv+W7R+dHJte/p5mqUmJbz7+0b0IlAEzgvwBgWt8HXNC/4WPRtOJT17/7qtoKBvfWvwWwOE58U8c/EUtLwdCz2b9Oa/jrlLHZv9oawkIxqd6/osIUyBN96D8Rd4SxrjvXvyyoMycDfuc/3MT5kPAg2r+QJCZmR/ziv04a6Fs/0MK/SQ6WKlP8yr8knfT7ViHRv1ict8Dklcu/hGwzbeZX3b9KoigtAm7evxm+WOWOStG/coa4D3PFvb8jtMr0doDVv9VxY0Rlgta/t/1rPpnM3b9VYgR2EKbbv4yS+FxQgt6/1v/uZaUP0L8Xcc2Olw/Wv4zsLWIIAty/4CzeUvzw0b+uHDhV/LrWvypMxqbeJug/7YL/xEOMQj/npzGhf/HWvyNl5hwYVNu/r6fAekjw079kDx8o/2Tiv31BoGexBNm/aMXWQOeE2b+AetB6c7LXv5+4ajcnu+C/+wOMsdRB5b9unzHaXo3Cv4Pkw+mzlN2/Db63P9i35D+EaEtfGw7Nv5+zyq8d1H8/73+UXS4lwr9Sq4AvgWLXv+emGKtDIc2/2kXPX1TB1r90swdPHr3fvx6UUbSCXsQ/vWL9HD2E17/+rhk4V4Hev/you7fvlN+/EhNQYd+D4r8BMO7fzqDHv0cMASsOrOQ/NZXMpas60L/hR8LeqTzbv/tt18M1QNW//dHvj7XLxD+U4d6L32zevy+9rMtTaNq/5XpOyytV2r+oL9dSxWZuPzfJ5/+cJ9e/HAV1Yh96378OxR203M3gvwKed2mjq9e/v8LVXOg5zr9sI/mPRZ3Yvz1uF/nQtNy/ZEZiaAci3b9LjVtONsDiv76pt+vfJuC/w0t0HeMQ0L/e/nNIcJTZv4VK1/dgBdI/SmaejcD8jz9jFhiBUEvev0rpmqlNf+C/LNkZCqpz2r8C3vTRKhnjv2qjmWnW+t6/+LhOSEvf3L8zD9Yj0+LWvxRIWVOM99a/XKb74pWf1r9SmeYiiIHcv1VbStTc+dy/9LspEPn71r8a90ef0yTLv7rUl+IV2sA/HupxU/N127+n5SPPC7/Uv4xUZMvwJtu/4FoiuDUB3b+8YRnrCrbGv9kn5lu5+f0/9/8tB1dHsD8Aa9rGf7nWv3EnWvC+KtG/3Lo1XddFwb8+Me22+Tnev9rU72CMhNC/RF8FNh3C2796G1wxQqTavwNUgXejmNG/aERsMvh/4b8Xwkqvw8Xev1s3lKOmDuS/3nm4BPJF3r8EOQuT61nhvyj2Gpp0ld6/OEiOMEkE379VwLDPl4Xhv48iXAZJK96/QlxF8y543r/0LdEaY9viv32DbAvxF+G/FA4saz+r379vFT+E+PPcv3JQt151Ltu//cSOTiTU4b8WTIP2sZHdv6C162hflta/TsVkXUNRyr9HQ+Yl+Y7gvykypiXk9uC/kpIZoFq14L9A+TH8ydjjv6jQVcycmOK/rey1LgBs4r/V13GNkEnavyCz5FepWuC/boBwZ5TF4r8fpTyhlJvhv988wVH94+G/3JQ2+9g44b9qZh6WkVfiv4J/uWLBSuG/4hwtaF1P2r8Dmw5BXUXgv8QmyNfTzd6/NRD0HX3J4b/n04ELr2fkv8BNHLPpz9+/f7mrc1Pu4L8ogNKZ0JPhv3M2b4dq4OC/55mOh71J47+8qL9r8MThvw2MjTHLXsG/bfquYf/v4L/9xqf6Qp3fP/Q73gIA/eC/Hv/oLFzf47/N4IpnHdPfv48nofiSg9q/H1qM/ffJ4r++BRHh8Ofhv0rwwVHYm9m/fAMUX5Wu4b+D6bCxDjPhvxpShAkyDN+/qx9vmgUI278bn8XuNhfjv7ONh3kcR9u/E9sVgr9A3r+Ia0mxFdvdvyblW+mE6+K/EoHybQk84b8iB+uqkCbXv4VZcAgPZte/QU2y3goM4L+Tst6YJtTjvz8z2jLao9K/+jHuv/0U2r+tDxHu6rHgv3zLj2xmxeG/k8FzapZz4r/GsNXS7srgv2x+p4hyOeG/UooXDWVK4r83S+CX7NbjvxWstfeX++K/aTpwcspK4L8SIO2Y0MHdvz9cmiRq9t+/bbcUFm0Z4r8/n4KM9yTjv4Bx/2mgyd+/leXPJn/k4r8R1jHjmHjbv4UrOO28I+O/D2M4JAPg1b9X7E0ehK/hv9Gk+Ohpk92/bDlrw8Ww4b+r+Npmngjav5AH+Se/DuG/+8qFKT974r+f5jaAK2Lev6jTGXhxAOG/WuwJ7uvH4L+gL/gvEL3jv7Qb4I2AJuC/oX+grF7B479Sa+yLklbdv97TRC9siuC/7xhJTEO24r8rQqb8A5Phv8fiLfBSNN+/s/EMgFly37/Qu5O5Y8Lhv679pmLS1+W/Q2SjABry3L/GtjU7iyflvxJ+5BRu1dq/uCihVBrL4L8yqUOoyTTjv1LVtMzPCuK/C1qVLiq437+MtZ5Ky5Tlv6W2EFT1wuG/nyQcvBfT279/cam4TH/gv2xXeFyTbOK/IrOmBYhU378l6+YvyGDhv30Poq5YV96/p2VuZr1X479JYjpKu9zbv1yxQtASm9i/SSlEy+y247+OhmUSBnPmv9dGQzArOeC/+Q/0tFatyb8t0zTzwsXgv1DEojg9s+O/x3LbRQWH4L+AwaNWDD7cvwekGSL0SeK/ayg8g56A3r8pVWVoxKDfv/QuxEpkC+K/pbJ84F+S4L/5Ckc45CPhv0k+tVllgOC/986PmcOi4b8hV6TIS4Lgvxv+g74KgeG/BsYcvs2u4b8chtky0sLjvzeAkNEZS+G/EBBx0LnqwD9jg6cQAjzfv8Q4WJEWSNa/8fo/qv4+4L9r0X4u4eXivyNgeARbldu/Trz0/mmt2b9qQFcpY5vjv/WNGtryGOW/tuXiGksS4L8X+ZWPwE3jv/1uugs/gtq/pzBazO0o4r/zmZ8wJBrgv28fbIRja+G/4zYETP8g4r9AK8UU+n/Xv8El2ejv1t2/ghcDBUiK4r/7NtzQPifjv/sBV5p7c+K/LzCNjkcd4L9SrfqIYwjjvyho7OTX8uO/Cy8R0YL34r9L1NaYVrHdvzwKfcaZQt6/QlWszkrk4b+7LB6B48ffv6TBkoYI7OG/VZZgqQ6J47+lCFroqUzjv6ukUsrc/+G/4lGandfe37+pz2VzQ5HTv7Qm3FyOd+G/DgEqvt7T479I0hgmGozgv65hRkOeVeC/p4FtDW9n+D9WiP6YtV3Vv23DwYVwodW/6xnaxL261r+o00KfCtHVvzcvKHJG+uG/jZM7K9TI17+oX6EqPLnhv/CAp9I5ceK/Ldln3Hkb379PgwAG1gbkv24DSpxL99q/7IfM3NCc0L9kT21UT/3Qv1AsTnWQ/Na/rynZAvle3L8iqJWdGKHiv+lFOqOwCeG/ROH6kkONtj80zP4nHkG2P4JLOQ8UP9K/YLvLN5vU2b9Acphbg77iv0576fu4+OC/Z6VQ++ce3r81RmodWYXiv7CvR35KmeW/sZ5lMm/v1r+cfB+g2R3cvwnCmYXH2c+/40naRYE9079zAiXfkHPbvyIUJXTTidG/e4WLg+nv4L+zUk/+ha3Zv8vFOFWlzd6/bWYGqVbo2b/TjpDrML7Yv1QJhpZx6de/KFEl7+bp0r9Y0RnqjLnhv5NdfTKUStS/InT8lJS837+VC2cOLZXhvyoFg3BaEOG/5RD4dA603b/BTAyeH0fMv+04c917AuS/T+6vDBI12b8hRDpogiLev8Y1XhN5y96/FsWvXR0S4L+67ks/RVHfv4h1kDaUy+C/aXA5OtN53r/29G9H7Ffbv6gZe54/EOW/hDWW3sCd3r9lVQ0GqkHkvwUaFnkug9a/dZicQLW1zL9U1Er0kLfXvwehKIq+1dW/i/yBW0gp3L/DJ34DOM/Vvyz04jKhLNa/ct2dt9VL2r9De1TOmuHVv6PGsSIJu9u/A8OUIE2+5b//A4F/IxTZv5EVMSeUftm/Vp79qrh/378LNprdcuPgv2NfLYE1DOC/my56JCWi4L9PRY/OU4Phv50zCucSidu/D6/aoTJ44L+wamouM/Hdv3/Tqhj7qNO/3UWDE90q3b8itkajYK3Zv+GUTibE08O//gyFbiNKtz/HTD14bb7Uvwio5fYS29q/SKsQPY8F07/+EmGE1pfYv40GEf676tO/nOyEF9uF2r+N78bedqXjv3B1Z/OyWeG/+Ggg4fFf4L9SPiUSE6rdvwoW4+AXDOG/AQbUquqR4b9dC8vpQibgv4HTCqgD4d2/KSXiw1wG2r+zouHSNKTVv1HU0fYgFdu/il+E0Q623L+WcTu6+yLbv1hoWMYBUd+/ydTEwLeMmL88uCkvFdzAv67tJJgAgdO/1N4dnP332L9+h49Itn3Zv8f1ZlpPCuK/",
          "dtype": "f8"
         },
         "yaxis": "y"
        },
        {
         "hovertemplate": "variable=D<br>time=%{x}<br>value=%{y}<extra></extra>",
         "legendgroup": "D",
         "line": {
          "color": "#00cc96",
          "dash": "solid"
         },
         "marker": {
          "symbol": "circle"
         },
         "mode": "lines",
         "name": "D",
         "showlegend": true,
         "type": "scattergl",
         "x": {
          "bdata": "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",
          "dtype": "i2"
         },
         "xaxis": "x",
         "y": {
          "bdata": "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",
          "dtype": "f8"
         },
         "yaxis": "y"
        },
        {
         "hovertemplate": "variable=F<br>time=%{x}<br>value=%{y}<extra></extra>",
         "legendgroup": "F",
         "line": {
          "color": "#ab63fa",
          "dash": "solid"
         },
         "marker": {
          "symbol": "circle"
         },
         "mode": "lines",
         "name": "F",
         "showlegend": true,
         "type": "scattergl",
         "x": {
          "bdata": "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",
          "dtype": "i2"
         },
         "xaxis": "x",
         "y": {
          "bdata": "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",
          "dtype": "f8"
         },
         "yaxis": "y"
        },
        {
         "hovertemplate": "variable=I<br>time=%{x}<br>value=%{y}<extra></extra>",
         "legendgroup": "I",
         "line": {
          "color": "#FFA15A",
          "dash": "solid"
         },
         "marker": {
          "symbol": "circle"
         },
         "mode": "lines",
         "name": "I",
         "showlegend": true,
         "type": "scattergl",
         "x": {
          "bdata": "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",
          "dtype": "i2"
         },
         "xaxis": "x",
         "y": {
          "bdata": "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",
          "dtype": "f8"
         },
         "yaxis": "y"
        },
        {
         "hovertemplate": "variable=K<br>time=%{x}<br>value=%{y}<extra></extra>",
         "legendgroup": "K",
         "line": {
          "color": "#19d3f3",
          "dash": "solid"
         },
         "marker": {
          "symbol": "circle"
         },
         "mode": "lines",
         "name": "K",
         "showlegend": true,
         "type": "scattergl",
         "x": {
          "bdata": "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",
          "dtype": "i2"
         },
         "xaxis": "x",
         "y": {
          "bdata": "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",
          "dtype": "f8"
         },
         "yaxis": "y"
        },
        {
         "hovertemplate": "variable=L<br>time=%{x}<br>value=%{y}<extra></extra>",
         "legendgroup": "L",
         "line": {
          "color": "#FF6692",
          "dash": "solid"
         },
         "marker": {
          "symbol": "circle"
         },
         "mode": "lines",
         "name": "L",
         "showlegend": true,
         "type": "scattergl",
         "x": {
          "bdata": "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",
          "dtype": "i2"
         },
         "xaxis": "x",
         "y": {
          "bdata": "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",
          "dtype": "f8"
         },
         "yaxis": "y"
        },
        {
         "hovertemplate": "variable=Y2<br>time=%{x}<br>value=%{y}<extra></extra>",
         "legendgroup": "Y2",
         "line": {
          "color": "#B6E880",
          "dash": "solid"
         },
         "marker": {
          "symbol": "circle"
         },
         "mode": "lines",
         "name": "Y2",
         "showlegend": true,
         "type": "scattergl",
         "x": {
          "bdata": "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",
          "dtype": "i2"
         },
         "xaxis": "x",
         "y": {
          "bdata": "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",
          "dtype": "f8"
         },
         "yaxis": "y"
        }
       ],
       "layout": {
        "height": 500,
        "legend": {
         "title": {
          "text": "variable"
         },
         "tracegroupgap": 0
        },
        "margin": {
         "t": 60
        },
        "shapes": [
         {
          "line": {
           "color": "black"
          },
          "type": "line",
          "x0": 252,
          "x1": 252,
          "xref": "x",
          "y0": 0,
          "y1": 1,
          "yref": "y domain"
         },
         {
          "line": {
           "color": "black"
          },
          "type": "line",
          "x0": 504,
          "x1": 504,
          "xref": "x",
          "y0": 0,
          "y1": 1,
          "yref": "y domain"
         }
        ],
        "template": {
         "data": {
          "bar": [
           {
            "error_x": {
             "color": "#2a3f5f"
            },
            "error_y": {
             "color": "#2a3f5f"
            },
            "marker": {
             "line": {
              "color": "#E5ECF6",
              "width": 0.5
             },
             "pattern": {
              "fillmode": "overlay",
              "size": 10,
              "solidity": 0.2
             }
            },
            "type": "bar"
           }
          ],
          "barpolar": [
           {
            "marker": {
             "line": {
              "color": "#E5ECF6",
              "width": 0.5
             },
             "pattern": {
              "fillmode": "overlay",
              "size": 10,
              "solidity": 0.2
             }
            },
            "type": "barpolar"
           }
          ],
          "carpet": [
           {
            "aaxis": {
             "endlinecolor": "#2a3f5f",
             "gridcolor": "white",
             "linecolor": "white",
             "minorgridcolor": "white",
             "startlinecolor": "#2a3f5f"
            },
            "baxis": {
             "endlinecolor": "#2a3f5f",
             "gridcolor": "white",
             "linecolor": "white",
             "minorgridcolor": "white",
             "startlinecolor": "#2a3f5f"
            },
            "type": "carpet"
           }
          ],
          "choropleth": [
           {
            "colorbar": {
             "outlinewidth": 0,
             "ticks": ""
            },
            "type": "choropleth"
           }
          ],
          "contour": [
           {
            "colorbar": {
             "outlinewidth": 0,
             "ticks": ""
            },
            "colorscale": [
             [
              0,
              "#0d0887"
             ],
             [
              0.1111111111111111,
              "#46039f"
             ],
             [
              0.2222222222222222,
              "#7201a8"
             ],
             [
              0.3333333333333333,
              "#9c179e"
             ],
             [
              0.4444444444444444,
              "#bd3786"
             ],
             [
              0.5555555555555556,
              "#d8576b"
             ],
             [
              0.6666666666666666,
              "#ed7953"
             ],
             [
              0.7777777777777778,
              "#fb9f3a"
             ],
             [
              0.8888888888888888,
              "#fdca26"
             ],
             [
              1,
              "#f0f921"
             ]
            ],
            "type": "contour"
           }
          ],
          "contourcarpet": [
           {
            "colorbar": {
             "outlinewidth": 0,
             "ticks": ""
            },
            "type": "contourcarpet"
           }
          ],
          "heatmap": [
           {
            "colorbar": {
             "outlinewidth": 0,
             "ticks": ""
            },
            "colorscale": [
             [
              0,
              "#0d0887"
             ],
             [
              0.1111111111111111,
              "#46039f"
             ],
             [
              0.2222222222222222,
              "#7201a8"
             ],
             [
              0.3333333333333333,
              "#9c179e"
             ],
             [
              0.4444444444444444,
              "#bd3786"
             ],
             [
              0.5555555555555556,
              "#d8576b"
             ],
             [
              0.6666666666666666,
              "#ed7953"
             ],
             [
              0.7777777777777778,
              "#fb9f3a"
             ],
             [
              0.8888888888888888,
              "#fdca26"
             ],
             [
              1,
              "#f0f921"
             ]
            ],
            "type": "heatmap"
           }
          ],
          "histogram": [
           {
            "marker": {
             "pattern": {
              "fillmode": "overlay",
              "size": 10,
              "solidity": 0.2
             }
            },
            "type": "histogram"
           }
          ],
          "histogram2d": [
           {
            "colorbar": {
             "outlinewidth": 0,
             "ticks": ""
            },
            "colorscale": [
             [
              0,
              "#0d0887"
             ],
             [
              0.1111111111111111,
              "#46039f"
             ],
             [
              0.2222222222222222,
              "#7201a8"
             ],
             [
              0.3333333333333333,
              "#9c179e"
             ],
             [
              0.4444444444444444,
              "#bd3786"
             ],
             [
              0.5555555555555556,
              "#d8576b"
             ],
             [
              0.6666666666666666,
              "#ed7953"
             ],
             [
              0.7777777777777778,
              "#fb9f3a"
             ],
             [
              0.8888888888888888,
              "#fdca26"
             ],
             [
              1,
              "#f0f921"
             ]
            ],
            "type": "histogram2d"
           }
          ],
          "histogram2dcontour": [
           {
            "colorbar": {
             "outlinewidth": 0,
             "ticks": ""
            },
            "colorscale": [
             [
              0,
              "#0d0887"
             ],
             [
              0.1111111111111111,
              "#46039f"
             ],
             [
              0.2222222222222222,
              "#7201a8"
             ],
             [
              0.3333333333333333,
              "#9c179e"
             ],
             [
              0.4444444444444444,
              "#bd3786"
             ],
             [
              0.5555555555555556,
              "#d8576b"
             ],
             [
              0.6666666666666666,
              "#ed7953"
             ],
             [
              0.7777777777777778,
              "#fb9f3a"
             ],
             [
              0.8888888888888888,
              "#fdca26"
             ],
             [
              1,
              "#f0f921"
             ]
            ],
            "type": "histogram2dcontour"
           }
          ],
          "mesh3d": [
           {
            "colorbar": {
             "outlinewidth": 0,
             "ticks": ""
            },
            "type": "mesh3d"
           }
          ],
          "parcoords": [
           {
            "line": {
             "colorbar": {
              "outlinewidth": 0,
              "ticks": ""
             }
            },
            "type": "parcoords"
           }
          ],
          "pie": [
           {
            "automargin": true,
            "type": "pie"
           }
          ],
          "scatter": [
           {
            "fillpattern": {
             "fillmode": "overlay",
             "size": 10,
             "solidity": 0.2
            },
            "type": "scatter"
           }
          ],
          "scatter3d": [
           {
            "line": {
             "colorbar": {
              "outlinewidth": 0,
              "ticks": ""
             }
            },
            "marker": {
             "colorbar": {
              "outlinewidth": 0,
              "ticks": ""
             }
            },
            "type": "scatter3d"
           }
          ],
          "scattercarpet": [
           {
            "marker": {
             "colorbar": {
              "outlinewidth": 0,
              "ticks": ""
             }
            },
            "type": "scattercarpet"
           }
          ],
          "scattergeo": [
           {
            "marker": {
             "colorbar": {
              "outlinewidth": 0,
              "ticks": ""
             }
            },
            "type": "scattergeo"
           }
          ],
          "scattergl": [
           {
            "marker": {
             "colorbar": {
              "outlinewidth": 0,
              "ticks": ""
             }
            },
            "type": "scattergl"
           }
          ],
          "scattermap": [
           {
            "marker": {
             "colorbar": {
              "outlinewidth": 0,
              "ticks": ""
             }
            },
            "type": "scattermap"
           }
          ],
          "scattermapbox": [
           {
            "marker": {
             "colorbar": {
              "outlinewidth": 0,
              "ticks": ""
             }
            },
            "type": "scattermapbox"
           }
          ],
          "scatterpolar": [
           {
            "marker": {
             "colorbar": {
              "outlinewidth": 0,
              "ticks": ""
             }
            },
            "type": "scatterpolar"
           }
          ],
          "scatterpolargl": [
           {
            "marker": {
             "colorbar": {
              "outlinewidth": 0,
              "ticks": ""
             }
            },
            "type": "scatterpolargl"
           }
          ],
          "scatterternary": [
           {
            "marker": {
             "colorbar": {
              "outlinewidth": 0,
              "ticks": ""
             }
            },
            "type": "scatterternary"
           }
          ],
          "surface": [
           {
            "colorbar": {
             "outlinewidth": 0,
             "ticks": ""
            },
            "colorscale": [
             [
              0,
              "#0d0887"
             ],
             [
              0.1111111111111111,
              "#46039f"
             ],
             [
              0.2222222222222222,
              "#7201a8"
             ],
             [
              0.3333333333333333,
              "#9c179e"
             ],
             [
              0.4444444444444444,
              "#bd3786"
             ],
             [
              0.5555555555555556,
              "#d8576b"
             ],
             [
              0.6666666666666666,
              "#ed7953"
             ],
             [
              0.7777777777777778,
              "#fb9f3a"
             ],
             [
              0.8888888888888888,
              "#fdca26"
             ],
             [
              1,
              "#f0f921"
             ]
            ],
            "type": "surface"
           }
          ],
          "table": [
           {
            "cells": {
             "fill": {
              "color": "#EBF0F8"
             },
             "line": {
              "color": "white"
             }
            },
            "header": {
             "fill": {
              "color": "#C8D4E3"
             },
             "line": {
              "color": "white"
             }
            },
            "type": "table"
           }
          ]
         },
         "layout": {
          "annotationdefaults": {
           "arrowcolor": "#2a3f5f",
           "arrowhead": 0,
           "arrowwidth": 1
          },
          "autotypenumbers": "strict",
          "coloraxis": {
           "colorbar": {
            "outlinewidth": 0,
            "ticks": ""
           }
          },
          "colorscale": {
           "diverging": [
            [
             0,
             "#8e0152"
            ],
            [
             0.1,
             "#c51b7d"
            ],
            [
             0.2,
             "#de77ae"
            ],
            [
             0.3,
             "#f1b6da"
            ],
            [
             0.4,
             "#fde0ef"
            ],
            [
             0.5,
             "#f7f7f7"
            ],
            [
             0.6,
             "#e6f5d0"
            ],
            [
             0.7,
             "#b8e186"
            ],
            [
             0.8,
             "#7fbc41"
            ],
            [
             0.9,
             "#4d9221"
            ],
            [
             1,
             "#276419"
            ]
           ],
           "sequential": [
            [
             0,
             "#0d0887"
            ],
            [
             0.1111111111111111,
             "#46039f"
            ],
            [
             0.2222222222222222,
             "#7201a8"
            ],
            [
             0.3333333333333333,
             "#9c179e"
            ],
            [
             0.4444444444444444,
             "#bd3786"
            ],
            [
             0.5555555555555556,
             "#d8576b"
            ],
            [
             0.6666666666666666,
             "#ed7953"
            ],
            [
             0.7777777777777778,
             "#fb9f3a"
            ],
            [
             0.8888888888888888,
             "#fdca26"
            ],
            [
             1,
             "#f0f921"
            ]
           ],
           "sequentialminus": [
            [
             0,
             "#0d0887"
            ],
            [
             0.1111111111111111,
             "#46039f"
            ],
            [
             0.2222222222222222,
             "#7201a8"
            ],
            [
             0.3333333333333333,
             "#9c179e"
            ],
            [
             0.4444444444444444,
             "#bd3786"
            ],
            [
             0.5555555555555556,
             "#d8576b"
            ],
            [
             0.6666666666666666,
             "#ed7953"
            ],
            [
             0.7777777777777778,
             "#fb9f3a"
            ],
            [
             0.8888888888888888,
             "#fdca26"
            ],
            [
             1,
             "#f0f921"
            ]
           ]
          },
          "colorway": [
           "#636efa",
           "#EF553B",
           "#00cc96",
           "#ab63fa",
           "#FFA15A",
           "#19d3f3",
           "#FF6692",
           "#B6E880",
           "#FF97FF",
           "#FECB52"
          ],
          "font": {
           "color": "#2a3f5f"
          },
          "geo": {
           "bgcolor": "white",
           "lakecolor": "white",
           "landcolor": "#E5ECF6",
           "showlakes": true,
           "showland": true,
           "subunitcolor": "white"
          },
          "hoverlabel": {
           "align": "left"
          },
          "hovermode": "closest",
          "mapbox": {
           "style": "light"
          },
          "paper_bgcolor": "white",
          "plot_bgcolor": "#E5ECF6",
          "polar": {
           "angularaxis": {
            "gridcolor": "white",
            "linecolor": "white",
            "ticks": ""
           },
           "bgcolor": "#E5ECF6",
           "radialaxis": {
            "gridcolor": "white",
            "linecolor": "white",
            "ticks": ""
           }
          },
          "scene": {
           "xaxis": {
            "backgroundcolor": "#E5ECF6",
            "gridcolor": "white",
            "gridwidth": 2,
            "linecolor": "white",
            "showbackground": true,
            "ticks": "",
            "zerolinecolor": "white"
           },
           "yaxis": {
            "backgroundcolor": "#E5ECF6",
            "gridcolor": "white",
            "gridwidth": 2,
            "linecolor": "white",
            "showbackground": true,
            "ticks": "",
            "zerolinecolor": "white"
           },
           "zaxis": {
            "backgroundcolor": "#E5ECF6",
            "gridcolor": "white",
            "gridwidth": 2,
            "linecolor": "white",
            "showbackground": true,
            "ticks": "",
            "zerolinecolor": "white"
           }
          },
          "shapedefaults": {
           "line": {
            "color": "#2a3f5f"
           }
          },
          "ternary": {
           "aaxis": {
            "gridcolor": "white",
            "linecolor": "white",
            "ticks": ""
           },
           "baxis": {
            "gridcolor": "white",
            "linecolor": "white",
            "ticks": ""
           },
           "bgcolor": "#E5ECF6",
           "caxis": {
            "gridcolor": "white",
            "linecolor": "white",
            "ticks": ""
           }
          },
          "title": {
           "x": 0.05
          },
          "xaxis": {
           "automargin": true,
           "gridcolor": "white",
           "linecolor": "white",
           "ticks": "",
           "title": {
            "standoff": 15
           },
           "zerolinecolor": "white",
           "zerolinewidth": 2
          },
          "yaxis": {
           "automargin": true,
           "gridcolor": "white",
           "linecolor": "white",
           "ticks": "",
           "title": {
            "standoff": 15
           },
           "zerolinecolor": "white",
           "zerolinewidth": 2
          }
         }
        },
        "xaxis": {
         "anchor": "y",
         "domain": [
          0,
          1
         ],
         "title": {
          "text": "time"
         }
        },
        "yaxis": {
         "anchor": "x",
         "domain": [
          0,
          1
         ],
         "title": {
          "text": "value"
         }
        }
       }
      }
     },
     "metadata": {},
     "output_type": "display_data"
    }
   ],
   "source": [
    "fig = px.line(train_data[:756], x=\"time\", y=set1, height=500)\n",
    "fig.add_vline(x=252, line_color=\"black\")\n",
    "fig.add_vline(x=504, line_color=\"black\")\n",
    "fig.show()\n",
    "\n",
    "fig = px.line(train_data[:756], x=\"time\", y=set2, height=500)\n",
    "fig.add_vline(x=252, line_color=\"black\")\n",
    "fig.add_vline(x=504, line_color=\"black\")\n",
    "fig.show()"
   ]
  },
  {
   "cell_type": "markdown",
   "id": "905b447a",
   "metadata": {},
   "source": [
    "Let's try another way :D"
   ]
  },
  {
   "cell_type": "code",
   "execution_count": null,
   "id": "df507c2b",
   "metadata": {},
   "outputs": [],
   "source": []
  },
  {
   "cell_type": "markdown",
   "id": "f6942c3e",
   "metadata": {},
   "source": [
    "### Personal: Modelling"
   ]
  },
  {
   "cell_type": "code",
   "execution_count": null,
   "id": "702e36c4",
   "metadata": {},
   "outputs": [],
   "source": []
  },
  {
   "cell_type": "markdown",
   "id": "430ba64a",
   "metadata": {},
   "source": [
    "## 3) Submit Predictions\n",
    "In order to submit predictions, we need to make a CSV file with three columns: id, Y1, and Y2. In the below example, we let our predictions of Y1 and Y2 be the means of Y1 and Y2 in the train set."
   ]
  },
  {
   "cell_type": "code",
   "execution_count": null,
   "id": "e20ed794",
   "metadata": {},
   "outputs": [
    {
     "name": "stderr",
     "output_type": "stream",
     "text": [
      "/var/folders/4g/v53gt38d68ldbz6gyhcgdc700000gn/T/ipykernel_92290/2816426628.py:2: SettingWithCopyWarning: \n",
      "A value is trying to be set on a copy of a slice from a DataFrame.\n",
      "Try using .loc[row_indexer,col_indexer] = value instead\n",
      "\n",
      "See the caveats in the documentation: https://pandas.pydata.org/pandas-docs/stable/user_guide/indexing.html#returning-a-view-versus-a-copy\n",
      "  preds['Y1'] = train_data['Y1'].mean()\n",
      "/var/folders/4g/v53gt38d68ldbz6gyhcgdc700000gn/T/ipykernel_92290/2816426628.py:3: SettingWithCopyWarning: \n",
      "A value is trying to be set on a copy of a slice from a DataFrame.\n",
      "Try using .loc[row_indexer,col_indexer] = value instead\n",
      "\n",
      "See the caveats in the documentation: https://pandas.pydata.org/pandas-docs/stable/user_guide/indexing.html#returning-a-view-versus-a-copy\n",
      "  preds['Y2'] = train_data['Y2'].mean()\n"
     ]
    },
    {
     "data": {
      "text/html": [
       "<div>\n",
       "<style scoped>\n",
       "    .dataframe tbody tr th:only-of-type {\n",
       "        vertical-align: middle;\n",
       "    }\n",
       "\n",
       "    .dataframe tbody tr th {\n",
       "        vertical-align: top;\n",
       "    }\n",
       "\n",
       "    .dataframe thead th {\n",
       "        text-align: right;\n",
       "    }\n",
       "</style>\n",
       "<table border=\"1\" class=\"dataframe\">\n",
       "  <thead>\n",
       "    <tr style=\"text-align: right;\">\n",
       "      <th></th>\n",
       "      <th>id</th>\n",
       "      <th>Y1</th>\n",
       "      <th>Y2</th>\n",
       "    </tr>\n",
       "  </thead>\n",
       "  <tbody>\n",
       "    <tr>\n",
       "      <th>0</th>\n",
       "      <td>1</td>\n",
       "      <td>-0.002807</td>\n",
       "      <td>-0.061172</td>\n",
       "    </tr>\n",
       "    <tr>\n",
       "      <th>1</th>\n",
       "      <td>2</td>\n",
       "      <td>-0.002807</td>\n",
       "      <td>-0.061172</td>\n",
       "    </tr>\n",
       "    <tr>\n",
       "      <th>2</th>\n",
       "      <td>3</td>\n",
       "      <td>-0.002807</td>\n",
       "      <td>-0.061172</td>\n",
       "    </tr>\n",
       "    <tr>\n",
       "      <th>3</th>\n",
       "      <td>4</td>\n",
       "      <td>-0.002807</td>\n",
       "      <td>-0.061172</td>\n",
       "    </tr>\n",
       "    <tr>\n",
       "      <th>4</th>\n",
       "      <td>5</td>\n",
       "      <td>-0.002807</td>\n",
       "      <td>-0.061172</td>\n",
       "    </tr>\n",
       "    <tr>\n",
       "      <th>...</th>\n",
       "      <td>...</td>\n",
       "      <td>...</td>\n",
       "      <td>...</td>\n",
       "    </tr>\n",
       "    <tr>\n",
       "      <th>15991</th>\n",
       "      <td>15992</td>\n",
       "      <td>-0.002807</td>\n",
       "      <td>-0.061172</td>\n",
       "    </tr>\n",
       "    <tr>\n",
       "      <th>15992</th>\n",
       "      <td>15993</td>\n",
       "      <td>-0.002807</td>\n",
       "      <td>-0.061172</td>\n",
       "    </tr>\n",
       "    <tr>\n",
       "      <th>15993</th>\n",
       "      <td>15994</td>\n",
       "      <td>-0.002807</td>\n",
       "      <td>-0.061172</td>\n",
       "    </tr>\n",
       "    <tr>\n",
       "      <th>15994</th>\n",
       "      <td>15995</td>\n",
       "      <td>-0.002807</td>\n",
       "      <td>-0.061172</td>\n",
       "    </tr>\n",
       "    <tr>\n",
       "      <th>15995</th>\n",
       "      <td>15996</td>\n",
       "      <td>-0.002807</td>\n",
       "      <td>-0.061172</td>\n",
       "    </tr>\n",
       "  </tbody>\n",
       "</table>\n",
       "<p>15996 rows × 3 columns</p>\n",
       "</div>"
      ],
      "text/plain": [
       "          id        Y1        Y2\n",
       "0          1 -0.002807 -0.061172\n",
       "1          2 -0.002807 -0.061172\n",
       "2          3 -0.002807 -0.061172\n",
       "3          4 -0.002807 -0.061172\n",
       "4          5 -0.002807 -0.061172\n",
       "...      ...       ...       ...\n",
       "15991  15992 -0.002807 -0.061172\n",
       "15992  15993 -0.002807 -0.061172\n",
       "15993  15994 -0.002807 -0.061172\n",
       "15994  15995 -0.002807 -0.061172\n",
       "15995  15996 -0.002807 -0.061172\n",
       "\n",
       "[15996 rows x 3 columns]"
      ]
     },
     "execution_count": 29,
     "metadata": {},
     "output_type": "execute_result"
    }
   ],
   "source": [
    "# preds = test_data[['id']]\n",
    "# preds['Y1'] = train_data['Y1'].mean()\n",
    "# preds['Y2'] = train_data['Y2'].mean()\n",
    "# preds"
   ]
  },
  {
   "cell_type": "code",
   "execution_count": null,
   "id": "0d072d58",
   "metadata": {},
   "outputs": [],
   "source": [
    "# # save preds to csv\n",
    "# preds.to_csv('preds.csv', index=False)"
   ]
  },
  {
   "cell_type": "markdown",
   "id": "3dc988b0",
   "metadata": {},
   "source": [
    "You should now be able to submit preds.csv to [https://quantchallenge.org/dashboard/data/upload-predictions](https://quantchallenge.org/dashboard/data/upload-predictions)! Note that you should receive a public $R^2$ score of $-0.042456$ with this set of predictions. You should try to get the highest possible $R^2$ score over the course of these next few days. Be careful of overfitting to the public score, which is only calculated on a subset of the test data—the final score that counts is the private $R^2$ score!"
   ]
  },
  {
   "cell_type": "markdown",
   "id": "4d6fe6c7",
   "metadata": {},
   "source": [
    "### Personal: Submit Prediction"
   ]
  },
  {
   "cell_type": "markdown",
   "id": "434f6da9",
   "metadata": {},
   "source": []
  }
 ],
 "metadata": {
  "kernelspec": {
   "display_name": "Python 3",
   "language": "python",
   "name": "python3"
  },
  "language_info": {
   "codemirror_mode": {
    "name": "ipython",
    "version": 3
   },
   "file_extension": ".py",
   "mimetype": "text/x-python",
   "name": "python",
   "nbconvert_exporter": "python",
   "pygments_lexer": "ipython3",
   "version": "3.12.1"
  }
 },
 "nbformat": 4,
 "nbformat_minor": 5
}
